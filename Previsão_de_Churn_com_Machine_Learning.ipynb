{
  "cells": [
    {
      "cell_type": "markdown",
      "metadata": {
        "id": "view-in-github",
        "colab_type": "text"
      },
      "source": [
        "<a href=\"https://colab.research.google.com/github/Jhonsilvaa/previsao-de-churn-com-machine-learning/blob/main/Previs%C3%A3o_de_Churn_com_Machine_Learning.ipynb\" target=\"_parent\"><img src=\"https://colab.research.google.com/assets/colab-badge.svg\" alt=\"Open In Colab\"/></a>"
      ]
    },
    {
      "cell_type": "markdown",
      "metadata": {
        "id": "IR56trFcPcC1"
      },
      "source": [
        "# Previsão de Churn com Machine Learning\n",
        "---\n",
        "\n",
        "O churn rate, ou simplesmente churn, é uma métrica que representa a taxa de evasão da sua base de clientes. Em outras palavras, ele indica quantos clientes cancelaram seus serviços em relação ao número total de clientes ativos em um determinado período de tempo. Essa métrica é especialmente importante para empresas que oferecem serviços por assinatura, como é o caso da Spotify e da Netflix.\n",
        "\n",
        "Em serviços como esses, o churn rate representa a taxa de cancelamento de assinaturas por parte dos usuários. Isso é relevante,porque em modelos de negócio baseados em assinaturas, a receita da empresa depende diretamente do número de clientes ativos. Se muitos clientes cancelam suas assinaturas, a empresa pode sofrer uma queda na receita e no crescimento do negócio.\n",
        "\n",
        "<p align=center>\n",
        "<img src=\"https://t4.ftcdn.net/jpg/00/10/96/53/360_F_10965318_PRRHOB8Wxbp8RCQx0jyhaUxlKZCuxJpC.jpg\" width=\"70%\"></p>\n",
        "\n",
        "**Churn** também pode ser usado para identificar potenciais cancelamentos, com um tempo de antecedência, e promover ações direcionadas para tentar reter tais clientes. Essa métrica deve receber atenção pelo fato de que o Custo de Aquisição de Cliente (CAC) é normalmente mais alto que o custo para mantê-los. Ou seja, um alto valor para o *churn rate* é o que não desejamos.\n",
        "\n",
        "Neste projeto, o objetivo é criar um modelo que seja capaz de identificar com os clientes que têm maior probabilidade de cancelar seus serviços. Isso permitirá que a empresa adote estratégias proativas para reter esses clientes, reduzindo assim a taxa de churn e aumentando a satisfação do cliente. Além disso, a análise dos dados de churn pode fornecer insights valiosos sobre as causas subjacentes da perda de clientes, permitindo que a empresa tome medidas para melhorar seus produtos, serviços ou processos de atendimento ao cliente."
      ]
    },
    {
      "cell_type": "markdown",
      "metadata": {
        "id": "mSfS74gU1LBS"
      },
      "source": [
        "## Descrição de Variáveis\n",
        "Um guia que fornece descrições conceituais de cada variável em nosso conjunto de dados.\n",
        "\n",
        "\n"
      ]
    },
    {
      "cell_type": "markdown",
      "metadata": {
        "id": "qs9H0UDjNSzb"
      },
      "source": [
        "* `customerID`: Identificação única do cliente.\n",
        "\n",
        "* `gender`: Gênero do cliente (masculino/feminino)\n",
        "\n",
        "* `SeniorCitizen`: Indica se o cliente é um idoso ou não (0 - não, 1 - sim)\n",
        "\n",
        "* `Partner`: Indica se o cliente tem um parceiro (cônjuge ou companheiro) ou não (Yes - sim, No - não)\n",
        "\n",
        "* `Dependents`: Indica se o cliente tem dependentes (filhos ou outros dependentes financeiros) ou não (Yes - sim, No - não)\n",
        "\n",
        "* `tenure`: Tempo em meses que o cliente permaneceu na empresa de telecomunicações.\n",
        "\n",
        "* `PhoneService`: indica se o cliente tem serviço de telefone ou não (Yes - sim, No - não)\n",
        "\n",
        "* `MultipleLines`: indica se o cliente tem múltiplas linhas telefônicas ou não (Yes - sim, No - não, No phone service - sem serviço de telefone)\n",
        "\n",
        "* `InternetService`: indica o tipo de serviço de internet do cliente (DSL, Fiber optic, No - sem serviço de internet)\n",
        "\n",
        "* `OnlineSecurity`: indica se o cliente tem serviço de segurança online ou não (Yes - sim, No - não, No internet service - sem serviço de internet)\n",
        "\n",
        "* `OnlineBackup`: indica se o cliente tem serviço de backup online ou não (Yes - sim, No - não, No internet service - sem serviço de internet)\n",
        "\n",
        "* `DeviceProtection`: indica se o cliente tem serviço de proteção de dispositivo ou não (Yes - sim, No - não, No internet service - sem serviço de internet)\n",
        "\n",
        "* `TechSupport`: indica se o cliente tem suporte técnico ou não (Yes - sim, No - não, No internet service - sem serviço de internet)\n",
        "\n",
        "* `StreamingTV`: indica se o cliente tem serviço de streaming de TV ou não (Yes - sim, No - não, No internet service - sem serviço de internet)\n",
        "\n",
        "* `StreamingMovies`: indica se o cliente tem serviço de streaming de filmes ou não (Yes - sim, No - não, No internet service - sem serviço de internet)\n",
        "\n",
        "* `Contract`: tipo de contrato do cliente (Month-to-month - mensal, One year - anual, Two year - bianual)\n",
        "\n",
        "* `PaperlessBilling`: indica se o cliente tem fatura digital ou não (Yes - sim, No - não)\n",
        "\n",
        "* `PaymentMethod`: método de pagamento do cliente (Electronic check - cheque eletrônico, Mailed check - cheque enviado pelo correio, Bank transfer (automatic) - transferência bancária automática, Credit card (automatic) cartão de crédito automático)\n",
        "\n",
        "* `MonthlyCharges`: valor mensal cobrado do cliente.\n",
        "\n",
        "* `TotalCharges`: valor total cobrado do cliente durante seu tempo na empresa de telecomunicações.\n",
        "\n",
        "* `Churn`: indica se o cliente cancelou o serviço ou não (Yes - sim, No - não)"
      ]
    },
    {
      "cell_type": "markdown",
      "metadata": {
        "id": "gTBJ51lCVci1"
      },
      "source": [
        "## Importando os Dados\n",
        "\n",
        " A importação de dados é o processo de carregamento e leitura de dados em um notebook. Os aspectos que devem ser consideradas na importação de dados são formatos de dados e locais de armazenamento de arquivos de conjuntos de dados. Existem vários formatos de dados que podem ser importados para notebooks, como .csv, .xlsx, .json e assim por diante. Para locais de armazenamento, existem duas opções, nomeadamente a partir de um computador local ou da internet, por meio de um link. Uma importação adequada garante que os dados sejam lidos corretamente e estejam prontos para as etapas seguintes."
      ]
    },
    {
      "cell_type": "code",
      "execution_count": null,
      "metadata": {
        "id": "p84HPNjrcv1K"
      },
      "outputs": [],
      "source": [
        "!pip install great_tables scikit-posthocs\n",
        "import numpy as np\n",
        "import matplotlib.pyplot as plt\n",
        "import pandas as pd\n",
        "import seaborn as sns\n",
        "from rich.console import Console\n",
        "from rich.panel import Panel\n",
        "from rich.table import Table\n",
        "from scipy.stats import t, sem,shapiro, normaltest, kruskal\n",
        "from great_tables import GT, style, loc\n",
        "import scikit_posthocs as sp\n",
        "from rich import print as rprint"
      ]
    },
    {
      "cell_type": "markdown",
      "metadata": {
        "id": "qS7PPGjSWHNg"
      },
      "source": [
        "* Os dados empregados neste projeto foram originariamente disponibilizados na plataforma de ensino da [IBM Developer](https://developer.ibm.com/technologies/data-science/patterns/predict-customer-churn-using-watson-studio-and-jupyter-notebooks/#) e dizem respeito a um problema típico enfrentado por empresas de telecomunicações. O conjunto de dados completo pode ser encontrado em neste [link](https://raw.githubusercontent.com/carlosfab/dsnp2/master/datasets/WA_Fn-UseC_-Telco-Customer-Churn.csv).\n",
        "\n",
        "<p align=center>\n",
        "<img src=\"https://cdn.freebiesupply.com/logos/thumbs/2x/ibm-logo.png\" width=\"18%\"></p>\n",
        "\n",
        "* Embora não haja informações explícitas disponíveis, os nomes das colunas fornecem pistas sobre o problema em questão."
      ]
    },
    {
      "cell_type": "code",
      "execution_count": null,
      "metadata": {
        "id": "Hrx9oxdmhkay"
      },
      "outputs": [],
      "source": [
        "from warnings import simplefilter, filterwarnings\n",
        "simplefilter(action='ignore', category=FutureWarning)\n",
        "%matplotlib inline"
      ]
    },
    {
      "cell_type": "code",
      "execution_count": null,
      "metadata": {
        "id": "_pnB0tDZhtxM"
      },
      "outputs": [],
      "source": [
        "df_churn = pd.read_csv('https://raw.githubusercontent.com/carlosfab/dsnp2/master/datasets/WA_Fn-UseC_-Telco-Customer-Churn.csv')\n",
        "df_churn.index = np.arange(1, len(df_churn)+1)"
      ]
    },
    {
      "cell_type": "markdown",
      "metadata": {
        "id": "7nF_Dhd81Cvq"
      },
      "source": [
        "Com os dados importados para dentro de uma estrutura *Dataframe* - e não havendo a necessidade de mais nenhum ajuste ou configuração nesta etapa, pode-se iniciar uma análise exploratória dos dados a fim de preparar um modelo de *Machine Learning*."
      ]
    },
    {
      "cell_type": "markdown",
      "metadata": {
        "id": "sDG-7b3Bjaf-"
      },
      "source": [
        "## Análise exploratória de dados\n",
        "Com os dados devidamente coletados, a próxima etapa é a análise exploratória de dados. Nessa etapa, empregamos diversas técnicas e ferramentas para entender melhor os dados coletados, identificando possíveis anomalias, relacionamentos e tendências nos dados."
      ]
    },
    {
      "cell_type": "markdown",
      "metadata": {
        "id": "iG6T_9EHiJYf"
      },
      "source": [
        "* Antes de iniciar a análise dos dados, vamos verificar o nosso dataset, analisando as 5 primeiras entradas."
      ]
    },
    {
      "cell_type": "code",
      "execution_count": null,
      "metadata": {
        "colab": {
          "base_uri": "https://localhost:8080/",
          "height": 342
        },
        "id": "M1GjcGwwIbzd",
        "outputId": "65c8c58d-3062-4c7c-9306-06b2ad926b51"
      },
      "outputs": [
        {
          "data": {
            "application/vnd.google.colaboratory.intrinsic+json": {
              "type": "dataframe",
              "variable_name": "df_churn"
            },
            "text/html": [
              "\n",
              "  <div id=\"df-b2b4d584-b458-4cb8-b397-62cfd8eeae23\" class=\"colab-df-container\">\n",
              "    <div>\n",
              "<style scoped>\n",
              "    .dataframe tbody tr th:only-of-type {\n",
              "        vertical-align: middle;\n",
              "    }\n",
              "\n",
              "    .dataframe tbody tr th {\n",
              "        vertical-align: top;\n",
              "    }\n",
              "\n",
              "    .dataframe thead th {\n",
              "        text-align: right;\n",
              "    }\n",
              "</style>\n",
              "<table border=\"1\" class=\"dataframe\">\n",
              "  <thead>\n",
              "    <tr style=\"text-align: right;\">\n",
              "      <th></th>\n",
              "      <th>customerID</th>\n",
              "      <th>gender</th>\n",
              "      <th>SeniorCitizen</th>\n",
              "      <th>Partner</th>\n",
              "      <th>Dependents</th>\n",
              "      <th>tenure</th>\n",
              "      <th>PhoneService</th>\n",
              "      <th>MultipleLines</th>\n",
              "      <th>InternetService</th>\n",
              "      <th>OnlineSecurity</th>\n",
              "      <th>...</th>\n",
              "      <th>DeviceProtection</th>\n",
              "      <th>TechSupport</th>\n",
              "      <th>StreamingTV</th>\n",
              "      <th>StreamingMovies</th>\n",
              "      <th>Contract</th>\n",
              "      <th>PaperlessBilling</th>\n",
              "      <th>PaymentMethod</th>\n",
              "      <th>MonthlyCharges</th>\n",
              "      <th>TotalCharges</th>\n",
              "      <th>Churn</th>\n",
              "    </tr>\n",
              "  </thead>\n",
              "  <tbody>\n",
              "    <tr>\n",
              "      <th>1</th>\n",
              "      <td>7590-VHVEG</td>\n",
              "      <td>Female</td>\n",
              "      <td>0</td>\n",
              "      <td>Yes</td>\n",
              "      <td>No</td>\n",
              "      <td>1</td>\n",
              "      <td>No</td>\n",
              "      <td>No phone service</td>\n",
              "      <td>DSL</td>\n",
              "      <td>No</td>\n",
              "      <td>...</td>\n",
              "      <td>No</td>\n",
              "      <td>No</td>\n",
              "      <td>No</td>\n",
              "      <td>No</td>\n",
              "      <td>Month-to-month</td>\n",
              "      <td>Yes</td>\n",
              "      <td>Electronic check</td>\n",
              "      <td>29.85</td>\n",
              "      <td>29.85</td>\n",
              "      <td>No</td>\n",
              "    </tr>\n",
              "    <tr>\n",
              "      <th>2</th>\n",
              "      <td>5575-GNVDE</td>\n",
              "      <td>Male</td>\n",
              "      <td>0</td>\n",
              "      <td>No</td>\n",
              "      <td>No</td>\n",
              "      <td>34</td>\n",
              "      <td>Yes</td>\n",
              "      <td>No</td>\n",
              "      <td>DSL</td>\n",
              "      <td>Yes</td>\n",
              "      <td>...</td>\n",
              "      <td>Yes</td>\n",
              "      <td>No</td>\n",
              "      <td>No</td>\n",
              "      <td>No</td>\n",
              "      <td>One year</td>\n",
              "      <td>No</td>\n",
              "      <td>Mailed check</td>\n",
              "      <td>56.95</td>\n",
              "      <td>1889.5</td>\n",
              "      <td>No</td>\n",
              "    </tr>\n",
              "    <tr>\n",
              "      <th>3</th>\n",
              "      <td>3668-QPYBK</td>\n",
              "      <td>Male</td>\n",
              "      <td>0</td>\n",
              "      <td>No</td>\n",
              "      <td>No</td>\n",
              "      <td>2</td>\n",
              "      <td>Yes</td>\n",
              "      <td>No</td>\n",
              "      <td>DSL</td>\n",
              "      <td>Yes</td>\n",
              "      <td>...</td>\n",
              "      <td>No</td>\n",
              "      <td>No</td>\n",
              "      <td>No</td>\n",
              "      <td>No</td>\n",
              "      <td>Month-to-month</td>\n",
              "      <td>Yes</td>\n",
              "      <td>Mailed check</td>\n",
              "      <td>53.85</td>\n",
              "      <td>108.15</td>\n",
              "      <td>Yes</td>\n",
              "    </tr>\n",
              "    <tr>\n",
              "      <th>4</th>\n",
              "      <td>7795-CFOCW</td>\n",
              "      <td>Male</td>\n",
              "      <td>0</td>\n",
              "      <td>No</td>\n",
              "      <td>No</td>\n",
              "      <td>45</td>\n",
              "      <td>No</td>\n",
              "      <td>No phone service</td>\n",
              "      <td>DSL</td>\n",
              "      <td>Yes</td>\n",
              "      <td>...</td>\n",
              "      <td>Yes</td>\n",
              "      <td>Yes</td>\n",
              "      <td>No</td>\n",
              "      <td>No</td>\n",
              "      <td>One year</td>\n",
              "      <td>No</td>\n",
              "      <td>Bank transfer (automatic)</td>\n",
              "      <td>42.30</td>\n",
              "      <td>1840.75</td>\n",
              "      <td>No</td>\n",
              "    </tr>\n",
              "    <tr>\n",
              "      <th>5</th>\n",
              "      <td>9237-HQITU</td>\n",
              "      <td>Female</td>\n",
              "      <td>0</td>\n",
              "      <td>No</td>\n",
              "      <td>No</td>\n",
              "      <td>2</td>\n",
              "      <td>Yes</td>\n",
              "      <td>No</td>\n",
              "      <td>Fiber optic</td>\n",
              "      <td>No</td>\n",
              "      <td>...</td>\n",
              "      <td>No</td>\n",
              "      <td>No</td>\n",
              "      <td>No</td>\n",
              "      <td>No</td>\n",
              "      <td>Month-to-month</td>\n",
              "      <td>Yes</td>\n",
              "      <td>Electronic check</td>\n",
              "      <td>70.70</td>\n",
              "      <td>151.65</td>\n",
              "      <td>Yes</td>\n",
              "    </tr>\n",
              "  </tbody>\n",
              "</table>\n",
              "<p>5 rows × 21 columns</p>\n",
              "</div>\n",
              "    <div class=\"colab-df-buttons\">\n",
              "\n",
              "  <div class=\"colab-df-container\">\n",
              "    <button class=\"colab-df-convert\" onclick=\"convertToInteractive('df-b2b4d584-b458-4cb8-b397-62cfd8eeae23')\"\n",
              "            title=\"Convert this dataframe to an interactive table.\"\n",
              "            style=\"display:none;\">\n",
              "\n",
              "  <svg xmlns=\"http://www.w3.org/2000/svg\" height=\"24px\" viewBox=\"0 -960 960 960\">\n",
              "    <path d=\"M120-120v-720h720v720H120Zm60-500h600v-160H180v160Zm220 220h160v-160H400v160Zm0 220h160v-160H400v160ZM180-400h160v-160H180v160Zm440 0h160v-160H620v160ZM180-180h160v-160H180v160Zm440 0h160v-160H620v160Z\"/>\n",
              "  </svg>\n",
              "    </button>\n",
              "\n",
              "  <style>\n",
              "    .colab-df-container {\n",
              "      display:flex;\n",
              "      gap: 12px;\n",
              "    }\n",
              "\n",
              "    .colab-df-convert {\n",
              "      background-color: #E8F0FE;\n",
              "      border: none;\n",
              "      border-radius: 50%;\n",
              "      cursor: pointer;\n",
              "      display: none;\n",
              "      fill: #1967D2;\n",
              "      height: 32px;\n",
              "      padding: 0 0 0 0;\n",
              "      width: 32px;\n",
              "    }\n",
              "\n",
              "    .colab-df-convert:hover {\n",
              "      background-color: #E2EBFA;\n",
              "      box-shadow: 0px 1px 2px rgba(60, 64, 67, 0.3), 0px 1px 3px 1px rgba(60, 64, 67, 0.15);\n",
              "      fill: #174EA6;\n",
              "    }\n",
              "\n",
              "    .colab-df-buttons div {\n",
              "      margin-bottom: 4px;\n",
              "    }\n",
              "\n",
              "    [theme=dark] .colab-df-convert {\n",
              "      background-color: #3B4455;\n",
              "      fill: #D2E3FC;\n",
              "    }\n",
              "\n",
              "    [theme=dark] .colab-df-convert:hover {\n",
              "      background-color: #434B5C;\n",
              "      box-shadow: 0px 1px 3px 1px rgba(0, 0, 0, 0.15);\n",
              "      filter: drop-shadow(0px 1px 2px rgba(0, 0, 0, 0.3));\n",
              "      fill: #FFFFFF;\n",
              "    }\n",
              "  </style>\n",
              "\n",
              "    <script>\n",
              "      const buttonEl =\n",
              "        document.querySelector('#df-b2b4d584-b458-4cb8-b397-62cfd8eeae23 button.colab-df-convert');\n",
              "      buttonEl.style.display =\n",
              "        google.colab.kernel.accessAllowed ? 'block' : 'none';\n",
              "\n",
              "      async function convertToInteractive(key) {\n",
              "        const element = document.querySelector('#df-b2b4d584-b458-4cb8-b397-62cfd8eeae23');\n",
              "        const dataTable =\n",
              "          await google.colab.kernel.invokeFunction('convertToInteractive',\n",
              "                                                    [key], {});\n",
              "        if (!dataTable) return;\n",
              "\n",
              "        const docLinkHtml = 'Like what you see? Visit the ' +\n",
              "          '<a target=\"_blank\" href=https://colab.research.google.com/notebooks/data_table.ipynb>data table notebook</a>'\n",
              "          + ' to learn more about interactive tables.';\n",
              "        element.innerHTML = '';\n",
              "        dataTable['output_type'] = 'display_data';\n",
              "        await google.colab.output.renderOutput(dataTable, element);\n",
              "        const docLink = document.createElement('div');\n",
              "        docLink.innerHTML = docLinkHtml;\n",
              "        element.appendChild(docLink);\n",
              "      }\n",
              "    </script>\n",
              "  </div>\n",
              "\n",
              "\n",
              "<div id=\"df-ed27a9a1-c147-4a01-a8b7-12b8c17553ef\">\n",
              "  <button class=\"colab-df-quickchart\" onclick=\"quickchart('df-ed27a9a1-c147-4a01-a8b7-12b8c17553ef')\"\n",
              "            title=\"Suggest charts\"\n",
              "            style=\"display:none;\">\n",
              "\n",
              "<svg xmlns=\"http://www.w3.org/2000/svg\" height=\"24px\"viewBox=\"0 0 24 24\"\n",
              "     width=\"24px\">\n",
              "    <g>\n",
              "        <path d=\"M19 3H5c-1.1 0-2 .9-2 2v14c0 1.1.9 2 2 2h14c1.1 0 2-.9 2-2V5c0-1.1-.9-2-2-2zM9 17H7v-7h2v7zm4 0h-2V7h2v10zm4 0h-2v-4h2v4z\"/>\n",
              "    </g>\n",
              "</svg>\n",
              "  </button>\n",
              "\n",
              "<style>\n",
              "  .colab-df-quickchart {\n",
              "      --bg-color: #E8F0FE;\n",
              "      --fill-color: #1967D2;\n",
              "      --hover-bg-color: #E2EBFA;\n",
              "      --hover-fill-color: #174EA6;\n",
              "      --disabled-fill-color: #AAA;\n",
              "      --disabled-bg-color: #DDD;\n",
              "  }\n",
              "\n",
              "  [theme=dark] .colab-df-quickchart {\n",
              "      --bg-color: #3B4455;\n",
              "      --fill-color: #D2E3FC;\n",
              "      --hover-bg-color: #434B5C;\n",
              "      --hover-fill-color: #FFFFFF;\n",
              "      --disabled-bg-color: #3B4455;\n",
              "      --disabled-fill-color: #666;\n",
              "  }\n",
              "\n",
              "  .colab-df-quickchart {\n",
              "    background-color: var(--bg-color);\n",
              "    border: none;\n",
              "    border-radius: 50%;\n",
              "    cursor: pointer;\n",
              "    display: none;\n",
              "    fill: var(--fill-color);\n",
              "    height: 32px;\n",
              "    padding: 0;\n",
              "    width: 32px;\n",
              "  }\n",
              "\n",
              "  .colab-df-quickchart:hover {\n",
              "    background-color: var(--hover-bg-color);\n",
              "    box-shadow: 0 1px 2px rgba(60, 64, 67, 0.3), 0 1px 3px 1px rgba(60, 64, 67, 0.15);\n",
              "    fill: var(--button-hover-fill-color);\n",
              "  }\n",
              "\n",
              "  .colab-df-quickchart-complete:disabled,\n",
              "  .colab-df-quickchart-complete:disabled:hover {\n",
              "    background-color: var(--disabled-bg-color);\n",
              "    fill: var(--disabled-fill-color);\n",
              "    box-shadow: none;\n",
              "  }\n",
              "\n",
              "  .colab-df-spinner {\n",
              "    border: 2px solid var(--fill-color);\n",
              "    border-color: transparent;\n",
              "    border-bottom-color: var(--fill-color);\n",
              "    animation:\n",
              "      spin 1s steps(1) infinite;\n",
              "  }\n",
              "\n",
              "  @keyframes spin {\n",
              "    0% {\n",
              "      border-color: transparent;\n",
              "      border-bottom-color: var(--fill-color);\n",
              "      border-left-color: var(--fill-color);\n",
              "    }\n",
              "    20% {\n",
              "      border-color: transparent;\n",
              "      border-left-color: var(--fill-color);\n",
              "      border-top-color: var(--fill-color);\n",
              "    }\n",
              "    30% {\n",
              "      border-color: transparent;\n",
              "      border-left-color: var(--fill-color);\n",
              "      border-top-color: var(--fill-color);\n",
              "      border-right-color: var(--fill-color);\n",
              "    }\n",
              "    40% {\n",
              "      border-color: transparent;\n",
              "      border-right-color: var(--fill-color);\n",
              "      border-top-color: var(--fill-color);\n",
              "    }\n",
              "    60% {\n",
              "      border-color: transparent;\n",
              "      border-right-color: var(--fill-color);\n",
              "    }\n",
              "    80% {\n",
              "      border-color: transparent;\n",
              "      border-right-color: var(--fill-color);\n",
              "      border-bottom-color: var(--fill-color);\n",
              "    }\n",
              "    90% {\n",
              "      border-color: transparent;\n",
              "      border-bottom-color: var(--fill-color);\n",
              "    }\n",
              "  }\n",
              "</style>\n",
              "\n",
              "  <script>\n",
              "    async function quickchart(key) {\n",
              "      const quickchartButtonEl =\n",
              "        document.querySelector('#' + key + ' button');\n",
              "      quickchartButtonEl.disabled = true;  // To prevent multiple clicks.\n",
              "      quickchartButtonEl.classList.add('colab-df-spinner');\n",
              "      try {\n",
              "        const charts = await google.colab.kernel.invokeFunction(\n",
              "            'suggestCharts', [key], {});\n",
              "      } catch (error) {\n",
              "        console.error('Error during call to suggestCharts:', error);\n",
              "      }\n",
              "      quickchartButtonEl.classList.remove('colab-df-spinner');\n",
              "      quickchartButtonEl.classList.add('colab-df-quickchart-complete');\n",
              "    }\n",
              "    (() => {\n",
              "      let quickchartButtonEl =\n",
              "        document.querySelector('#df-ed27a9a1-c147-4a01-a8b7-12b8c17553ef button');\n",
              "      quickchartButtonEl.style.display =\n",
              "        google.colab.kernel.accessAllowed ? 'block' : 'none';\n",
              "    })();\n",
              "  </script>\n",
              "</div>\n",
              "\n",
              "    </div>\n",
              "  </div>\n"
            ],
            "text/plain": [
              "   customerID  gender  SeniorCitizen Partner Dependents  tenure PhoneService  \\\n",
              "1  7590-VHVEG  Female              0     Yes         No       1           No   \n",
              "2  5575-GNVDE    Male              0      No         No      34          Yes   \n",
              "3  3668-QPYBK    Male              0      No         No       2          Yes   \n",
              "4  7795-CFOCW    Male              0      No         No      45           No   \n",
              "5  9237-HQITU  Female              0      No         No       2          Yes   \n",
              "\n",
              "      MultipleLines InternetService OnlineSecurity  ... DeviceProtection  \\\n",
              "1  No phone service             DSL             No  ...               No   \n",
              "2                No             DSL            Yes  ...              Yes   \n",
              "3                No             DSL            Yes  ...               No   \n",
              "4  No phone service             DSL            Yes  ...              Yes   \n",
              "5                No     Fiber optic             No  ...               No   \n",
              "\n",
              "  TechSupport StreamingTV StreamingMovies        Contract PaperlessBilling  \\\n",
              "1          No          No              No  Month-to-month              Yes   \n",
              "2          No          No              No        One year               No   \n",
              "3          No          No              No  Month-to-month              Yes   \n",
              "4         Yes          No              No        One year               No   \n",
              "5          No          No              No  Month-to-month              Yes   \n",
              "\n",
              "               PaymentMethod MonthlyCharges  TotalCharges Churn  \n",
              "1           Electronic check          29.85         29.85    No  \n",
              "2               Mailed check          56.95        1889.5    No  \n",
              "3               Mailed check          53.85        108.15   Yes  \n",
              "4  Bank transfer (automatic)          42.30       1840.75    No  \n",
              "5           Electronic check          70.70        151.65   Yes  \n",
              "\n",
              "[5 rows x 21 columns]"
            ]
          },
          "execution_count": 28,
          "metadata": {},
          "output_type": "execute_result"
        }
      ],
      "source": [
        "df_churn.head()"
      ]
    },
    {
      "cell_type": "markdown",
      "metadata": {
        "id": "YnOslT-UZI5T"
      },
      "source": [
        "### **1. Qual é a natureza do conjunto de dados?**"
      ]
    },
    {
      "cell_type": "markdown",
      "metadata": {
        "id": "lxmR89wRwMsm"
      },
      "source": [
        "Durante a etapa de análise exploratória de dados, o primeiro passo é a compreensão do conjunto de dados em questão, isto é, seu tamanho, a porcentagem de valores ausentes e os tipos de variáveis. O tamanho do conjunto serve para avaliar sua amplitude e, por consequência, sua complexidade. A porcentagem de dados ausentes serve como um parâmetro para medir a quantidade de informações faltantes em comparação ao total do conjunto de dados. Por sua vez, os tipos de variáveis revelam a natureza dos dados."
      ]
    },
    {
      "cell_type": "code",
      "execution_count": null,
      "metadata": {
        "colab": {
          "base_uri": "https://localhost:8080/",
          "height": 485
        },
        "id": "H2APlBcAZTIt",
        "outputId": "68ea76f6-7b8d-465c-813a-50902610055a"
      },
      "outputs": [
        {
          "output_type": "stream",
          "name": "stdout",
          "text": [
            "Entradas:\t 7043\n",
            "Variáveis:\t 21\n",
            "\n"
          ]
        },
        {
          "output_type": "display_data",
          "data": {
            "text/plain": [
              "\u001b[3m                     Informações das Variáveis                      \u001b[0m\n",
              "┏━━━━━━━━━━━━━━━━━━┳━━━━━━━━━━━┳━━━━━━━━━━━━━━┳━━━━━━━━━━━━━━━━━━━━┓\n",
              "┃\u001b[1m \u001b[0m\u001b[1m Variable_name  \u001b[0m\u001b[1m \u001b[0m┃\u001b[1m \u001b[0m\u001b[1mData_type\u001b[0m\u001b[1m \u001b[0m┃\u001b[1m \u001b[0m\u001b[1mUnique_value\u001b[0m\u001b[1m \u001b[0m┃\u001b[1m \u001b[0m\u001b[1mMissing_percentage\u001b[0m\u001b[1m \u001b[0m┃\n",
              "┡━━━━━━━━━━━━━━━━━━╇━━━━━━━━━━━╇━━━━━━━━━━━━━━╇━━━━━━━━━━━━━━━━━━━━┩\n",
              "│    customerID    │  object   │     7043     │         0          │\n",
              "│      gender      │  object   │      2       │         0          │\n",
              "│  SeniorCitizen   │   int64   │      2       │         0          │\n",
              "│     Partner      │  object   │      2       │         0          │\n",
              "│    Dependents    │  object   │      2       │         0          │\n",
              "│      tenure      │   int64   │      73      │         0          │\n",
              "│   PhoneService   │  object   │      2       │         0          │\n",
              "│  MultipleLines   │  object   │      3       │         0          │\n",
              "│ InternetService  │  object   │      3       │         0          │\n",
              "│  OnlineSecurity  │  object   │      3       │         0          │\n",
              "│   OnlineBackup   │  object   │      3       │         0          │\n",
              "│ DeviceProtection │  object   │      3       │         0          │\n",
              "│   TechSupport    │  object   │      3       │         0          │\n",
              "│   StreamingTV    │  object   │      3       │         0          │\n",
              "│ StreamingMovies  │  object   │      3       │         0          │\n",
              "│     Contract     │  object   │      3       │         0          │\n",
              "│ PaperlessBilling │  object   │      2       │         0          │\n",
              "│  PaymentMethod   │  object   │      4       │         0          │\n",
              "│  MonthlyCharges  │  float64  │     1585     │         0          │\n",
              "│   TotalCharges   │  object   │     6531     │         0          │\n",
              "│      Churn       │  object   │      2       │         0          │\n",
              "└──────────────────┴───────────┴──────────────┴────────────────────┘\n"
            ],
            "text/html": [
              "<pre style=\"white-space:pre;overflow-x:auto;line-height:normal;font-family:Menlo,'DejaVu Sans Mono',consolas,'Courier New',monospace\"><span style=\"font-style: italic\">                     Informações das Variáveis                      </span>\n",
              "┏━━━━━━━━━━━━━━━━━━┳━━━━━━━━━━━┳━━━━━━━━━━━━━━┳━━━━━━━━━━━━━━━━━━━━┓\n",
              "┃<span style=\"font-weight: bold\">  Variable_name   </span>┃<span style=\"font-weight: bold\"> Data_type </span>┃<span style=\"font-weight: bold\"> Unique_value </span>┃<span style=\"font-weight: bold\"> Missing_percentage </span>┃\n",
              "┡━━━━━━━━━━━━━━━━━━╇━━━━━━━━━━━╇━━━━━━━━━━━━━━╇━━━━━━━━━━━━━━━━━━━━┩\n",
              "│    customerID    │  object   │     7043     │         0          │\n",
              "│      gender      │  object   │      2       │         0          │\n",
              "│  SeniorCitizen   │   int64   │      2       │         0          │\n",
              "│     Partner      │  object   │      2       │         0          │\n",
              "│    Dependents    │  object   │      2       │         0          │\n",
              "│      tenure      │   int64   │      73      │         0          │\n",
              "│   PhoneService   │  object   │      2       │         0          │\n",
              "│  MultipleLines   │  object   │      3       │         0          │\n",
              "│ InternetService  │  object   │      3       │         0          │\n",
              "│  OnlineSecurity  │  object   │      3       │         0          │\n",
              "│   OnlineBackup   │  object   │      3       │         0          │\n",
              "│ DeviceProtection │  object   │      3       │         0          │\n",
              "│   TechSupport    │  object   │      3       │         0          │\n",
              "│   StreamingTV    │  object   │      3       │         0          │\n",
              "│ StreamingMovies  │  object   │      3       │         0          │\n",
              "│     Contract     │  object   │      3       │         0          │\n",
              "│ PaperlessBilling │  object   │      2       │         0          │\n",
              "│  PaymentMethod   │  object   │      4       │         0          │\n",
              "│  MonthlyCharges  │  float64  │     1585     │         0          │\n",
              "│   TotalCharges   │  object   │     6531     │         0          │\n",
              "│      Churn       │  object   │      2       │         0          │\n",
              "└──────────────────┴───────────┴──────────────┴────────────────────┘\n",
              "</pre>\n"
            ]
          },
          "metadata": {}
        }
      ],
      "source": [
        "table =  Table(title='Informações das Variáveis')\n",
        "table.add_column('Variable_name', justify='center')\n",
        "table.add_column('Data_type', justify='center')\n",
        "table.add_column('Unique_value', justify='center')\n",
        "table.add_column('Missing_percentage', justify='center')\n",
        "for column in df_churn.columns:\n",
        "  table.add_row(f'{column}', f'{df_churn[column].dtypes}',\n",
        "                f'{len(df_churn[column].unique())}',\n",
        "                f'{(df_churn[column].isnull().sum())*100}')\n",
        "\n",
        "print(\"Entradas:\\t {}\".format(df_churn.shape[0]))\n",
        "print(\"Variáveis:\\t {}\\n\".format(df_churn.shape[1]))\n",
        "rprint(table)"
      ]
    },
    {
      "cell_type": "markdown",
      "metadata": {
        "id": "OOltfG9luW4l"
      },
      "source": [
        "* Podemos observar a distribuição dos tipos de dados e exibir os resultados em porcentagem."
      ]
    },
    {
      "cell_type": "code",
      "execution_count": null,
      "metadata": {
        "colab": {
          "base_uri": "https://localhost:8080/",
          "height": 487
        },
        "id": "kHPie4UBUbYD",
        "outputId": "bd111dd3-fa6c-4c64-a353-5afaf90aa04e"
      },
      "outputs": [
        {
          "output_type": "display_data",
          "data": {
            "text/plain": [
              "<Figure size 640x480 with 1 Axes>"
            ],
            "image/png": "[encoded data removed]"
          },
          "metadata": {}
        }
      ],
      "source": [
        "fig, ax = plt.subplots()\n",
        "data = (df_churn.dtypes.value_counts(normalize=True)*100).round(2)\n",
        "sns.barplot(x=data.index.astype(str), y=data.values, palette=['#0073CF', \"#6E9CCF\",  \"#D3D3D3\"])\n",
        "plt.title('Distribuição dos tipos de dados')\n",
        "plt.xlabel('Tipos de dados')\n",
        "plt.ylabel('% do total')\n",
        "ax.spines['right'].set_visible(False)\n",
        "ax.spines['top'].set_visible(False)\n",
        "ax.set_ylim(0, 100)\n",
        "plt.tight_layout()"
      ]
    },
    {
      "cell_type": "markdown",
      "metadata": {
        "id": "Y2hLwrYGYUka"
      },
      "source": [
        "Com base nas informações fornecidas, podemos observar que:\n",
        "\n",
        "* é possivel indentificar que a variavel `churn` é o nosso atributo target.\n",
        "\n",
        "* Iremos ver mais à frente, apesar de não termos detectado nenhum valor ausente, existem algumas strings que representam sim valores ausentes.\n",
        "\n",
        "* A coluna `customerID` representa um identificador único para cada cliente, o que significa que não contém informações relevantes que possam ser usadas como características preditivas em nosso modelo de machine learning. Portanto, na fase de pré-processamento de dados, iremos realizar a  exclusão dessa variável para melhorar a qualidade dos dados que serão usados na construção do modelo.\n",
        "\n",
        "* A maioria dos dados em nosso dataset é do tipo `Object` (85.71%), seguido por `Int64` (9.52%) e `Float64` (4.76%). Na etapa de pré-processamento de dados, as variáveis que são categorias (ou seja, que possuem o tipo object) precisam ser codificadas em valores numéricos, incluindo a variável target.\n",
        "\n",
        "* Além disso, Observamos que a coluna `TotalCharges` que é o valor total cobrado do cliente durante seu tempo, possui o tipo incorreto (`object`), o tipo apropriado para esta variável é `float64`. O mesmo se aplica a variavel `SeniorCitizen` que indica se o cliente é idoso ou não, trata-se de uma variável categórica. Vamos realizar as correções dessas inconsistências nesta etapa.\n"
      ]
    },
    {
      "cell_type": "markdown",
      "metadata": {
        "id": "MdajovmmekTP"
      },
      "source": [
        "Aplicando a transformação na variável SeniorCitizen, mapeando os valores numéricos 0 e 1 para as categorias 'No' e 'Yes'."
      ]
    },
    {
      "cell_type": "code",
      "execution_count": null,
      "metadata": {
        "id": "tJSUWCBhd3oS"
      },
      "outputs": [],
      "source": [
        "df_churn['SeniorCitizen'] = df_churn['SeniorCitizen'].map({0:'No', 1:'Yes'}).copy()"
      ]
    },
    {
      "cell_type": "markdown",
      "metadata": {
        "id": "-K-nQjpMtmnt"
      },
      "source": [
        "Ao trabalhar com a coluna chamada `TotalCharges`, percebemos que havia um problema na conversão das strings para números. Isso ocorreu porque algumas células que deveriam conter valores estavam vazias, mas foram preenchidas com a string `\"\"`. Quando tentamos converter essa string vazia para um número, o interpretador retorna um erro.\n",
        "\n",
        "Para solucionar essa situação, adotamos um procedimento de identificar as linhas contendo valores não numéricos. Nesse caso, substituímos esses valores por NaN e extraímos os índices das linhas afetadas. Em seguida, substituímos os valores NaN pela mediana da variável `TotalCharges`. Essa abordagem permitiu contornar a presença de valores ausentes e manter a integridade dos dados para análise."
      ]
    },
    {
      "cell_type": "code",
      "execution_count": null,
      "metadata": {
        "id": "hGnB2Z01Y_5o"
      },
      "outputs": [],
      "source": [
        "index_TotalCharges = df_churn.TotalCharges.index.values\n",
        "index_not_numeric = df_churn.index[pd.to_numeric(df_churn.TotalCharges, errors='coerce').isna()].values\n",
        "median_TotalCharges = df_churn.loc[np.setdiff1d(index_TotalCharges, index_not_numeric),\n",
        "                            df_churn.columns == 'TotalCharges'].astype('float64').median()\n",
        "df_churn.loc[index_not_numeric, 'TotalCharges'] = median_TotalCharges[0]\n",
        "df_churn['TotalCharges'] = df_churn['TotalCharges'].astype('float64')"
      ]
    },
    {
      "cell_type": "markdown",
      "metadata": {
        "id": "0NykwoCQNmb2"
      },
      "source": [
        "### **2. O dataset está balanceado?**"
      ]
    },
    {
      "cell_type": "markdown",
      "metadata": {
        "id": "kxTR75JJZhdI"
      },
      "source": [
        "Quando se trata de classificação Binaria, uma das questões mais importantes a serem consideradas é se o conjunto de dados em questão está balanceado ou não. A distribuição dos dados pode ter um grande impacto no desempenho do modelo, e o desequilíbrio dos dados é um problema comum em muitos conjuntos de dados."
      ]
    },
    {
      "cell_type": "code",
      "execution_count": null,
      "metadata": {
        "colab": {
          "base_uri": "https://localhost:8080/",
          "height": 493
        },
        "id": "juydRaI4w4bN",
        "outputId": "b3777596-02d0-4e6d-816b-eb55e869431e"
      },
      "outputs": [
        {
          "output_type": "stream",
          "name": "stdout",
          "text": [
            "% de Clientes que não cancelaram o serviço: 0.7346\n",
            "% de Clientes que cancelaram o serviço: 0.2654\n",
            "\n"
          ]
        },
        {
          "output_type": "display_data",
          "data": {
            "text/plain": [
              "<Figure size 720x432 with 1 Axes>"
            ],
            "image/png": "[encoded data removed]"
          },
          "metadata": {}
        }
      ],
      "source": [
        "proportion = df_churn.Churn.value_counts(normalize=True).values\n",
        "fig, ax = plt.subplots(figsize=(10, 6), dpi=72)\n",
        "sns.set_style(\"white\")\n",
        "sns.countplot(data=df_churn, x='Churn', palette=[\"#D3D3D3\", '#0073CF'], linewidth=0, edgecolor=\"none\", ax=ax)\n",
        "ax.spines['right'].set_visible(False)\n",
        "ax.spines['top'].set_visible(False)\n",
        "ax.text(-0.1, 6000, 'Distribuição de Churn', fontsize=18, fontweight='medium', va='bottom', color='black')\n",
        "ax.set_ylabel('Quantidade de Clientes')\n",
        "ax.set_xlabel('Churn')\n",
        "print(f'% de Clientes que não cancelaram o serviço: {proportion[0].round(4)}')\n",
        "print(f'% de Clientes que cancelaram o serviço: {proportion[1].round(4)}\\n')\n",
        "plt.tight_layout()"
      ]
    },
    {
      "cell_type": "markdown",
      "metadata": {
        "id": "f9PGnxdat8qe"
      },
      "source": [
        "* Ao analisarmos o gráfico de distribuição de churn, é possível notar que a maioria dos clientes - cerca de 73,46% do total, representando 5.174 pessoas - permaneceram com o serviço, enquanto apenas 26,54% dos clientes (ou 1.869 pessoas) optaram por cancelá-lo. Esses números revelam uma grande disparidade entre as duas categorias."
      ]
    },
    {
      "cell_type": "markdown",
      "metadata": {
        "id": "QdqAjMUHzxPG"
      },
      "source": [
        "Para identificar se os nossos dados podem estar com algum tipo de bias (viés), irei verificar a contagem de valores para `Male` e `Female`.\n",
        "\n",
        "Abaixo, você pode ver que o gênero das entradas está balanceado."
      ]
    },
    {
      "cell_type": "code",
      "execution_count": null,
      "metadata": {
        "colab": {
          "base_uri": "https://localhost:8080/",
          "height": 494
        },
        "id": "uBMUGnKdrNls",
        "outputId": "9ae413ce-6234-4f3c-d855-c264e5bc8ae1"
      },
      "outputs": [
        {
          "output_type": "stream",
          "name": "stdout",
          "text": [
            "% de Clientes do genero Masculino: 50.48\n",
            "% de Clientes do genero Feminino: 49.52 \n",
            "\n"
          ]
        },
        {
          "output_type": "display_data",
          "data": {
            "text/plain": [
              "<Figure size 720x432 with 1 Axes>"
            ],
            "image/png": "[encoded data removed]"
          },
          "metadata": {}
        }
      ],
      "source": [
        "male = (df_churn.gender.value_counts(normalize=True)*100).round(2)[0]\n",
        "female = (df_churn.gender.value_counts(normalize=True)*100).round(2)[1]\n",
        "fig, ax = plt.subplots(figsize=(10, 6), dpi=72)\n",
        "sns.set_style(\"white\")\n",
        "sns.countplot(data=df_churn, x='gender', palette=[\"#D3D3D3\", '#0073CF'], linewidth=0, edgecolor=\"none\", ax=ax)\n",
        "ax.spines['right'].set_visible(False)\n",
        "ax.spines['top'].set_visible(False)\n",
        "ax.text(-0.1, 4000, 'Distribuição de Sexo', fontsize=18, fontweight='medium', va='bottom', color='black')\n",
        "ax.set_ylabel('Quantidade de Clientes')\n",
        "print(f'% de Clientes do genero Masculino: {male}\\n% de Clientes do genero Feminino: {female} \\n')\n",
        "plt.tight_layout()"
      ]
    },
    {
      "cell_type": "markdown",
      "metadata": {
        "id": "hrG1T1tgwUZh"
      },
      "source": [
        "na etapa de pré-processamento de dados iremos lidar com essa desproporção e garantir que o modelo de machine learning seja capaz de aprender corretamente com as duas classes."
      ]
    },
    {
      "cell_type": "markdown",
      "metadata": {
        "id": "tiiy3pI9bKio"
      },
      "source": [
        "### **3. Qual é o montante de receita perdida devido à taxa de churn dos clientes?**"
      ]
    },
    {
      "cell_type": "markdown",
      "metadata": {
        "id": "YVllzVYsgrIA"
      },
      "source": [
        "Existem diferentes maneiras de medir a taxa de churn em uma empresa. Além do churn rate, que representa a taxa de cancelamentos em um período pré-determinado, existe também o churn de receita (também chamado de Revenue churn), que mede o total de receita perdida devido a esses cancelamentos.\n",
        "\n",
        "$$\\text{Churn de receita (%)} = \\frac{\\text{Receita perdida de clientes antigos}}{\\text{Receita total no período}} \\times 100\\%$$\n",
        "\n",
        "\n",
        "Para empresas com um portfólio variado de produtos, o churn de receita é uma métrica útil para identificar possíveis problemas em um serviço específico e encontrar pontos de melhoria para reverter a situação. Além disso, é um indicador efetivo para avaliar a sustentabilidade do negócio a longo prazo.\n"
      ]
    },
    {
      "cell_type": "code",
      "execution_count": null,
      "metadata": {
        "colab": {
          "base_uri": "https://localhost:8080/",
          "height": 515
        },
        "id": "nKWfLH6ctbCd",
        "outputId": "a46f2623-b2d6-4aad-84e6-166abced495e"
      },
      "outputs": [
        {
          "output_type": "stream",
          "name": "stdout",
          "text": [
            "Churn de receita: 17.81%\n",
            "\n"
          ]
        },
        {
          "output_type": "display_data",
          "data": {
            "text/plain": [
              "<Figure size 640x480 with 1 Axes>"
            ],
            "image/png": "[encoded data removed]"
          },
          "metadata": {}
        }
      ],
      "source": [
        "churn_revenue = df_churn.TotalCharges.loc[df_churn.Churn == 'Yes'].sum()\n",
        "current_revenue = df_churn.TotalCharges.loc[df_churn.Churn == 'No'].sum()\n",
        "previous_revenue = df_churn.TotalCharges.sum()\n",
        "df = pd.DataFrame(np.array([(previous_revenue/1000000).round(3), (current_revenue/1000000).round(3)]).reshape(1, -1), columns=['Previous_revenue', 'Current_revenue'])\n",
        "fig, ax = plt.subplots()\n",
        "sns.barplot(data=df, ax=ax, palette=[\"#D3D3D3\", '#0073CF'])\n",
        "ax.spines['right'].set_visible(False)\n",
        "ax.spines['top'].set_visible(False)\n",
        "ax.text(-0.4, 20, 'Receita anterior × Receita Atual', fontsize=18, fontweight='medium', va='bottom', color='black')\n",
        "ax.set_ylabel('Receita(Milhões)')\n",
        "print(f'Churn de receita: {((churn_revenue/previous_revenue)*100).round(2)}%\\n')\n",
        "plt.tight_layout()"
      ]
    },
    {
      "cell_type": "markdown",
      "metadata": {
        "id": "ZzZygiZba8Cc"
      },
      "source": [
        "* Constatou-se que 26.54% dos clientes da empresa de telecomunicações cancelaram o serviço, o que gerou uma perda de receita significativa de 17.81%, correspondente a 2.863 milhões de reais. Essa queda na receita é refletida no gráfico acima, que ilustra claramente a diferença entre a receita total no período anterior, estimada em cerca de 16.072 milhões de reais, e a receita atual, que é de 13.209 milhões de reais.\n"
      ]
    },
    {
      "cell_type": "markdown",
      "metadata": {
        "id": "83AZ2NK7uTWY"
      },
      "source": [
        "### **4. Qual o tipo de distribuição das variáveis?**\n",
        "\n"
      ]
    },
    {
      "cell_type": "markdown",
      "metadata": {
        "id": "nbuPcyI3GvNM"
      },
      "source": [
        "Em um conjunto de dados é importante descrever o comportamento de como os valores estão distribuídos,\n",
        "<br>usaremos o histograma para identificar a distribuição das variáveis numéricas."
      ]
    },
    {
      "cell_type": "code",
      "execution_count": null,
      "metadata": {
        "colab": {
          "base_uri": "https://localhost:8080/",
          "height": 369
        },
        "id": "vGsBveXjXt8j",
        "outputId": "d9ae11d9-b3af-4095-a9ef-27e88af68f6e"
      },
      "outputs": [
        {
          "output_type": "display_data",
          "data": {
            "text/plain": [
              "<Figure size 1008x360 with 3 Axes>"
            ],
            "image/png": "[encoded data removed]"
          },
          "metadata": {}
        }
      ],
      "source": [
        "def custom_histplot(data, columns, colors, grid_shape=(2, 3), figsize=(14, 5), dpi=72):\n",
        "    n_rows, n_cols = grid_shape\n",
        "    fig, ax = plt.subplots(n_rows, n_cols, figsize=figsize, dpi=dpi)\n",
        "    axes = ax.flatten()\n",
        "\n",
        "    for axis, column, color in zip(axes, columns, colors):\n",
        "        sns.histplot(data=data, x=column, color=color, ax=axis, kde=True, bins='sturges')\n",
        "        axis.spines['right'].set_visible(False)\n",
        "        axis.spines['top'].set_visible(False)\n",
        "\n",
        "    for remaining_ax in axes[len(columns):]:\n",
        "        remaining_ax.set_visible(False)\n",
        "\n",
        "    return plt.tight_layout()\n",
        "\n",
        "custom_histplot(data=df_churn, columns=['tenure','MonthlyCharges', 'TotalCharges'],\n",
        "                colors=['blue', 'orange', 'blue'], grid_shape=(1, 3))"
      ]
    },
    {
      "cell_type": "markdown",
      "metadata": {
        "id": "7x4aw1j5wNmn"
      },
      "source": [
        "### **5. Há *outliers* presentes?**\n"
      ]
    },
    {
      "cell_type": "markdown",
      "metadata": {
        "id": "hKzxRwytG66S"
      },
      "source": [
        "**<h4> Método do Intervalo Interquartil (IQR)</h4>**\n",
        "\n",
        "O intervalo interquartil (IQR) é uma medida de dispersão que indica a amplitude do intervalo central de 50% dos dados. Ele é calculado subtraindo-se o primeiro quartil (Q1) do terceiro quartil (Q3).\n",
        "A fórmula para calcular o IQR é:\n",
        "\n",
        "$$\\text{IQR} = Q3 - Q1$$\n",
        "\n",
        "Utilizando o IQR, podemos identificar outliers com base nos limites inferior e superior, que são definidos como:\n",
        "\n",
        "$$\\text{Limite Inferior} = Q1 - 1.5 \\times \\text{IQR}$$\n",
        "$$\\text{Limite Superior} = Q3 + 1.5 \\times \\text{IQR}$$\n",
        "\n",
        "Os valores que estão fora desse intervalo são considerados outliers.\n",
        "\n",
        "Especificamente:\n",
        "\n",
        "* Um valor é considerado um outlier inferior se for menor que o Limite Inferior.\n",
        "* Um valor é considerado um outlier superior se for maior que o Limite Superior.\n",
        "\n",
        "\n",
        "\n",
        "\n",
        "\n"
      ]
    },
    {
      "cell_type": "markdown",
      "metadata": {
        "id": "-GHu0LkDlPCH"
      },
      "source": [
        "A seguir, criarei uma função chamada `detect_outliers_iqr` que utiliza o método do intervalo interquartil (IQR). Esta função será aplicada às variáveis numéricas `MonthlyCharge`, `TotalCharges` e `tenure`.\n"
      ]
    },
    {
      "cell_type": "code",
      "execution_count": null,
      "metadata": {
        "id": "192oWhHQjvsd"
      },
      "outputs": [],
      "source": [
        "def detect_outliers_iqr(data):\n",
        "    Q1 = np.nanpercentile(data, 25)\n",
        "    Q3 = np.nanpercentile(data, 75)\n",
        "    IQR = Q3 - Q1\n",
        "    lower_bound = Q1 - 1.5 * IQR\n",
        "    upper_bound = Q3 + 1.5 * IQR\n",
        "    n_outliers = ((data < lower_bound) | (data > upper_bound))\n",
        "    return n_outliers"
      ]
    },
    {
      "cell_type": "markdown",
      "metadata": {
        "id": "Vvpm_bF0uVCy"
      },
      "source": [
        "aqui, irei aplicar a função `detect_outliers_iqr` e, em seguida, imprimir a quantidade de outliers encontrados em cada coluna"
      ]
    },
    {
      "cell_type": "code",
      "execution_count": null,
      "metadata": {
        "colab": {
          "base_uri": "https://localhost:8080/"
        },
        "id": "Vov74Pjuj0sZ",
        "outputId": "9d81a566-3ea2-4837-b15f-b944ac92cecd"
      },
      "outputs": [
        {
          "output_type": "stream",
          "name": "stdout",
          "text": [
            "No outliers found.\n",
            "No outliers found.\n",
            "No outliers found.\n"
          ]
        }
      ],
      "source": [
        "for column in ['MonthlyCharges', 'TotalCharges','tenure']:\n",
        "    result = detect_outliers_iqr(df_churn[column])\n",
        "    print(\"No outliers found.\" if result.sum()== 0 else result.sum())"
      ]
    },
    {
      "cell_type": "markdown",
      "metadata": {
        "id": "8bJoU_f0lFgy"
      },
      "source": [
        "Podemos constatar que as nossas variaveis numericas não possuem outliers detectáveis pelo método do IQR.\n",
        "\n",
        "A análise do boxplot para as colunas MonthlyCharges, TotalCharges e tenure reforça essa hipótese. O boxplot utiliza os quartis e a amplitude interquartil (IQR) para determinar os limites além dos quais os dados são considerados outliers."
      ]
    },
    {
      "cell_type": "code",
      "execution_count": null,
      "metadata": {
        "id": "mIbD2XFNXB1g"
      },
      "outputs": [],
      "source": [
        "def custom_boxplot(data, columns, colors, grid_shape=(2, 3), figsize=(14, 8), dpi=72):\n",
        "    n_rows, n_cols = grid_shape\n",
        "    fig, ax = plt.subplots(n_rows, n_cols, figsize=figsize, dpi=dpi)\n",
        "    axes = ax.flatten()\n",
        "\n",
        "    for axis, column, color in zip(axes, columns, colors):\n",
        "        sns.boxplot(data=data, x=column, color=color, ax=axis)\n",
        "        axis.spines['right'].set_visible(False)\n",
        "        axis.spines['top'].set_visible(False)\n",
        "\n",
        "    for remaining_ax in axes[len(columns):]:\n",
        "        remaining_ax.set_visible(False)\n",
        "\n",
        "    return plt.tight_layout()"
      ]
    },
    {
      "cell_type": "code",
      "execution_count": null,
      "metadata": {
        "colab": {
          "base_uri": "https://localhost:8080/",
          "height": 297
        },
        "id": "5AbMFtSmXEds",
        "outputId": "a66ca0d5-f7ce-45da-bbc8-ffd51fd3b04f"
      },
      "outputs": [
        {
          "data": {
            "image/png": "[encoded data removed]",
            "text/plain": [
              "<Figure size 1080x288 with 3 Axes>"
            ]
          },
          "metadata": {},
          "output_type": "display_data"
        }
      ],
      "source": [
        "custom_boxplot(data=df_churn, colors=['blue', 'blue', 'blue'],\n",
        "               columns=['MonthlyCharges', 'TotalCharges','tenure'],\n",
        "               grid_shape=(1, 3),figsize=(15, 4))"
      ]
    },
    {
      "cell_type": "markdown",
      "metadata": {
        "id": "tua8q2ifvkML"
      },
      "source": [
        "* Durante a análise, não foram encontradas anomalias (outliers) que pudessem afetar a confiabilidade dos resultados obtidos."
      ]
    },
    {
      "cell_type": "markdown",
      "metadata": {
        "id": "3kjfTiHKJ6ru"
      },
      "source": [
        "### **6. Qual a correlação existente entre as variáveis?**"
      ]
    },
    {
      "cell_type": "markdown",
      "metadata": {
        "id": "hXsrjiMuskTo"
      },
      "source": [
        "A correlação é uma medida que descreve a direção e a intensidade da relação entre duas ou mais variáveis. Para determinar as correlações existentes entre as variáveis de interesse, é comum gerar uma matriz de correlação. Essa matriz é composta por coeficientes de correlação que indicam a força e a direção da relação entre cada par de variáveis."
      ]
    },
    {
      "cell_type": "code",
      "execution_count": null,
      "metadata": {
        "colab": {
          "base_uri": "https://localhost:8080/",
          "height": 143
        },
        "id": "ZYxIsYrgTmKq",
        "outputId": "063494f0-fabe-472d-a3ee-b1184e7b968a"
      },
      "outputs": [
        {
          "data": {
            "text/html": [
              "<style type=\"text/css\">\n",
              "#T_81c21_row0_col0, #T_81c21_row1_col1, #T_81c21_row2_col2 {\n",
              "  background-color: #014636;\n",
              "  color: #f1f1f1;\n",
              "}\n",
              "#T_81c21_row0_col1, #T_81c21_row1_col0, #T_81c21_row1_col2 {\n",
              "  background-color: #fff7fb;\n",
              "  color: #000000;\n",
              "}\n",
              "#T_81c21_row0_col2 {\n",
              "  background-color: #66a9cf;\n",
              "  color: #f1f1f1;\n",
              "}\n",
              "#T_81c21_row2_col0 {\n",
              "  background-color: #027e83;\n",
              "  color: #f1f1f1;\n",
              "}\n",
              "#T_81c21_row2_col1 {\n",
              "  background-color: #58a2cb;\n",
              "  color: #f1f1f1;\n",
              "}\n",
              "</style>\n",
              "<table id=\"T_81c21\" class=\"dataframe\">\n",
              "  <thead>\n",
              "    <tr>\n",
              "      <th class=\"blank level0\" >&nbsp;</th>\n",
              "      <th id=\"T_81c21_level0_col0\" class=\"col_heading level0 col0\" >tenure</th>\n",
              "      <th id=\"T_81c21_level0_col1\" class=\"col_heading level0 col1\" >MonthlyCharges</th>\n",
              "      <th id=\"T_81c21_level0_col2\" class=\"col_heading level0 col2\" >TotalCharges</th>\n",
              "    </tr>\n",
              "  </thead>\n",
              "  <tbody>\n",
              "    <tr>\n",
              "      <th id=\"T_81c21_level0_row0\" class=\"row_heading level0 row0\" >tenure</th>\n",
              "      <td id=\"T_81c21_row0_col0\" class=\"data row0 col0\" >1.000000</td>\n",
              "      <td id=\"T_81c21_row0_col1\" class=\"data row0 col1\" >0.247900</td>\n",
              "      <td id=\"T_81c21_row0_col2\" class=\"data row0 col2\" >0.825464</td>\n",
              "    </tr>\n",
              "    <tr>\n",
              "      <th id=\"T_81c21_level0_row1\" class=\"row_heading level0 row1\" >MonthlyCharges</th>\n",
              "      <td id=\"T_81c21_row1_col0\" class=\"data row1 col0\" >0.247900</td>\n",
              "      <td id=\"T_81c21_row1_col1\" class=\"data row1 col1\" >1.000000</td>\n",
              "      <td id=\"T_81c21_row1_col2\" class=\"data row1 col2\" >0.650864</td>\n",
              "    </tr>\n",
              "    <tr>\n",
              "      <th id=\"T_81c21_level0_row2\" class=\"row_heading level0 row2\" >TotalCharges</th>\n",
              "      <td id=\"T_81c21_row2_col0\" class=\"data row2 col0\" >0.825464</td>\n",
              "      <td id=\"T_81c21_row2_col1\" class=\"data row2 col1\" >0.650864</td>\n",
              "      <td id=\"T_81c21_row2_col2\" class=\"data row2 col2\" >1.000000</td>\n",
              "    </tr>\n",
              "  </tbody>\n",
              "</table>\n"
            ],
            "text/plain": [
              "<pandas.io.formats.style.Styler at 0x7a6e0260d030>"
            ]
          },
          "execution_count": 34,
          "metadata": {},
          "output_type": "execute_result"
        }
      ],
      "source": [
        "columns_numeric = df_churn.select_dtypes(include=[np.number])\n",
        "corr = columns_numeric.corr().copy()\n",
        "corr.style.background_gradient(cmap='PuBuGn')"
      ]
    },
    {
      "cell_type": "markdown",
      "metadata": {
        "id": "f5JkwM8_vpA8"
      },
      "source": [
        "Com base na matriz de correlação, é possível observar que existem associações significativas entre algumas das variáveis.\n",
        "\n",
        "* Por exemplo, há uma forte associação positiva entre as variáveis ``tenure`` e ``TotalCharges``, com uma correlação de 82%. Em média, os clientes que permanecem mais tempo na empresa de telecomunicações (tenure maior) tendem a ter um valor total cobrado mais alto (TotalCharges). No entanto, é preciso lembrar que correlação não implica causalidade, ou seja, não podemos afirmar que o aumento do tempo de permanência seja a única causa do aumento do valor total cobrado pelo serviço.\n",
        "\n",
        "* O mesmo se aplica à correlação de 65% entre as variáveis ``MonthlyCharges`` e ``TotalCharges``, indicando uma forte relação positiva entre elas.\n",
        "Isso representa que, em geral, à medida que o valor mensal cobrado do cliente aumenta, o valor total cobrado pelo serviço também tende a aumentar.\n"
      ]
    },
    {
      "cell_type": "markdown",
      "metadata": {
        "id": "-ZK0KhjkVswL"
      },
      "source": [
        "##  Pré-processamento de dados\n",
        "\n",
        "Com base nos resultados da análise exploratória, podemos direcionar nossos esforços para o pré-processamento dos dados. Essa etapa inclui uma série de atividades que têm como objetivo preparar os dados para modelagem, tornando-os mais adequados para uso em modelos e algoritmos. As atividades que realizamos incluem limpeza dos dados, remoção de valores ausentes, padronização, normalização, codificação de variáveis e inclui a divisão dos dados em conjuntos de treinamento e teste."
      ]
    },
    {
      "cell_type": "code",
      "execution_count": null,
      "metadata": {
        "id": "TnSrjmEYIekY"
      },
      "outputs": [],
      "source": [
        "!pip install category-encoders\n",
        "from sklearn.model_selection import train_test_split\n",
        "from category_encoders.one_hot import OneHotEncoder\n",
        "from sklearn.preprocessing import StandardScaler\n",
        "from imblearn.over_sampling import SMOTENC"
      ]
    },
    {
      "cell_type": "markdown",
      "metadata": {
        "id": "A5CLlN_q66vx"
      },
      "source": [
        "### **Separando entre Treino e Teste**\n",
        "A separação de dados em treino e teste é um processo importante em machine learning. O objetivo é dividir os dados em dois conjuntos: um para treinar o modelo e outro para testá-lo. Isso é feito para evitar que o modelo seja treinado de forma a se adaptar apenas aos dados de treino, o que pode levar a problemas como overfitting.\n"
      ]
    },
    {
      "cell_type": "markdown",
      "metadata": {
        "id": "EYLhxRE_6ys9"
      },
      "source": [
        "* Aproveitando e excluíndo a coluna customerID, é uma variavel desnecessária ao longo de todo este projeto, devido não ter importancia preditiva para nosso modelo"
      ]
    },
    {
      "cell_type": "code",
      "source": [
        "df_churn.drop(columns=['customerID'], inplace=True)\n",
        "df_churn.Churn = df_churn['Churn'].map({'No':0, 'Yes':1}).copy()\n",
        "features = df_churn.drop(columns='Churn').copy()\n",
        "target = df_churn.Churn.copy()\n",
        "X_train, X_test, y_train, y_test = train_test_split(features, target, test_size=0.20, random_state=0,shuffle=True)"
      ],
      "metadata": {
        "id": "7WV67Pjx686R"
      },
      "execution_count": null,
      "outputs": []
    },
    {
      "cell_type": "markdown",
      "metadata": {
        "id": "tE85kpeol2ND"
      },
      "source": [
        "**Conjunto de Treino**\n",
        "\n",
        "O conjunto de dados de treinamento é utilizado para treinar o modelo, desenvolver o pipeline de processamento dos dados e criar nossa baseline. Esta baseline será usada como referência para selecionar o modelo que será otimizado."
      ]
    },
    {
      "cell_type": "code",
      "execution_count": null,
      "metadata": {
        "colab": {
          "base_uri": "https://localhost:8080/"
        },
        "id": "xznYU_mul0lD",
        "outputId": "bad4882a-3149-44bd-bac3-b2291b438575"
      },
      "outputs": [
        {
          "output_type": "stream",
          "name": "stdout",
          "text": [
            "X_train: shape:(5634, 19)\n",
            "y_train: shape:(5634,)\n"
          ]
        }
      ],
      "source": [
        "print(f'X_train: shape:{X_train.shape}')\n",
        "print(f'y_train: shape:{y_train.shape}')"
      ]
    },
    {
      "cell_type": "markdown",
      "metadata": {
        "id": "YKvbZ3A8o8Ic"
      },
      "source": [
        "**Conjunto de Teste**\n",
        "\n",
        "Esse conjunto é utilizado apenas no final, com o seu modelo pronto, e otimizado, para testar o resultado do modelo pronto com dados novos, da mesma forma que ele receberá esses dados no mundo real."
      ]
    },
    {
      "cell_type": "code",
      "execution_count": null,
      "metadata": {
        "colab": {
          "base_uri": "https://localhost:8080/"
        },
        "id": "ya2jp5a5mXS1",
        "outputId": "b7e7ffc9-5fb9-4bcc-f61f-191e0cac7a9f"
      },
      "outputs": [
        {
          "output_type": "stream",
          "name": "stdout",
          "text": [
            "X_test: shape:(1409, 19)\n",
            "y_test: shape:(1409,)\n"
          ]
        }
      ],
      "source": [
        "print(f'X_test: shape:{X_test.shape}')\n",
        "print(f'y_test: shape:{y_test.shape}')"
      ]
    },
    {
      "cell_type": "markdown",
      "metadata": {
        "id": "LM9UEw-UVtWQ"
      },
      "source": [
        "### **Balanceamento dos dados - SMOTENC**\n",
        "\n",
        "O balanceamento de dados é uma técnica importante em machine learning, especialmente quando lidamos com conjuntos de dados desbalanceados, onde uma classe tem muito mais exemplos do que a outra. Isso pode causar problemas ao modelo, pois ele tende a se ajustar à classe majoritária e não reflete a realidade.\n",
        "\n",
        "Uma técnica avançada para balancear dados é o **SMOTENC (Synthetic Minority Over-sampling Technique for imbalanced data with categorical variables)**.\n",
        "Ele é uma extensão do algoritmo SMOTE, que gera dados sintéticos da classe minoritária, mas trata os dados categóricos de forma diferente. Isso é especialmente útil quando o conjunto de dados contém tanto variáveis numéricas quanto categóricas\n",
        "\n",
        "\n",
        "\n",
        "\n",
        "\n",
        "\n",
        "\n",
        "\n",
        "\n",
        "\n",
        "\n",
        "\n",
        "\n",
        "\n",
        "\n",
        "\n",
        "\n",
        "\n",
        "\n",
        "\n",
        "\n",
        "\n"
      ]
    },
    {
      "cell_type": "markdown",
      "metadata": {
        "id": "vKApY25rNoSs"
      },
      "source": [
        "* Usando a biblioteca imblearn é possível aplicar facilmente técnicas de balanceamento de dados."
      ]
    },
    {
      "cell_type": "code",
      "source": [
        "cat_cols = [X_train[col].dtype == 'object' for col in X_train.columns]\n",
        "smotenc = SMOTENC(categorical_features=cat_cols,sampling_strategy='minority', random_state=42)\n",
        "X_train_smotenc, y_train_smotenc = smotenc.fit_resample(X_train, y_train)\n",
        "fig, ax = plt.subplots(figsize=(10, 6), dpi=72)\n",
        "sns.set_style(\"white\")\n",
        "sns.countplot(x=y_train_smotenc, palette=['#0073CF', \"#D3D3D3\"], linewidth=0, edgecolor=\"none\", ax=ax)\n",
        "ax.spines['right'].set_visible(False)\n",
        "ax.spines['top'].set_visible(False)\n",
        "ax.text(-0, 5100, 'Distribuição de Churn' ,\n",
        "        fontsize=20, fontweight='medium',va='bottom', color='black')\n",
        "ax.set_ylabel('Quantidade de Clientes')\n",
        "ax.set_xlabel('Churn')\n",
        "plt.tight_layout()"
      ],
      "metadata": {
        "colab": {
          "base_uri": "https://localhost:8080/",
          "height": 436
        },
        "id": "rOL_lBQiEClT",
        "outputId": "655b93b2-f09d-4118-869a-1f742ec2665c"
      },
      "execution_count": null,
      "outputs": [
        {
          "output_type": "display_data",
          "data": {
            "text/plain": [
              "<Figure size 720x432 with 1 Axes>"
            ],
            "image/png": "[encoded data removed]"
          },
          "metadata": {}
        }
      ]
    },
    {
      "cell_type": "markdown",
      "metadata": {
        "id": "nzP-ltjhhGkB"
      },
      "source": [
        "### **Codificação de variáveis categóricas - One-Hot Encoder**\n",
        "\n",
        "Na análise exploratoria de dados, é comum trabalhar com variáveis ​​categóricas, que representam características qualitativas de um conjunto de dados. No entanto, muitos algoritmos de Machine learning exigem que os dados de entrada sejam numéricos. É necessário converter essas variáveis ​​categóricas em um formato numérico, preservando as informações originais.\n",
        "\n",
        "One-Hot Encoder é uma técnica de pré-processamento que é usada para converter variáveis categóricas em vetores binários. Ele cria um novo recurso para cada categoria única e atribui um valor binário (1 ou 0) para cada recurso, indicando se a amostra tem ou não a categoria correspondente. Essa técnica é útil quando não há ordem natural nas categorias e todas as categorias são igualmente importantes."
      ]
    },
    {
      "cell_type": "markdown",
      "source": [
        "Aqui, Utilizei a classe OneHotEncoder da biblioteca category_encoders para realizar a codificação one-hot da variáveis categóricas presente no conjunto de dados de treinamento."
      ],
      "metadata": {
        "id": "4ZsBNmNt3UxJ"
      }
    },
    {
      "cell_type": "code",
      "source": [
        "cols_to_encode = X_train_smotenc.select_dtypes(include='object').columns.copy()\n",
        "encoder = OneHotEncoder(handle_unknown='ignore')\n",
        "X_train_enc = encoder.fit_transform(X_train_smotenc[cols_to_encode].copy())\n",
        "X_train_enc.reset_index(inplace=True)\n",
        "X_train_enc.drop(columns='index', inplace=True)"
      ],
      "metadata": {
        "id": "h2kiLOwU_LGw"
      },
      "execution_count": null,
      "outputs": []
    },
    {
      "cell_type": "markdown",
      "metadata": {
        "id": "MkJcR0EGtZ82"
      },
      "source": [
        "### **Padronização de dados - Standard Scaler**\n",
        "\n",
        "A padronização de dados consiste na transformação de variáveis numéricas para uma escala comum. O objetivo é normalizar as escalas das variáveis, evitando que qualquer uma delas exerça influência excessiva sobre os modelos.\n",
        "\n",
        "Uma das técnicas para dimensionar dados é o `StandardScaler`, que padroniza as características removendo a média e escalando para a variância unitária. Isto significa que cada característica do conjunto de dados será transformada para ter uma média igual a zero e um desvio padrão igual a um.\n",
        "\n",
        "* A fórmula utilizada pelo `StandardScaler` é:\n",
        "\n",
        "##$$z = \\frac{x - \\mu}{\\sigma}$$##\n",
        "\n",
        "- $z$ é o valor padronizado\n",
        "- $x$ é o valor original\n",
        "- $\\mu$ é a média dos dados\n",
        "- $\\sigma$ é o desvio padrão dos dados\n"
      ]
    },
    {
      "cell_type": "code",
      "source": [
        "cols_to_scale = X_train_smotenc.select_dtypes(include='number').columns.copy()\n",
        "scaler = StandardScaler()\n",
        "X_train_scaler = scaler.fit_transform(X_train_smotenc[cols_to_scale].copy())"
      ],
      "metadata": {
        "id": "MEnKtXlVEVnE"
      },
      "execution_count": null,
      "outputs": []
    },
    {
      "cell_type": "markdown",
      "source": [
        "Em seguida, concatenarei os dados categóricos previamente codificados (X_train_enc) com os dados escalonados (X_train_scaler) em um único DataFrame."
      ],
      "metadata": {
        "id": "pMzPFjfkDbWG"
      }
    },
    {
      "cell_type": "code",
      "source": [
        "X_train_transform = pd.DataFrame(X_train_scaler, columns=X_train_smotenc[cols_to_scale].columns)\n",
        "X_train_transform = pd.concat([X_train_enc, X_train_transform], axis=1).copy()\n",
        "X_train_transform.head()"
      ],
      "metadata": {
        "colab": {
          "base_uri": "https://localhost:8080/",
          "height": 255
        },
        "id": "sjwJeYewF75F",
        "outputId": "d26c3d2c-8787-40c6-ed44-25d7a8e868df"
      },
      "execution_count": null,
      "outputs": [
        {
          "output_type": "execute_result",
          "data": {
            "text/plain": [
              "   gender_1  gender_2  SeniorCitizen_1  SeniorCitizen_2  Partner_1  Partner_2  \\\n",
              "0         1         0                1                0          1          0   \n",
              "1         1         0                0                1          0          1   \n",
              "2         1         0                1                0          1          0   \n",
              "3         0         1                1                0          1          0   \n",
              "4         1         0                1                0          1          0   \n",
              "\n",
              "   Dependents_1  Dependents_2  PhoneService_1  PhoneService_2  ...  \\\n",
              "0             1             0               1               0  ...   \n",
              "1             1             0               0               1  ...   \n",
              "2             0             1               1               0  ...   \n",
              "3             0             1               1               0  ...   \n",
              "4             1             0               1               0  ...   \n",
              "\n",
              "   Contract_3  PaperlessBilling_1  PaperlessBilling_2  PaymentMethod_1  \\\n",
              "0           0                   1                   0                1   \n",
              "1           0                   0                   1                0   \n",
              "2           0                   1                   0                0   \n",
              "3           1                   0                   1                1   \n",
              "4           0                   0                   1                0   \n",
              "\n",
              "   PaymentMethod_2  PaymentMethod_3  PaymentMethod_4    tenure  \\\n",
              "0                0                0                0  1.861389   \n",
              "1                1                0                0 -0.562977   \n",
              "2                0                1                0  1.819589   \n",
              "3                0                0                0  0.231212   \n",
              "4                1                0                0  0.816403   \n",
              "\n",
              "   MonthlyCharges  TotalCharges  \n",
              "0        0.597136      1.902123  \n",
              "1       -0.760000     -0.626773  \n",
              "2       -1.518245     -0.101940  \n",
              "3        0.204880      0.172274  \n",
              "4        1.075198      1.154114  \n",
              "\n",
              "[5 rows x 46 columns]"
            ],
            "text/html": [
              "\n",
              "  <div id=\"df-cb2c9d81-300c-4365-a7c7-23eea2ebb921\" class=\"colab-df-container\">\n",
              "    <div>\n",
              "<style scoped>\n",
              "    .dataframe tbody tr th:only-of-type {\n",
              "        vertical-align: middle;\n",
              "    }\n",
              "\n",
              "    .dataframe tbody tr th {\n",
              "        vertical-align: top;\n",
              "    }\n",
              "\n",
              "    .dataframe thead th {\n",
              "        text-align: right;\n",
              "    }\n",
              "</style>\n",
              "<table border=\"1\" class=\"dataframe\">\n",
              "  <thead>\n",
              "    <tr style=\"text-align: right;\">\n",
              "      <th></th>\n",
              "      <th>gender_1</th>\n",
              "      <th>gender_2</th>\n",
              "      <th>SeniorCitizen_1</th>\n",
              "      <th>SeniorCitizen_2</th>\n",
              "      <th>Partner_1</th>\n",
              "      <th>Partner_2</th>\n",
              "      <th>Dependents_1</th>\n",
              "      <th>Dependents_2</th>\n",
              "      <th>PhoneService_1</th>\n",
              "      <th>PhoneService_2</th>\n",
              "      <th>...</th>\n",
              "      <th>Contract_3</th>\n",
              "      <th>PaperlessBilling_1</th>\n",
              "      <th>PaperlessBilling_2</th>\n",
              "      <th>PaymentMethod_1</th>\n",
              "      <th>PaymentMethod_2</th>\n",
              "      <th>PaymentMethod_3</th>\n",
              "      <th>PaymentMethod_4</th>\n",
              "      <th>tenure</th>\n",
              "      <th>MonthlyCharges</th>\n",
              "      <th>TotalCharges</th>\n",
              "    </tr>\n",
              "  </thead>\n",
              "  <tbody>\n",
              "    <tr>\n",
              "      <th>0</th>\n",
              "      <td>1</td>\n",
              "      <td>0</td>\n",
              "      <td>1</td>\n",
              "      <td>0</td>\n",
              "      <td>1</td>\n",
              "      <td>0</td>\n",
              "      <td>1</td>\n",
              "      <td>0</td>\n",
              "      <td>1</td>\n",
              "      <td>0</td>\n",
              "      <td>...</td>\n",
              "      <td>0</td>\n",
              "      <td>1</td>\n",
              "      <td>0</td>\n",
              "      <td>1</td>\n",
              "      <td>0</td>\n",
              "      <td>0</td>\n",
              "      <td>0</td>\n",
              "      <td>1.861389</td>\n",
              "      <td>0.597136</td>\n",
              "      <td>1.902123</td>\n",
              "    </tr>\n",
              "    <tr>\n",
              "      <th>1</th>\n",
              "      <td>1</td>\n",
              "      <td>0</td>\n",
              "      <td>0</td>\n",
              "      <td>1</td>\n",
              "      <td>0</td>\n",
              "      <td>1</td>\n",
              "      <td>1</td>\n",
              "      <td>0</td>\n",
              "      <td>0</td>\n",
              "      <td>1</td>\n",
              "      <td>...</td>\n",
              "      <td>0</td>\n",
              "      <td>0</td>\n",
              "      <td>1</td>\n",
              "      <td>0</td>\n",
              "      <td>1</td>\n",
              "      <td>0</td>\n",
              "      <td>0</td>\n",
              "      <td>-0.562977</td>\n",
              "      <td>-0.760000</td>\n",
              "      <td>-0.626773</td>\n",
              "    </tr>\n",
              "    <tr>\n",
              "      <th>2</th>\n",
              "      <td>1</td>\n",
              "      <td>0</td>\n",
              "      <td>1</td>\n",
              "      <td>0</td>\n",
              "      <td>1</td>\n",
              "      <td>0</td>\n",
              "      <td>0</td>\n",
              "      <td>1</td>\n",
              "      <td>1</td>\n",
              "      <td>0</td>\n",
              "      <td>...</td>\n",
              "      <td>0</td>\n",
              "      <td>1</td>\n",
              "      <td>0</td>\n",
              "      <td>0</td>\n",
              "      <td>0</td>\n",
              "      <td>1</td>\n",
              "      <td>0</td>\n",
              "      <td>1.819589</td>\n",
              "      <td>-1.518245</td>\n",
              "      <td>-0.101940</td>\n",
              "    </tr>\n",
              "    <tr>\n",
              "      <th>3</th>\n",
              "      <td>0</td>\n",
              "      <td>1</td>\n",
              "      <td>1</td>\n",
              "      <td>0</td>\n",
              "      <td>1</td>\n",
              "      <td>0</td>\n",
              "      <td>0</td>\n",
              "      <td>1</td>\n",
              "      <td>1</td>\n",
              "      <td>0</td>\n",
              "      <td>...</td>\n",
              "      <td>1</td>\n",
              "      <td>0</td>\n",
              "      <td>1</td>\n",
              "      <td>1</td>\n",
              "      <td>0</td>\n",
              "      <td>0</td>\n",
              "      <td>0</td>\n",
              "      <td>0.231212</td>\n",
              "      <td>0.204880</td>\n",
              "      <td>0.172274</td>\n",
              "    </tr>\n",
              "    <tr>\n",
              "      <th>4</th>\n",
              "      <td>1</td>\n",
              "      <td>0</td>\n",
              "      <td>1</td>\n",
              "      <td>0</td>\n",
              "      <td>1</td>\n",
              "      <td>0</td>\n",
              "      <td>1</td>\n",
              "      <td>0</td>\n",
              "      <td>1</td>\n",
              "      <td>0</td>\n",
              "      <td>...</td>\n",
              "      <td>0</td>\n",
              "      <td>0</td>\n",
              "      <td>1</td>\n",
              "      <td>0</td>\n",
              "      <td>1</td>\n",
              "      <td>0</td>\n",
              "      <td>0</td>\n",
              "      <td>0.816403</td>\n",
              "      <td>1.075198</td>\n",
              "      <td>1.154114</td>\n",
              "    </tr>\n",
              "  </tbody>\n",
              "</table>\n",
              "<p>5 rows × 46 columns</p>\n",
              "</div>\n",
              "    <div class=\"colab-df-buttons\">\n",
              "\n",
              "  <div class=\"colab-df-container\">\n",
              "    <button class=\"colab-df-convert\" onclick=\"convertToInteractive('df-cb2c9d81-300c-4365-a7c7-23eea2ebb921')\"\n",
              "            title=\"Convert this dataframe to an interactive table.\"\n",
              "            style=\"display:none;\">\n",
              "\n",
              "  <svg xmlns=\"http://www.w3.org/2000/svg\" height=\"24px\" viewBox=\"0 -960 960 960\">\n",
              "    <path d=\"M120-120v-720h720v720H120Zm60-500h600v-160H180v160Zm220 220h160v-160H400v160Zm0 220h160v-160H400v160ZM180-400h160v-160H180v160Zm440 0h160v-160H620v160ZM180-180h160v-160H180v160Zm440 0h160v-160H620v160Z\"/>\n",
              "  </svg>\n",
              "    </button>\n",
              "\n",
              "  <style>\n",
              "    .colab-df-container {\n",
              "      display:flex;\n",
              "      gap: 12px;\n",
              "    }\n",
              "\n",
              "    .colab-df-convert {\n",
              "      background-color: #E8F0FE;\n",
              "      border: none;\n",
              "      border-radius: 50%;\n",
              "      cursor: pointer;\n",
              "      display: none;\n",
              "      fill: #1967D2;\n",
              "      height: 32px;\n",
              "      padding: 0 0 0 0;\n",
              "      width: 32px;\n",
              "    }\n",
              "\n",
              "    .colab-df-convert:hover {\n",
              "      background-color: #E2EBFA;\n",
              "      box-shadow: 0px 1px 2px rgba(60, 64, 67, 0.3), 0px 1px 3px 1px rgba(60, 64, 67, 0.15);\n",
              "      fill: #174EA6;\n",
              "    }\n",
              "\n",
              "    .colab-df-buttons div {\n",
              "      margin-bottom: 4px;\n",
              "    }\n",
              "\n",
              "    [theme=dark] .colab-df-convert {\n",
              "      background-color: #3B4455;\n",
              "      fill: #D2E3FC;\n",
              "    }\n",
              "\n",
              "    [theme=dark] .colab-df-convert:hover {\n",
              "      background-color: #434B5C;\n",
              "      box-shadow: 0px 1px 3px 1px rgba(0, 0, 0, 0.15);\n",
              "      filter: drop-shadow(0px 1px 2px rgba(0, 0, 0, 0.3));\n",
              "      fill: #FFFFFF;\n",
              "    }\n",
              "  </style>\n",
              "\n",
              "    <script>\n",
              "      const buttonEl =\n",
              "        document.querySelector('#df-cb2c9d81-300c-4365-a7c7-23eea2ebb921 button.colab-df-convert');\n",
              "      buttonEl.style.display =\n",
              "        google.colab.kernel.accessAllowed ? 'block' : 'none';\n",
              "\n",
              "      async function convertToInteractive(key) {\n",
              "        const element = document.querySelector('#df-cb2c9d81-300c-4365-a7c7-23eea2ebb921');\n",
              "        const dataTable =\n",
              "          await google.colab.kernel.invokeFunction('convertToInteractive',\n",
              "                                                    [key], {});\n",
              "        if (!dataTable) return;\n",
              "\n",
              "        const docLinkHtml = 'Like what you see? Visit the ' +\n",
              "          '<a target=\"_blank\" href=https://colab.research.google.com/notebooks/data_table.ipynb>data table notebook</a>'\n",
              "          + ' to learn more about interactive tables.';\n",
              "        element.innerHTML = '';\n",
              "        dataTable['output_type'] = 'display_data';\n",
              "        await google.colab.output.renderOutput(dataTable, element);\n",
              "        const docLink = document.createElement('div');\n",
              "        docLink.innerHTML = docLinkHtml;\n",
              "        element.appendChild(docLink);\n",
              "      }\n",
              "    </script>\n",
              "  </div>\n",
              "\n",
              "\n",
              "<div id=\"df-261114cd-6d59-4b1d-8209-520c6fbedc58\">\n",
              "  <button class=\"colab-df-quickchart\" onclick=\"quickchart('df-261114cd-6d59-4b1d-8209-520c6fbedc58')\"\n",
              "            title=\"Suggest charts\"\n",
              "            style=\"display:none;\">\n",
              "\n",
              "<svg xmlns=\"http://www.w3.org/2000/svg\" height=\"24px\"viewBox=\"0 0 24 24\"\n",
              "     width=\"24px\">\n",
              "    <g>\n",
              "        <path d=\"M19 3H5c-1.1 0-2 .9-2 2v14c0 1.1.9 2 2 2h14c1.1 0 2-.9 2-2V5c0-1.1-.9-2-2-2zM9 17H7v-7h2v7zm4 0h-2V7h2v10zm4 0h-2v-4h2v4z\"/>\n",
              "    </g>\n",
              "</svg>\n",
              "  </button>\n",
              "\n",
              "<style>\n",
              "  .colab-df-quickchart {\n",
              "      --bg-color: #E8F0FE;\n",
              "      --fill-color: #1967D2;\n",
              "      --hover-bg-color: #E2EBFA;\n",
              "      --hover-fill-color: #174EA6;\n",
              "      --disabled-fill-color: #AAA;\n",
              "      --disabled-bg-color: #DDD;\n",
              "  }\n",
              "\n",
              "  [theme=dark] .colab-df-quickchart {\n",
              "      --bg-color: #3B4455;\n",
              "      --fill-color: #D2E3FC;\n",
              "      --hover-bg-color: #434B5C;\n",
              "      --hover-fill-color: #FFFFFF;\n",
              "      --disabled-bg-color: #3B4455;\n",
              "      --disabled-fill-color: #666;\n",
              "  }\n",
              "\n",
              "  .colab-df-quickchart {\n",
              "    background-color: var(--bg-color);\n",
              "    border: none;\n",
              "    border-radius: 50%;\n",
              "    cursor: pointer;\n",
              "    display: none;\n",
              "    fill: var(--fill-color);\n",
              "    height: 32px;\n",
              "    padding: 0;\n",
              "    width: 32px;\n",
              "  }\n",
              "\n",
              "  .colab-df-quickchart:hover {\n",
              "    background-color: var(--hover-bg-color);\n",
              "    box-shadow: 0 1px 2px rgba(60, 64, 67, 0.3), 0 1px 3px 1px rgba(60, 64, 67, 0.15);\n",
              "    fill: var(--button-hover-fill-color);\n",
              "  }\n",
              "\n",
              "  .colab-df-quickchart-complete:disabled,\n",
              "  .colab-df-quickchart-complete:disabled:hover {\n",
              "    background-color: var(--disabled-bg-color);\n",
              "    fill: var(--disabled-fill-color);\n",
              "    box-shadow: none;\n",
              "  }\n",
              "\n",
              "  .colab-df-spinner {\n",
              "    border: 2px solid var(--fill-color);\n",
              "    border-color: transparent;\n",
              "    border-bottom-color: var(--fill-color);\n",
              "    animation:\n",
              "      spin 1s steps(1) infinite;\n",
              "  }\n",
              "\n",
              "  @keyframes spin {\n",
              "    0% {\n",
              "      border-color: transparent;\n",
              "      border-bottom-color: var(--fill-color);\n",
              "      border-left-color: var(--fill-color);\n",
              "    }\n",
              "    20% {\n",
              "      border-color: transparent;\n",
              "      border-left-color: var(--fill-color);\n",
              "      border-top-color: var(--fill-color);\n",
              "    }\n",
              "    30% {\n",
              "      border-color: transparent;\n",
              "      border-left-color: var(--fill-color);\n",
              "      border-top-color: var(--fill-color);\n",
              "      border-right-color: var(--fill-color);\n",
              "    }\n",
              "    40% {\n",
              "      border-color: transparent;\n",
              "      border-right-color: var(--fill-color);\n",
              "      border-top-color: var(--fill-color);\n",
              "    }\n",
              "    60% {\n",
              "      border-color: transparent;\n",
              "      border-right-color: var(--fill-color);\n",
              "    }\n",
              "    80% {\n",
              "      border-color: transparent;\n",
              "      border-right-color: var(--fill-color);\n",
              "      border-bottom-color: var(--fill-color);\n",
              "    }\n",
              "    90% {\n",
              "      border-color: transparent;\n",
              "      border-bottom-color: var(--fill-color);\n",
              "    }\n",
              "  }\n",
              "</style>\n",
              "\n",
              "  <script>\n",
              "    async function quickchart(key) {\n",
              "      const quickchartButtonEl =\n",
              "        document.querySelector('#' + key + ' button');\n",
              "      quickchartButtonEl.disabled = true;  // To prevent multiple clicks.\n",
              "      quickchartButtonEl.classList.add('colab-df-spinner');\n",
              "      try {\n",
              "        const charts = await google.colab.kernel.invokeFunction(\n",
              "            'suggestCharts', [key], {});\n",
              "      } catch (error) {\n",
              "        console.error('Error during call to suggestCharts:', error);\n",
              "      }\n",
              "      quickchartButtonEl.classList.remove('colab-df-spinner');\n",
              "      quickchartButtonEl.classList.add('colab-df-quickchart-complete');\n",
              "    }\n",
              "    (() => {\n",
              "      let quickchartButtonEl =\n",
              "        document.querySelector('#df-261114cd-6d59-4b1d-8209-520c6fbedc58 button');\n",
              "      quickchartButtonEl.style.display =\n",
              "        google.colab.kernel.accessAllowed ? 'block' : 'none';\n",
              "    })();\n",
              "  </script>\n",
              "</div>\n",
              "\n",
              "    </div>\n",
              "  </div>\n"
            ],
            "application/vnd.google.colaboratory.intrinsic+json": {
              "type": "dataframe",
              "variable_name": "X_train_transform"
            }
          },
          "metadata": {},
          "execution_count": 17
        }
      ]
    },
    {
      "cell_type": "markdown",
      "metadata": {
        "id": "4CE9VaHHEOYk"
      },
      "source": [
        "Com os dados devidamente transformados e sem a necessidade de ajustes adicionais, é possível iniciar a modelagem de Machine Learning."
      ]
    },
    {
      "cell_type": "markdown",
      "metadata": {
        "id": "HsI9ZEenhXGq"
      },
      "source": [
        "##  Modelagem de Machine Learning\n",
        "\n",
        "Depois do pré-processamento de dados, o próximo passo é a criação do modelo. Isso envolve a escolha dos algoritmos de Machine learning mais adequado para o problema e a definição dos parâmetros dos modelos."
      ]
    },
    {
      "cell_type": "code",
      "execution_count": null,
      "metadata": {
        "id": "swCRL1G6IgVr"
      },
      "outputs": [],
      "source": [
        "!pip install scikit-learn scikit-optimize\n",
        "from sklearn.model_selection import cross_val_score\n",
        "from skopt import gp_minimize\n",
        "from skopt.space import Real, Integer, Categorical\n",
        "from skopt.utils import use_named_args\n",
        "from xgboost import XGBClassifier\n",
        "from imblearn.pipeline import Pipeline\n",
        "from lightgbm import LGBMClassifier\n",
        "from sklearn.ensemble import RandomForestClassifier, AdaBoostClassifier\n",
        "from sklearn.linear_model import SGDClassifier\n",
        "from sklearn.compose import ColumnTransformer\n",
        "from sklearn.metrics import recall_score\n",
        "from sklearn.model_selection import StratifiedKFold\n",
        "from sklearn.ensemble import VotingClassifier\n",
        "from sklearn.base import clone\n",
        "import warnings"
      ]
    },
    {
      "cell_type": "markdown",
      "metadata": {
        "id": "tdoRgZ588P87"
      },
      "source": [
        "### **Modelo Baseline de desempenho dos Modelos**\n",
        "\n",
        "O modelo baseline é um modelo simples que nos ajuda a entender o mínimo de desempenho que podemos esperar. Ele serve como uma linha de base para medir o desempenho de modelos mais complexos que desenvolveremos posteriormente.\n",
        "\n",
        "Irei usar a cross-validation para estimar o erro da baseline dos modelos iniciais.  A métrica utilizada para avaliação será `Recall`. Os dados de treinamento utilizados estão desbalanceados e não foram submetidos a qualquer otimização."
      ]
    },
    {
      "cell_type": "markdown",
      "source": [
        "A seguir,  criei um pré-processador usando ColumnTransformer para aplicar diferentes transformações às colunas. As colunas categoricas serão codificada com `OneHotEncoder`, enquanto as colunas numéricas serão escaladas com `StandardScaler`."
      ],
      "metadata": {
        "id": "fiC398cDH-Rp"
      }
    },
    {
      "cell_type": "code",
      "source": [
        "preprocessor = ColumnTransformer(\n",
        "        transformers=[\n",
        "            ('cat', OneHotEncoder(),cols_to_encode),\n",
        "            ('num', StandardScaler(),cols_to_scale)])"
      ],
      "metadata": {
        "id": "BHEhS0mtLQXa"
      },
      "execution_count": null,
      "outputs": []
    },
    {
      "cell_type": "markdown",
      "source": [
        "O modelo `RandomForest` esta sendo utilizado como baseline de desempenho para os demais modelos que iremos testar."
      ],
      "metadata": {
        "id": "w05FjXflIDdZ"
      }
    },
    {
      "cell_type": "code",
      "execution_count": null,
      "metadata": {
        "colab": {
          "base_uri": "https://localhost:8080/"
        },
        "id": "I6NN1eW5dUTl",
        "outputId": "cd0a0dc6-63cf-4de8-db43-5c548af775c8"
      },
      "outputs": [
        {
          "output_type": "stream",
          "name": "stdout",
          "text": [
            "Recall: 0.5023443708609272\n",
            "Deviation: 0.028823668965223623\n"
          ]
        }
      ],
      "source": [
        "pipe = Pipeline(steps=[\n",
        "        ('preprocessor', preprocessor),\n",
        "        ('classifier', RandomForestClassifier())])\n",
        "\n",
        "scores = cross_val_score(pipe, X_train, y_train, cv=10, scoring='recall')\n",
        "print(f'Recall: {np.mean(scores)}')\n",
        "print(f'Deviation: {np.std(scores)}')"
      ]
    },
    {
      "cell_type": "markdown",
      "metadata": {
        "id": "jumO3DpI8D7Y"
      },
      "source": [
        "###**Teste de Performance dos Modelos**\n",
        "\n",
        "\n",
        "\n",
        "Irei aplicar a validação cruzada a vários modelos, buscando aquele que tem o melhor recall na predição de casos de rotatividade de clientes. Novamente, serão utilizados apenas dados de treino. Os modelos escolhidos são:\n",
        "\n",
        "* Stochastic Gradient Descent\n",
        "* Adaboost\n",
        "* XGboost\n",
        "* LightGBM"
      ]
    },
    {
      "cell_type": "markdown",
      "metadata": {
        "id": "uhj06PlvpzyV"
      },
      "source": [
        "Desenvolvi uma função de validação cruzada personalizada para comparar modelos. Essa função realiza a validação cruzada utilizando `StratifiedKFold` para garantir a representatividade das classes em cada split. O `SMOTENC` é usado para balancear as classes nos dados de treinamento.\n",
        "\n",
        "A criação de uma função específica, em vez de usar uma pronta, visa garantir que a distribuição dos splits de validação permaneça inalterada,\n",
        " mantendo a representatividade do mundo real.\n"
      ]
    },
    {
      "cell_type": "code",
      "execution_count": null,
      "metadata": {
        "id": "hQFZyUwQoPqv"
      },
      "outputs": [],
      "source": [
        "def cross_validation(estimator, X, y, preprocessor, bool_category, n_splits=5):\n",
        "    skf = StratifiedKFold(n_splits=n_splits, shuffle=True, random_state=0)\n",
        "    smote = SMOTENC(categorical_features=bool_category,sampling_strategy='minority', random_state=42)\n",
        "    recall_scores = []\n",
        "\n",
        "    for train_index, val_index in skf.split(X, y):\n",
        "        X_train, X_val = X.iloc[train_index], X.iloc[val_index]\n",
        "        y_train, y_val = y.iloc[train_index], y.iloc[val_index]\n",
        "        X_smote, y_smote = smote.fit_resample(X_train, y_train)\n",
        "        pipeline = Pipeline(steps=[\n",
        "              ('preprocessor', preprocessor),\n",
        "              ('estimator', clone(estimator))\n",
        "          ])\n",
        "        pipeline.fit(X_smote, y_smote)\n",
        "        y_pred = pipeline.predict(X_val)\n",
        "        recall = recall_score(y_val, y_pred)\n",
        "        recall_scores.append(recall)\n",
        "\n",
        "    return recall_scores"
      ]
    },
    {
      "cell_type": "markdown",
      "source": [
        "A seguir, com o objetivo de avaliar o desempenho dos modelos de machine learning, estou utilizando a validação cruzada para cada modelo, armazenando os nomes e as pontuações de Recall em listas. Em seguida, essas listas são convertidas em um DataFrame do pandas que organiza as pontuações dos modelos em uma tabela para uma análise mais fácil e comparativa."
      ],
      "metadata": {
        "id": "GUa9Yk6XgEGF"
      }
    },
    {
      "cell_type": "code",
      "execution_count": null,
      "metadata": {
        "collapsed": true,
        "id": "YYtQ3xUM84Dm"
      },
      "outputs": [],
      "source": [
        "xgb = XGBClassifier()\n",
        "adb = AdaBoostClassifier()\n",
        "sgd = SGDClassifier()\n",
        "lgbm = LGBMClassifier()\n",
        "\n",
        "scores = []\n",
        "models = []\n",
        "for clf in (adb, sgd, xgb, lgbm):\n",
        "    model_name = clf.__class__.__name__\n",
        "    score = cross_validation(clf, X_train, y_train,\n",
        "                              preprocessor=preprocessor, bool_category=cat_cols,\n",
        "                              n_splits=10)\n",
        "    models.append(model_name)\n",
        "    scores.append(score)\n",
        "\n",
        "df_classifier = pd.DataFrame(scores, index=models).T"
      ]
    },
    {
      "cell_type": "markdown",
      "metadata": {
        "id": "nlHjpjzGpr2M"
      },
      "source": [
        "* Antes de iniciar a análise dos resultados dos modelos, vamos examinar nosso dataset verificando as cinco primeiras entradas."
      ]
    },
    {
      "cell_type": "code",
      "source": [
        "df_classifier.head()"
      ],
      "metadata": {
        "colab": {
          "base_uri": "https://localhost:8080/",
          "height": 206
        },
        "id": "b4QmCXA90bcC",
        "outputId": "4fb325ee-ee20-441b-f826-745cf0da8990"
      },
      "execution_count": null,
      "outputs": [
        {
          "output_type": "execute_result",
          "data": {
            "text/plain": [
              "   AdaBoostClassifier  SGDClassifier  XGBClassifier  LGBMClassifier\n",
              "0            0.746667       0.740000       0.586667        0.606667\n",
              "1            0.746667       0.720000       0.586667        0.593333\n",
              "2            0.766667       0.840000       0.633333        0.660000\n",
              "3            0.814570       0.735099       0.655629        0.721854\n",
              "4            0.766667       0.666667       0.620000        0.660000"
            ],
            "text/html": [
              "\n",
              "  <div id=\"df-b1e58253-d6eb-456b-bd4e-d65109da962a\" class=\"colab-df-container\">\n",
              "    <div>\n",
              "<style scoped>\n",
              "    .dataframe tbody tr th:only-of-type {\n",
              "        vertical-align: middle;\n",
              "    }\n",
              "\n",
              "    .dataframe tbody tr th {\n",
              "        vertical-align: top;\n",
              "    }\n",
              "\n",
              "    .dataframe thead th {\n",
              "        text-align: right;\n",
              "    }\n",
              "</style>\n",
              "<table border=\"1\" class=\"dataframe\">\n",
              "  <thead>\n",
              "    <tr style=\"text-align: right;\">\n",
              "      <th></th>\n",
              "      <th>AdaBoostClassifier</th>\n",
              "      <th>SGDClassifier</th>\n",
              "      <th>XGBClassifier</th>\n",
              "      <th>LGBMClassifier</th>\n",
              "    </tr>\n",
              "  </thead>\n",
              "  <tbody>\n",
              "    <tr>\n",
              "      <th>0</th>\n",
              "      <td>0.746667</td>\n",
              "      <td>0.740000</td>\n",
              "      <td>0.586667</td>\n",
              "      <td>0.606667</td>\n",
              "    </tr>\n",
              "    <tr>\n",
              "      <th>1</th>\n",
              "      <td>0.746667</td>\n",
              "      <td>0.720000</td>\n",
              "      <td>0.586667</td>\n",
              "      <td>0.593333</td>\n",
              "    </tr>\n",
              "    <tr>\n",
              "      <th>2</th>\n",
              "      <td>0.766667</td>\n",
              "      <td>0.840000</td>\n",
              "      <td>0.633333</td>\n",
              "      <td>0.660000</td>\n",
              "    </tr>\n",
              "    <tr>\n",
              "      <th>3</th>\n",
              "      <td>0.814570</td>\n",
              "      <td>0.735099</td>\n",
              "      <td>0.655629</td>\n",
              "      <td>0.721854</td>\n",
              "    </tr>\n",
              "    <tr>\n",
              "      <th>4</th>\n",
              "      <td>0.766667</td>\n",
              "      <td>0.666667</td>\n",
              "      <td>0.620000</td>\n",
              "      <td>0.660000</td>\n",
              "    </tr>\n",
              "  </tbody>\n",
              "</table>\n",
              "</div>\n",
              "    <div class=\"colab-df-buttons\">\n",
              "\n",
              "  <div class=\"colab-df-container\">\n",
              "    <button class=\"colab-df-convert\" onclick=\"convertToInteractive('df-b1e58253-d6eb-456b-bd4e-d65109da962a')\"\n",
              "            title=\"Convert this dataframe to an interactive table.\"\n",
              "            style=\"display:none;\">\n",
              "\n",
              "  <svg xmlns=\"http://www.w3.org/2000/svg\" height=\"24px\" viewBox=\"0 -960 960 960\">\n",
              "    <path d=\"M120-120v-720h720v720H120Zm60-500h600v-160H180v160Zm220 220h160v-160H400v160Zm0 220h160v-160H400v160ZM180-400h160v-160H180v160Zm440 0h160v-160H620v160ZM180-180h160v-160H180v160Zm440 0h160v-160H620v160Z\"/>\n",
              "  </svg>\n",
              "    </button>\n",
              "\n",
              "  <style>\n",
              "    .colab-df-container {\n",
              "      display:flex;\n",
              "      gap: 12px;\n",
              "    }\n",
              "\n",
              "    .colab-df-convert {\n",
              "      background-color: #E8F0FE;\n",
              "      border: none;\n",
              "      border-radius: 50%;\n",
              "      cursor: pointer;\n",
              "      display: none;\n",
              "      fill: #1967D2;\n",
              "      height: 32px;\n",
              "      padding: 0 0 0 0;\n",
              "      width: 32px;\n",
              "    }\n",
              "\n",
              "    .colab-df-convert:hover {\n",
              "      background-color: #E2EBFA;\n",
              "      box-shadow: 0px 1px 2px rgba(60, 64, 67, 0.3), 0px 1px 3px 1px rgba(60, 64, 67, 0.15);\n",
              "      fill: #174EA6;\n",
              "    }\n",
              "\n",
              "    .colab-df-buttons div {\n",
              "      margin-bottom: 4px;\n",
              "    }\n",
              "\n",
              "    [theme=dark] .colab-df-convert {\n",
              "      background-color: #3B4455;\n",
              "      fill: #D2E3FC;\n",
              "    }\n",
              "\n",
              "    [theme=dark] .colab-df-convert:hover {\n",
              "      background-color: #434B5C;\n",
              "      box-shadow: 0px 1px 3px 1px rgba(0, 0, 0, 0.15);\n",
              "      filter: drop-shadow(0px 1px 2px rgba(0, 0, 0, 0.3));\n",
              "      fill: #FFFFFF;\n",
              "    }\n",
              "  </style>\n",
              "\n",
              "    <script>\n",
              "      const buttonEl =\n",
              "        document.querySelector('#df-b1e58253-d6eb-456b-bd4e-d65109da962a button.colab-df-convert');\n",
              "      buttonEl.style.display =\n",
              "        google.colab.kernel.accessAllowed ? 'block' : 'none';\n",
              "\n",
              "      async function convertToInteractive(key) {\n",
              "        const element = document.querySelector('#df-b1e58253-d6eb-456b-bd4e-d65109da962a');\n",
              "        const dataTable =\n",
              "          await google.colab.kernel.invokeFunction('convertToInteractive',\n",
              "                                                    [key], {});\n",
              "        if (!dataTable) return;\n",
              "\n",
              "        const docLinkHtml = 'Like what you see? Visit the ' +\n",
              "          '<a target=\"_blank\" href=https://colab.research.google.com/notebooks/data_table.ipynb>data table notebook</a>'\n",
              "          + ' to learn more about interactive tables.';\n",
              "        element.innerHTML = '';\n",
              "        dataTable['output_type'] = 'display_data';\n",
              "        await google.colab.output.renderOutput(dataTable, element);\n",
              "        const docLink = document.createElement('div');\n",
              "        docLink.innerHTML = docLinkHtml;\n",
              "        element.appendChild(docLink);\n",
              "      }\n",
              "    </script>\n",
              "  </div>\n",
              "\n",
              "\n",
              "<div id=\"df-7cd7f041-725f-4f77-ac77-69b9bfca744d\">\n",
              "  <button class=\"colab-df-quickchart\" onclick=\"quickchart('df-7cd7f041-725f-4f77-ac77-69b9bfca744d')\"\n",
              "            title=\"Suggest charts\"\n",
              "            style=\"display:none;\">\n",
              "\n",
              "<svg xmlns=\"http://www.w3.org/2000/svg\" height=\"24px\"viewBox=\"0 0 24 24\"\n",
              "     width=\"24px\">\n",
              "    <g>\n",
              "        <path d=\"M19 3H5c-1.1 0-2 .9-2 2v14c0 1.1.9 2 2 2h14c1.1 0 2-.9 2-2V5c0-1.1-.9-2-2-2zM9 17H7v-7h2v7zm4 0h-2V7h2v10zm4 0h-2v-4h2v4z\"/>\n",
              "    </g>\n",
              "</svg>\n",
              "  </button>\n",
              "\n",
              "<style>\n",
              "  .colab-df-quickchart {\n",
              "      --bg-color: #E8F0FE;\n",
              "      --fill-color: #1967D2;\n",
              "      --hover-bg-color: #E2EBFA;\n",
              "      --hover-fill-color: #174EA6;\n",
              "      --disabled-fill-color: #AAA;\n",
              "      --disabled-bg-color: #DDD;\n",
              "  }\n",
              "\n",
              "  [theme=dark] .colab-df-quickchart {\n",
              "      --bg-color: #3B4455;\n",
              "      --fill-color: #D2E3FC;\n",
              "      --hover-bg-color: #434B5C;\n",
              "      --hover-fill-color: #FFFFFF;\n",
              "      --disabled-bg-color: #3B4455;\n",
              "      --disabled-fill-color: #666;\n",
              "  }\n",
              "\n",
              "  .colab-df-quickchart {\n",
              "    background-color: var(--bg-color);\n",
              "    border: none;\n",
              "    border-radius: 50%;\n",
              "    cursor: pointer;\n",
              "    display: none;\n",
              "    fill: var(--fill-color);\n",
              "    height: 32px;\n",
              "    padding: 0;\n",
              "    width: 32px;\n",
              "  }\n",
              "\n",
              "  .colab-df-quickchart:hover {\n",
              "    background-color: var(--hover-bg-color);\n",
              "    box-shadow: 0 1px 2px rgba(60, 64, 67, 0.3), 0 1px 3px 1px rgba(60, 64, 67, 0.15);\n",
              "    fill: var(--button-hover-fill-color);\n",
              "  }\n",
              "\n",
              "  .colab-df-quickchart-complete:disabled,\n",
              "  .colab-df-quickchart-complete:disabled:hover {\n",
              "    background-color: var(--disabled-bg-color);\n",
              "    fill: var(--disabled-fill-color);\n",
              "    box-shadow: none;\n",
              "  }\n",
              "\n",
              "  .colab-df-spinner {\n",
              "    border: 2px solid var(--fill-color);\n",
              "    border-color: transparent;\n",
              "    border-bottom-color: var(--fill-color);\n",
              "    animation:\n",
              "      spin 1s steps(1) infinite;\n",
              "  }\n",
              "\n",
              "  @keyframes spin {\n",
              "    0% {\n",
              "      border-color: transparent;\n",
              "      border-bottom-color: var(--fill-color);\n",
              "      border-left-color: var(--fill-color);\n",
              "    }\n",
              "    20% {\n",
              "      border-color: transparent;\n",
              "      border-left-color: var(--fill-color);\n",
              "      border-top-color: var(--fill-color);\n",
              "    }\n",
              "    30% {\n",
              "      border-color: transparent;\n",
              "      border-left-color: var(--fill-color);\n",
              "      border-top-color: var(--fill-color);\n",
              "      border-right-color: var(--fill-color);\n",
              "    }\n",
              "    40% {\n",
              "      border-color: transparent;\n",
              "      border-right-color: var(--fill-color);\n",
              "      border-top-color: var(--fill-color);\n",
              "    }\n",
              "    60% {\n",
              "      border-color: transparent;\n",
              "      border-right-color: var(--fill-color);\n",
              "    }\n",
              "    80% {\n",
              "      border-color: transparent;\n",
              "      border-right-color: var(--fill-color);\n",
              "      border-bottom-color: var(--fill-color);\n",
              "    }\n",
              "    90% {\n",
              "      border-color: transparent;\n",
              "      border-bottom-color: var(--fill-color);\n",
              "    }\n",
              "  }\n",
              "</style>\n",
              "\n",
              "  <script>\n",
              "    async function quickchart(key) {\n",
              "      const quickchartButtonEl =\n",
              "        document.querySelector('#' + key + ' button');\n",
              "      quickchartButtonEl.disabled = true;  // To prevent multiple clicks.\n",
              "      quickchartButtonEl.classList.add('colab-df-spinner');\n",
              "      try {\n",
              "        const charts = await google.colab.kernel.invokeFunction(\n",
              "            'suggestCharts', [key], {});\n",
              "      } catch (error) {\n",
              "        console.error('Error during call to suggestCharts:', error);\n",
              "      }\n",
              "      quickchartButtonEl.classList.remove('colab-df-spinner');\n",
              "      quickchartButtonEl.classList.add('colab-df-quickchart-complete');\n",
              "    }\n",
              "    (() => {\n",
              "      let quickchartButtonEl =\n",
              "        document.querySelector('#df-7cd7f041-725f-4f77-ac77-69b9bfca744d button');\n",
              "      quickchartButtonEl.style.display =\n",
              "        google.colab.kernel.accessAllowed ? 'block' : 'none';\n",
              "    })();\n",
              "  </script>\n",
              "</div>\n",
              "\n",
              "    </div>\n",
              "  </div>\n"
            ],
            "application/vnd.google.colaboratory.intrinsic+json": {
              "type": "dataframe",
              "variable_name": "df_classifier",
              "summary": "{\n  \"name\": \"df_classifier\",\n  \"rows\": 10,\n  \"fields\": [\n    {\n      \"column\": \"AdaBoostClassifier\",\n      \"properties\": {\n        \"dtype\": \"number\",\n        \"std\": 0.025127894817389584,\n        \"min\": 0.72,\n        \"max\": 0.8145695364238411,\n        \"num_unique_values\": 6,\n        \"samples\": [\n          0.7466666666666667,\n          0.7666666666666667,\n          0.78\n        ],\n        \"semantic_type\": \"\",\n        \"description\": \"\"\n      }\n    },\n    {\n      \"column\": \"SGDClassifier\",\n      \"properties\": {\n        \"dtype\": \"number\",\n        \"std\": 0.07576723073987034,\n        \"min\": 0.6133333333333333,\n        \"max\": 0.84,\n        \"num_unique_values\": 8,\n        \"samples\": [\n          0.72,\n          0.6133333333333333,\n          0.74\n        ],\n        \"semantic_type\": \"\",\n        \"description\": \"\"\n      }\n    },\n    {\n      \"column\": \"XGBClassifier\",\n      \"properties\": {\n        \"dtype\": \"number\",\n        \"std\": 0.025839777610955007,\n        \"min\": 0.5733333333333334,\n        \"max\": 0.6556291390728477,\n        \"num_unique_values\": 8,\n        \"samples\": [\n          0.6333333333333333,\n          0.6266666666666667,\n          0.5866666666666667\n        ],\n        \"semantic_type\": \"\",\n        \"description\": \"\"\n      }\n    },\n    {\n      \"column\": \"LGBMClassifier\",\n      \"properties\": {\n        \"dtype\": \"number\",\n        \"std\": 0.03627438107224304,\n        \"min\": 0.5933333333333334,\n        \"max\": 0.7218543046357616,\n        \"num_unique_values\": 7,\n        \"samples\": [\n          0.6066666666666667,\n          0.5933333333333334,\n          0.6533333333333333\n        ],\n        \"semantic_type\": \"\",\n        \"description\": \"\"\n      }\n    }\n  ]\n}"
            }
          },
          "metadata": {},
          "execution_count": 23
        }
      ]
    },
    {
      "cell_type": "markdown",
      "metadata": {
        "id": "NB4_vcc94nS3"
      },
      "source": [
        "* Com o método `describe`, geraremos estatísticas para os nossos modelos, a fim de compreender melhor seu desempenho"
      ]
    },
    {
      "cell_type": "code",
      "execution_count": null,
      "metadata": {
        "colab": {
          "base_uri": "https://localhost:8080/",
          "height": 300
        },
        "id": "JjRdEhDZODOJ",
        "outputId": "dc992f0a-6e1f-496e-f273-8d8450098a7f"
      },
      "outputs": [
        {
          "output_type": "execute_result",
          "data": {
            "text/plain": [
              "       AdaBoostClassifier  SGDClassifier  XGBClassifier  LGBMClassifier\n",
              "count           10.000000      10.000000      10.000000       10.000000\n",
              "mean             0.760790       0.739510       0.612896        0.644852\n",
              "std              0.025128       0.075767       0.025840        0.036274\n",
              "min              0.720000       0.613333       0.573333        0.593333\n",
              "25%              0.746667       0.680000       0.590000        0.620000\n",
              "50%              0.760000       0.737550       0.616667        0.646667\n",
              "75%              0.766667       0.790000       0.631667        0.660000\n",
              "max              0.814570       0.840000       0.655629        0.721854"
            ],
            "text/html": [
              "\n",
              "  <div id=\"df-05572b26-2e6d-4987-9017-371cf87baf10\" class=\"colab-df-container\">\n",
              "    <div>\n",
              "<style scoped>\n",
              "    .dataframe tbody tr th:only-of-type {\n",
              "        vertical-align: middle;\n",
              "    }\n",
              "\n",
              "    .dataframe tbody tr th {\n",
              "        vertical-align: top;\n",
              "    }\n",
              "\n",
              "    .dataframe thead th {\n",
              "        text-align: right;\n",
              "    }\n",
              "</style>\n",
              "<table border=\"1\" class=\"dataframe\">\n",
              "  <thead>\n",
              "    <tr style=\"text-align: right;\">\n",
              "      <th></th>\n",
              "      <th>AdaBoostClassifier</th>\n",
              "      <th>SGDClassifier</th>\n",
              "      <th>XGBClassifier</th>\n",
              "      <th>LGBMClassifier</th>\n",
              "    </tr>\n",
              "  </thead>\n",
              "  <tbody>\n",
              "    <tr>\n",
              "      <th>count</th>\n",
              "      <td>10.000000</td>\n",
              "      <td>10.000000</td>\n",
              "      <td>10.000000</td>\n",
              "      <td>10.000000</td>\n",
              "    </tr>\n",
              "    <tr>\n",
              "      <th>mean</th>\n",
              "      <td>0.760790</td>\n",
              "      <td>0.739510</td>\n",
              "      <td>0.612896</td>\n",
              "      <td>0.644852</td>\n",
              "    </tr>\n",
              "    <tr>\n",
              "      <th>std</th>\n",
              "      <td>0.025128</td>\n",
              "      <td>0.075767</td>\n",
              "      <td>0.025840</td>\n",
              "      <td>0.036274</td>\n",
              "    </tr>\n",
              "    <tr>\n",
              "      <th>min</th>\n",
              "      <td>0.720000</td>\n",
              "      <td>0.613333</td>\n",
              "      <td>0.573333</td>\n",
              "      <td>0.593333</td>\n",
              "    </tr>\n",
              "    <tr>\n",
              "      <th>25%</th>\n",
              "      <td>0.746667</td>\n",
              "      <td>0.680000</td>\n",
              "      <td>0.590000</td>\n",
              "      <td>0.620000</td>\n",
              "    </tr>\n",
              "    <tr>\n",
              "      <th>50%</th>\n",
              "      <td>0.760000</td>\n",
              "      <td>0.737550</td>\n",
              "      <td>0.616667</td>\n",
              "      <td>0.646667</td>\n",
              "    </tr>\n",
              "    <tr>\n",
              "      <th>75%</th>\n",
              "      <td>0.766667</td>\n",
              "      <td>0.790000</td>\n",
              "      <td>0.631667</td>\n",
              "      <td>0.660000</td>\n",
              "    </tr>\n",
              "    <tr>\n",
              "      <th>max</th>\n",
              "      <td>0.814570</td>\n",
              "      <td>0.840000</td>\n",
              "      <td>0.655629</td>\n",
              "      <td>0.721854</td>\n",
              "    </tr>\n",
              "  </tbody>\n",
              "</table>\n",
              "</div>\n",
              "    <div class=\"colab-df-buttons\">\n",
              "\n",
              "  <div class=\"colab-df-container\">\n",
              "    <button class=\"colab-df-convert\" onclick=\"convertToInteractive('df-05572b26-2e6d-4987-9017-371cf87baf10')\"\n",
              "            title=\"Convert this dataframe to an interactive table.\"\n",
              "            style=\"display:none;\">\n",
              "\n",
              "  <svg xmlns=\"http://www.w3.org/2000/svg\" height=\"24px\" viewBox=\"0 -960 960 960\">\n",
              "    <path d=\"M120-120v-720h720v720H120Zm60-500h600v-160H180v160Zm220 220h160v-160H400v160Zm0 220h160v-160H400v160ZM180-400h160v-160H180v160Zm440 0h160v-160H620v160ZM180-180h160v-160H180v160Zm440 0h160v-160H620v160Z\"/>\n",
              "  </svg>\n",
              "    </button>\n",
              "\n",
              "  <style>\n",
              "    .colab-df-container {\n",
              "      display:flex;\n",
              "      gap: 12px;\n",
              "    }\n",
              "\n",
              "    .colab-df-convert {\n",
              "      background-color: #E8F0FE;\n",
              "      border: none;\n",
              "      border-radius: 50%;\n",
              "      cursor: pointer;\n",
              "      display: none;\n",
              "      fill: #1967D2;\n",
              "      height: 32px;\n",
              "      padding: 0 0 0 0;\n",
              "      width: 32px;\n",
              "    }\n",
              "\n",
              "    .colab-df-convert:hover {\n",
              "      background-color: #E2EBFA;\n",
              "      box-shadow: 0px 1px 2px rgba(60, 64, 67, 0.3), 0px 1px 3px 1px rgba(60, 64, 67, 0.15);\n",
              "      fill: #174EA6;\n",
              "    }\n",
              "\n",
              "    .colab-df-buttons div {\n",
              "      margin-bottom: 4px;\n",
              "    }\n",
              "\n",
              "    [theme=dark] .colab-df-convert {\n",
              "      background-color: #3B4455;\n",
              "      fill: #D2E3FC;\n",
              "    }\n",
              "\n",
              "    [theme=dark] .colab-df-convert:hover {\n",
              "      background-color: #434B5C;\n",
              "      box-shadow: 0px 1px 3px 1px rgba(0, 0, 0, 0.15);\n",
              "      filter: drop-shadow(0px 1px 2px rgba(0, 0, 0, 0.3));\n",
              "      fill: #FFFFFF;\n",
              "    }\n",
              "  </style>\n",
              "\n",
              "    <script>\n",
              "      const buttonEl =\n",
              "        document.querySelector('#df-05572b26-2e6d-4987-9017-371cf87baf10 button.colab-df-convert');\n",
              "      buttonEl.style.display =\n",
              "        google.colab.kernel.accessAllowed ? 'block' : 'none';\n",
              "\n",
              "      async function convertToInteractive(key) {\n",
              "        const element = document.querySelector('#df-05572b26-2e6d-4987-9017-371cf87baf10');\n",
              "        const dataTable =\n",
              "          await google.colab.kernel.invokeFunction('convertToInteractive',\n",
              "                                                    [key], {});\n",
              "        if (!dataTable) return;\n",
              "\n",
              "        const docLinkHtml = 'Like what you see? Visit the ' +\n",
              "          '<a target=\"_blank\" href=https://colab.research.google.com/notebooks/data_table.ipynb>data table notebook</a>'\n",
              "          + ' to learn more about interactive tables.';\n",
              "        element.innerHTML = '';\n",
              "        dataTable['output_type'] = 'display_data';\n",
              "        await google.colab.output.renderOutput(dataTable, element);\n",
              "        const docLink = document.createElement('div');\n",
              "        docLink.innerHTML = docLinkHtml;\n",
              "        element.appendChild(docLink);\n",
              "      }\n",
              "    </script>\n",
              "  </div>\n",
              "\n",
              "\n",
              "<div id=\"df-523a4b8b-998e-48e4-8f95-7f41baab84a7\">\n",
              "  <button class=\"colab-df-quickchart\" onclick=\"quickchart('df-523a4b8b-998e-48e4-8f95-7f41baab84a7')\"\n",
              "            title=\"Suggest charts\"\n",
              "            style=\"display:none;\">\n",
              "\n",
              "<svg xmlns=\"http://www.w3.org/2000/svg\" height=\"24px\"viewBox=\"0 0 24 24\"\n",
              "     width=\"24px\">\n",
              "    <g>\n",
              "        <path d=\"M19 3H5c-1.1 0-2 .9-2 2v14c0 1.1.9 2 2 2h14c1.1 0 2-.9 2-2V5c0-1.1-.9-2-2-2zM9 17H7v-7h2v7zm4 0h-2V7h2v10zm4 0h-2v-4h2v4z\"/>\n",
              "    </g>\n",
              "</svg>\n",
              "  </button>\n",
              "\n",
              "<style>\n",
              "  .colab-df-quickchart {\n",
              "      --bg-color: #E8F0FE;\n",
              "      --fill-color: #1967D2;\n",
              "      --hover-bg-color: #E2EBFA;\n",
              "      --hover-fill-color: #174EA6;\n",
              "      --disabled-fill-color: #AAA;\n",
              "      --disabled-bg-color: #DDD;\n",
              "  }\n",
              "\n",
              "  [theme=dark] .colab-df-quickchart {\n",
              "      --bg-color: #3B4455;\n",
              "      --fill-color: #D2E3FC;\n",
              "      --hover-bg-color: #434B5C;\n",
              "      --hover-fill-color: #FFFFFF;\n",
              "      --disabled-bg-color: #3B4455;\n",
              "      --disabled-fill-color: #666;\n",
              "  }\n",
              "\n",
              "  .colab-df-quickchart {\n",
              "    background-color: var(--bg-color);\n",
              "    border: none;\n",
              "    border-radius: 50%;\n",
              "    cursor: pointer;\n",
              "    display: none;\n",
              "    fill: var(--fill-color);\n",
              "    height: 32px;\n",
              "    padding: 0;\n",
              "    width: 32px;\n",
              "  }\n",
              "\n",
              "  .colab-df-quickchart:hover {\n",
              "    background-color: var(--hover-bg-color);\n",
              "    box-shadow: 0 1px 2px rgba(60, 64, 67, 0.3), 0 1px 3px 1px rgba(60, 64, 67, 0.15);\n",
              "    fill: var(--button-hover-fill-color);\n",
              "  }\n",
              "\n",
              "  .colab-df-quickchart-complete:disabled,\n",
              "  .colab-df-quickchart-complete:disabled:hover {\n",
              "    background-color: var(--disabled-bg-color);\n",
              "    fill: var(--disabled-fill-color);\n",
              "    box-shadow: none;\n",
              "  }\n",
              "\n",
              "  .colab-df-spinner {\n",
              "    border: 2px solid var(--fill-color);\n",
              "    border-color: transparent;\n",
              "    border-bottom-color: var(--fill-color);\n",
              "    animation:\n",
              "      spin 1s steps(1) infinite;\n",
              "  }\n",
              "\n",
              "  @keyframes spin {\n",
              "    0% {\n",
              "      border-color: transparent;\n",
              "      border-bottom-color: var(--fill-color);\n",
              "      border-left-color: var(--fill-color);\n",
              "    }\n",
              "    20% {\n",
              "      border-color: transparent;\n",
              "      border-left-color: var(--fill-color);\n",
              "      border-top-color: var(--fill-color);\n",
              "    }\n",
              "    30% {\n",
              "      border-color: transparent;\n",
              "      border-left-color: var(--fill-color);\n",
              "      border-top-color: var(--fill-color);\n",
              "      border-right-color: var(--fill-color);\n",
              "    }\n",
              "    40% {\n",
              "      border-color: transparent;\n",
              "      border-right-color: var(--fill-color);\n",
              "      border-top-color: var(--fill-color);\n",
              "    }\n",
              "    60% {\n",
              "      border-color: transparent;\n",
              "      border-right-color: var(--fill-color);\n",
              "    }\n",
              "    80% {\n",
              "      border-color: transparent;\n",
              "      border-right-color: var(--fill-color);\n",
              "      border-bottom-color: var(--fill-color);\n",
              "    }\n",
              "    90% {\n",
              "      border-color: transparent;\n",
              "      border-bottom-color: var(--fill-color);\n",
              "    }\n",
              "  }\n",
              "</style>\n",
              "\n",
              "  <script>\n",
              "    async function quickchart(key) {\n",
              "      const quickchartButtonEl =\n",
              "        document.querySelector('#' + key + ' button');\n",
              "      quickchartButtonEl.disabled = true;  // To prevent multiple clicks.\n",
              "      quickchartButtonEl.classList.add('colab-df-spinner');\n",
              "      try {\n",
              "        const charts = await google.colab.kernel.invokeFunction(\n",
              "            'suggestCharts', [key], {});\n",
              "      } catch (error) {\n",
              "        console.error('Error during call to suggestCharts:', error);\n",
              "      }\n",
              "      quickchartButtonEl.classList.remove('colab-df-spinner');\n",
              "      quickchartButtonEl.classList.add('colab-df-quickchart-complete');\n",
              "    }\n",
              "    (() => {\n",
              "      let quickchartButtonEl =\n",
              "        document.querySelector('#df-523a4b8b-998e-48e4-8f95-7f41baab84a7 button');\n",
              "      quickchartButtonEl.style.display =\n",
              "        google.colab.kernel.accessAllowed ? 'block' : 'none';\n",
              "    })();\n",
              "  </script>\n",
              "</div>\n",
              "\n",
              "    </div>\n",
              "  </div>\n"
            ],
            "application/vnd.google.colaboratory.intrinsic+json": {
              "type": "dataframe",
              "summary": "{\n  \"name\": \"df_classifier\",\n  \"rows\": 8,\n  \"fields\": [\n    {\n      \"column\": \"AdaBoostClassifier\",\n      \"properties\": {\n        \"dtype\": \"number\",\n        \"std\": 3.3136469783485465,\n        \"min\": 0.025127894817389584,\n        \"max\": 10.0,\n        \"num_unique_values\": 8,\n        \"samples\": [\n          0.7607902869757175,\n          0.76,\n          10.0\n        ],\n        \"semantic_type\": \"\",\n        \"description\": \"\"\n      }\n    },\n    {\n      \"column\": \"SGDClassifier\",\n      \"properties\": {\n        \"dtype\": \"number\",\n        \"std\": 3.318131385943116,\n        \"min\": 0.07576723073987034,\n        \"max\": 10.0,\n        \"num_unique_values\": 8,\n        \"samples\": [\n          0.7395099337748343,\n          0.7375496688741722,\n          10.0\n        ],\n        \"semantic_type\": \"\",\n        \"description\": \"\"\n      }\n    },\n    {\n      \"column\": \"XGBClassifier\",\n      \"properties\": {\n        \"dtype\": \"number\",\n        \"std\": 3.354747960961123,\n        \"min\": 0.025839777610955007,\n        \"max\": 10.0,\n        \"num_unique_values\": 8,\n        \"samples\": [\n          0.6128962472406181,\n          0.6166666666666667,\n          10.0\n        ],\n        \"semantic_type\": \"\",\n        \"description\": \"\"\n      }\n    },\n    {\n      \"column\": \"LGBMClassifier\",\n      \"properties\": {\n        \"dtype\": \"number\",\n        \"std\": 3.3444468191386933,\n        \"min\": 0.03627438107224304,\n        \"max\": 10.0,\n        \"num_unique_values\": 8,\n        \"samples\": [\n          0.6448520971302428,\n          0.6466666666666667,\n          10.0\n        ],\n        \"semantic_type\": \"\",\n        \"description\": \"\"\n      }\n    }\n  ]\n}"
            }
          },
          "metadata": {},
          "execution_count": 24
        }
      ],
      "source": [
        "df_classifier.describe()"
      ]
    },
    {
      "cell_type": "markdown",
      "source": [
        "* O modelo `AdaBoostClassifier` possui a maior média de recall (0.7608), seguido pelo `SGDClassifier` (0.7395). Quando se trata de variabilidade, ou seja, a consistência dos modelos em resultados médios, o `AdaBoostClassifier` apresenta a menor variabilidade entre eles, com um desvio padrão de apenas **0.0251**. Por outro lado, o `SGDClassifier` exibe a maior variabilidade, com um desvio padrão de **0.0758**.\n",
        "\n",
        "* Em termos de desempenho médio, o modelo `AdaBoostClassifier` parece ser o modelo mais promissor."
      ],
      "metadata": {
        "id": "p77VWfucmMAx"
      }
    },
    {
      "cell_type": "markdown",
      "source": [
        "Abaixo, utilizarei o histograma para identificar a distribuição dos dados dos modelos classificadores."
      ],
      "metadata": {
        "id": "Uzw3ZQCSzUWI"
      }
    },
    {
      "cell_type": "code",
      "execution_count": null,
      "metadata": {
        "colab": {
          "base_uri": "https://localhost:8080/",
          "height": 585
        },
        "id": "1Ma9hKCy-M-H",
        "outputId": "378b09b1-c0ef-40b7-d21d-d8ecf9d977c9"
      },
      "outputs": [
        {
          "output_type": "display_data",
          "data": {
            "text/plain": [
              "<Figure size 720x576 with 4 Axes>"
            ],
            "image/png": "[encoded data removed]"
          },
          "metadata": {}
        }
      ],
      "source": [
        "custom_histplot(df_classifier, df_classifier.columns,colors=['orange']*4, figsize=(10, 8), grid_shape=(2, 2))"
      ]
    },
    {
      "cell_type": "markdown",
      "source": [
        "Ao analisarmos os histogramas das distribuições de dados para os classificadores, podemos constatar que:\n",
        "\n",
        "* Os classificadores `AdaBoostClassifier` e `LGBMClassifier`, apresentam distribuições com uma leve assimetria à direita. a maior parte dos valores de desempenho(recall) são agrupados em um intervalo específico, próximo ao centro da distribuição. Contudo, também há valores mais altos que se destacam, possivelmente sendo outliers.\n",
        "\n",
        "* Já os modelos `SGDClassifier` e o `XGBClassifier` tem distribuições mais simetricas, evidenciando estabilidade na distribuição."
      ],
      "metadata": {
        "id": "3oG3djIxye2f"
      }
    },
    {
      "cell_type": "markdown",
      "source": [
        "* Para identificar possíveis outliers na distribuição de dados dos modelos classificadores, usarei o boxplot."
      ],
      "metadata": {
        "id": "orWGwtNo1Jcx"
      }
    },
    {
      "cell_type": "code",
      "execution_count": null,
      "metadata": {
        "colab": {
          "base_uri": "https://localhost:8080/",
          "height": 585
        },
        "id": "kTpHotjw8F3x",
        "outputId": "b0b60bf6-4a8b-4d8e-ea89-c8d41bef9d17"
      },
      "outputs": [
        {
          "output_type": "display_data",
          "data": {
            "text/plain": [
              "<Figure size 720x576 with 4 Axes>"
            ],
            "image/png": "[encoded data removed]"
          },
          "metadata": {}
        }
      ],
      "source": [
        "custom_boxplot(df_classifier, df_classifier.columns,colors=['blue']*4, grid_shape=(2, 2), figsize=(10, 8))"
      ]
    },
    {
      "cell_type": "markdown",
      "source": [
        "* Analisando o boxplot, observamos que os modelos `AdaBoostClassifier` e `LGBMClassifier` apresentam outliers, corroborando a hipótese levantada na análise dos histogramas. Em contrapartida, os modelos `SGDClassifier` e `XGBClassifier` não exibem valores discrepantes."
      ],
      "metadata": {
        "id": "eRoihesE6SGD"
      }
    },
    {
      "cell_type": "markdown",
      "source": [
        "A tabela abaixo apresenta uma análise detalhada do recall dos modelos de classificação utilizando várias métricas estatísticas. Para cada modelo, foram realizados os seguintes testes e análises:"
      ],
      "metadata": {
        "id": "sPtAVea69c_I"
      }
    },
    {
      "cell_type": "markdown",
      "source": [
        "* **Teste de Shapiro-Wilk**: O teste de Shapiro-Wilk é um método estatístico utilizado para verificar se uma amostra de dados segue uma distribuição normal. A hipótese nula do teste de Shapiro-Wilk é que a amostra segue uma distribuição normal, enquanto a hipótese alternativa é que a amostra não segue uma distribuição normal. O teste calcula um valor-W, que é comparado a um valor crítico tabelado, para determinar se a hipótese nula deve ser rejeitada ou não.\n",
        "\n",
        "$$W = \\frac{(\\sum_{i=1}^{n} a_i x_{(i)})^2}{\\sum_{i=1}^{n} (x_i - \\bar{x})^2}$$\n",
        "Onde:\n",
        "* $W$ é o valor do teste de Shapiro-Wilk\n",
        "* $x_{(i)}$ são os valores da amostra ordenados de forma crescente\n",
        "* $\\bar{x}$ é a média da amostra\n",
        "* $a_i$ são constantes tabeladas, dependentes do tamanho da amostra"
      ],
      "metadata": {
        "id": "BSN5gi7j8Vmb"
      }
    },
    {
      "cell_type": "code",
      "source": [
        "def shapiro_test(data):\n",
        "  stat, p_value = shapiro(data)\n",
        "  return np.round(p_value, 4)"
      ],
      "metadata": {
        "id": "aR5IcRnu8ZCL"
      },
      "execution_count": null,
      "outputs": []
    },
    {
      "cell_type": "markdown",
      "source": [
        "* **Teste de D'Agostino-Pearson**: é um teste de normalidade que avalia se a forma da distribuição de uma variável aleatória é semelhante à forma da distribuição normal. Ele combina os testes de assimetria (skewness) e curtose para verificar se os valores de assimetria e curtose da amostra são compatíveis com os de uma distribuição normal\n",
        "\n",
        "$$K^2 = Z_1^2 + Z_2^2$$\n",
        "\n",
        "Onde:\n",
        "\n",
        "* $K^2$ é a estatística do teste de D'Agostino-Pearson\n",
        "* $Z_1$ é o valor padronizado do coeficiente de assimetria\n",
        "* $Z_2$ é o valor padronizado do coeficiente de curtose"
      ],
      "metadata": {
        "id": "RYALYNVB8gtg"
      }
    },
    {
      "cell_type": "code",
      "source": [
        "def dagostino_pearson_test(data):\n",
        "    filterwarnings(\"ignore\", message=\"kurtosistest only valid for n>=20\")\n",
        "    statistic, p_value = normaltest(data)\n",
        "    return np.round(p_value, 4)"
      ],
      "metadata": {
        "id": "juyGpeFs8r87"
      },
      "execution_count": null,
      "outputs": []
    },
    {
      "cell_type": "markdown",
      "source": [
        "* **Intervalo de Confiança - Distribuição t de Student:**: O intervalo de confiança é uma ferramenta estatística utilizada para estimar o valor de um parâmetro populacional, como a média ou a proporção, com base em uma amostra. Quando a variância populacional é desconhecida, a distribuição t de Student é utilizada para calcular o intervalo de confiança.\n",
        "\n",
        "  $$\\bar{x} \\pm t_{\\alpha/2, n-1} \\frac{s}{\\sqrt{n}}$$\n",
        "  \n",
        "Onde:\n",
        "\n",
        "* $\\bar{x}$ é a média da amostra\n",
        "* $t_{\\alpha/2, n-1}$ é o valor crítico da distribuição t de Student com nível de significância $\\alpha$ e $n-1$ graus de liberdade\n",
        "* $s$ é o desvio padrão da amostra\n",
        "* $n$ é o tamanho da amostra"
      ],
      "metadata": {
        "id": "_PWQJ-aZ9Hfz"
      }
    },
    {
      "cell_type": "code",
      "source": [
        "def confidence_interval(data, confidence=0.95):\n",
        "   mean = np.mean(data)\n",
        "   standard_error = sem(data)\n",
        "   degrees_of_freedom = len(data) - 1\n",
        "   lower_bound, upper_bound = t.interval(confidence=confidence, df=degrees_of_freedom, loc=mean, scale=standard_error)\n",
        "   return f'{lower_bound.round(4)} - {upper_bound.round(4)}'"
      ],
      "metadata": {
        "id": "p85yYCap9XZV"
      },
      "execution_count": null,
      "outputs": []
    },
    {
      "cell_type": "markdown",
      "source": [
        "Logo abaixo,é possível visualizar a tabela com os resultados das métricas anteriores para cada modelo de classificação. Foi incluída também a identificação de outliers utilizando o método IQR como métrica."
      ],
      "metadata": {
        "id": "uySWem7C87JK"
      }
    },
    {
      "cell_type": "code",
      "source": [
        "classifiers = df_classifier.columns\n",
        "shapiro_tests = [shapiro_test(df_classifier[column].values) for column in classifiers]\n",
        "dagostino_tests = [dagostino_pearson_test(df_classifier[column].values) for column in classifiers]\n",
        "outliers = [detect_outliers_iqr(df_classifier[column].values).sum() for column in classifiers]\n",
        "confidence_intervals = [confidence_interval(df_classifier[column].values) for column in classifiers]\n",
        "df_stats = pd.DataFrame({'Classifiers': classifiers,'Shapiro-Wilk test': shapiro_tests,\n",
        "                         \" D'Agostino-Pearson test\": dagostino_tests,'Outliers': outliers,\n",
        "                         'Confidence interval (95%)': confidence_intervals})\n",
        "\n",
        "table = GT(df_stats).tab_header(title=\"Statistical Performance of Classification Models\").cols_align(align=\"center\")\n",
        "table.tab_style(style=style.text(align=\"center\"), locations=loc.body())"
      ],
      "metadata": {
        "colab": {
          "base_uri": "https://localhost:8080/",
          "height": 262
        },
        "id": "PGrLVl7sZt2L",
        "outputId": "d16efd2c-7c14-499d-a675-ddf60824a562"
      },
      "execution_count": null,
      "outputs": [
        {
          "output_type": "execute_result",
          "data": {
            "text/plain": [
              "GT(_tbl_data=          Classifiers  Shapiro-Wilk test   D'Agostino-Pearson test  Outliers  \\\n",
              "0  AdaBoostClassifier             0.3999                    0.2057         1   \n",
              "1       SGDClassifier             0.6921                    0.8084         0   \n",
              "2       XGBClassifier             0.8303                    0.8473         0   \n",
              "3      LGBMClassifier             0.3415                    0.3071         1   \n",
              "\n",
              "  Confidence interval (95%)  \n",
              "0           0.7428 - 0.7788  \n",
              "1           0.6853 - 0.7937  \n",
              "2           0.5944 - 0.6314  \n",
              "3           0.6189 - 0.6708  , _body=<great_tables._gt_data.Body object at 0x7f576cba5720>, _boxhead=Boxhead([ColInfo(var='Classifiers', type=<ColInfoTypeEnum.default: 1>, column_label='Classifiers', column_align='center', column_width=None), ColInfo(var='Shapiro-Wilk test', type=<ColInfoTypeEnum.default: 1>, column_label='Shapiro-Wilk test', column_align='center', column_width=None), ColInfo(var=\" D'Agostino-Pearson test\", type=<ColInfoTypeEnum.default: 1>, column_label=\" D'Agostino-Pearson test\", column_align='center', column_width=None), ColInfo(var='Outliers', type=<ColInfoTypeEnum.default: 1>, column_label='Outliers', column_align='center', column_width=None), ColInfo(var='Confidence interval (95%)', type=<ColInfoTypeEnum.default: 1>, column_label='Confidence interval (95%)', column_align='center', column_width=None)]), _stub=<great_tables._gt_data.Stub object at 0x7f577b0f5510>, _spanners=Spanners([]), _heading=Heading(title='Statistical Performance of Classification Models', subtitle=None, preheader=None), _stubhead=None, _source_notes=[], _footnotes=[], _styles=[StyleInfo(locname=LocBody(columns=None, rows=None), grpname=None, colname='Classifiers', rownum=0, colnum=None, styles=[CellStyleText(color=None, font=None, size=None, align='center', v_align=None, style=None, weight=None, stretch=None, decorate=None, transform=None, whitespace=None)]), StyleInfo(locname=LocBody(columns=None, rows=None), grpname=None, colname='Classifiers', rownum=1, colnum=None, styles=[CellStyleText(color=None, font=None, size=None, align='center', v_align=None, style=None, weight=None, stretch=None, decorate=None, transform=None, whitespace=None)]), StyleInfo(locname=LocBody(columns=None, rows=None), grpname=None, colname='Classifiers', rownum=2, colnum=None, styles=[CellStyleText(color=None, font=None, size=None, align='center', v_align=None, style=None, weight=None, stretch=None, decorate=None, transform=None, whitespace=None)]), StyleInfo(locname=LocBody(columns=None, rows=None), grpname=None, colname='Classifiers', rownum=3, colnum=None, styles=[CellStyleText(color=None, font=None, size=None, align='center', v_align=None, style=None, weight=None, stretch=None, decorate=None, transform=None, whitespace=None)]), StyleInfo(locname=LocBody(columns=None, rows=None), grpname=None, colname='Shapiro-Wilk test', rownum=0, colnum=None, styles=[CellStyleText(color=None, font=None, size=None, align='center', v_align=None, style=None, weight=None, stretch=None, decorate=None, transform=None, whitespace=None)]), StyleInfo(locname=LocBody(columns=None, rows=None), grpname=None, colname='Shapiro-Wilk test', rownum=1, colnum=None, styles=[CellStyleText(color=None, font=None, size=None, align='center', v_align=None, style=None, weight=None, stretch=None, decorate=None, transform=None, whitespace=None)]), StyleInfo(locname=LocBody(columns=None, rows=None), grpname=None, colname='Shapiro-Wilk test', rownum=2, colnum=None, styles=[CellStyleText(color=None, font=None, size=None, align='center', v_align=None, style=None, weight=None, stretch=None, decorate=None, transform=None, whitespace=None)]), StyleInfo(locname=LocBody(columns=None, rows=None), grpname=None, colname='Shapiro-Wilk test', rownum=3, colnum=None, styles=[CellStyleText(color=None, font=None, size=None, align='center', v_align=None, style=None, weight=None, stretch=None, decorate=None, transform=None, whitespace=None)]), StyleInfo(locname=LocBody(columns=None, rows=None), grpname=None, colname=\" D'Agostino-Pearson test\", rownum=0, colnum=None, styles=[CellStyleText(color=None, font=None, size=None, align='center', v_align=None, style=None, weight=None, stretch=None, decorate=None, transform=None, whitespace=None)]), StyleInfo(locname=LocBody(columns=None, rows=None), grpname=None, colname=\" D'Agostino-Pearson test\", rownum=1, colnum=None, styles=[CellStyleText(color=None, font=None, size=None, align='center', v_align=None, style=None, weight=None, stretch=None, decorate=None, transform=None, whitespace=None)]), StyleInfo(locname=LocBody(columns=None, rows=None), grpname=None, colname=\" D'Agostino-Pearson test\", rownum=2, colnum=None, styles=[CellStyleText(color=None, font=None, size=None, align='center', v_align=None, style=None, weight=None, stretch=None, decorate=None, transform=None, whitespace=None)]), StyleInfo(locname=LocBody(columns=None, rows=None), grpname=None, colname=\" D'Agostino-Pearson test\", rownum=3, colnum=None, styles=[CellStyleText(color=None, font=None, size=None, align='center', v_align=None, style=None, weight=None, stretch=None, decorate=None, transform=None, whitespace=None)]), StyleInfo(locname=LocBody(columns=None, rows=None), grpname=None, colname='Outliers', rownum=0, colnum=None, styles=[CellStyleText(color=None, font=None, size=None, align='center', v_align=None, style=None, weight=None, stretch=None, decorate=None, transform=None, whitespace=None)]), StyleInfo(locname=LocBody(columns=None, rows=None), grpname=None, colname='Outliers', rownum=1, colnum=None, styles=[CellStyleText(color=None, font=None, size=None, align='center', v_align=None, style=None, weight=None, stretch=None, decorate=None, transform=None, whitespace=None)]), StyleInfo(locname=LocBody(columns=None, rows=None), grpname=None, colname='Outliers', rownum=2, colnum=None, styles=[CellStyleText(color=None, font=None, size=None, align='center', v_align=None, style=None, weight=None, stretch=None, decorate=None, transform=None, whitespace=None)]), StyleInfo(locname=LocBody(columns=None, rows=None), grpname=None, colname='Outliers', rownum=3, colnum=None, styles=[CellStyleText(color=None, font=None, size=None, align='center', v_align=None, style=None, weight=None, stretch=None, decorate=None, transform=None, whitespace=None)]), StyleInfo(locname=LocBody(columns=None, rows=None), grpname=None, colname='Confidence interval (95%)', rownum=0, colnum=None, styles=[CellStyleText(color=None, font=None, size=None, align='center', v_align=None, style=None, weight=None, stretch=None, decorate=None, transform=None, whitespace=None)]), StyleInfo(locname=LocBody(columns=None, rows=None), grpname=None, colname='Confidence interval (95%)', rownum=1, colnum=None, styles=[CellStyleText(color=None, font=None, size=None, align='center', v_align=None, style=None, weight=None, stretch=None, decorate=None, transform=None, whitespace=None)]), StyleInfo(locname=LocBody(columns=None, rows=None), grpname=None, colname='Confidence interval (95%)', rownum=2, colnum=None, styles=[CellStyleText(color=None, font=None, size=None, align='center', v_align=None, style=None, weight=None, stretch=None, decorate=None, transform=None, whitespace=None)]), StyleInfo(locname=LocBody(columns=None, rows=None), grpname=None, colname='Confidence interval (95%)', rownum=3, colnum=None, styles=[CellStyleText(color=None, font=None, size=None, align='center', v_align=None, style=None, weight=None, stretch=None, decorate=None, transform=None, whitespace=None)])], _locale=<great_tables._gt_data.Locale object at 0x7f576cba7e20>, _formats=[], _substitutions=[], _options=Options(table_id=OptionsInfo(scss=False, category='table', type='value', value=None), table_caption=OptionsInfo(scss=False, category='table', type='value', value=None), table_width=OptionsInfo(scss=True, category='table', type='px', value='auto'), table_layout=OptionsInfo(scss=True, category='table', type='value', value='fixed'), table_margin_left=OptionsInfo(scss=True, category='table', type='px', value='auto'), table_margin_right=OptionsInfo(scss=True, category='table', type='px', value='auto'), table_background_color=OptionsInfo(scss=True, category='table', type='value', value='#FFFFFF'), table_additional_css=OptionsInfo(scss=False, category='table', type='values', value=[]), table_font_names=OptionsInfo(scss=False, category='table', type='values', value=['-apple-system', 'BlinkMacSystemFont', 'Segoe UI', 'Roboto', 'Oxygen', 'Ubuntu', 'Cantarell', 'Helvetica Neue', 'Fira Sans', 'Droid Sans', 'Arial', 'sans-serif']), table_font_size=OptionsInfo(scss=True, category='table', type='px', value='16px'), table_font_weight=OptionsInfo(scss=True, category='table', type='value', value='normal'), table_font_style=OptionsInfo(scss=True, category='table', type='value', value='normal'), table_font_color=OptionsInfo(scss=True, category='table', type='value', value='#333333'), table_font_color_light=OptionsInfo(scss=True, category='table', type='value', value='#FFFFFF'), table_border_top_include=OptionsInfo(scss=False, category='table', type='boolean', value=True), table_border_top_style=OptionsInfo(scss=True, category='table', type='value', value='solid'), table_border_top_width=OptionsInfo(scss=True, category='table', type='px', value='2px'), table_border_top_color=OptionsInfo(scss=True, category='table', type='value', value='#A8A8A8'), table_border_right_style=OptionsInfo(scss=True, category='table', type='value', value='none'), table_border_right_width=OptionsInfo(scss=True, category='table', type='px', value='2px'), table_border_right_color=OptionsInfo(scss=True, category='table', type='value', value='#D3D3D3'), table_border_bottom_include=OptionsInfo(scss=False, category='table', type='boolean', value=True), table_border_bottom_style=OptionsInfo(scss=True, category='table', type='value', value='solid'), table_border_bottom_width=OptionsInfo(scss=True, category='table', type='px', value='2px'), table_border_bottom_color=OptionsInfo(scss=True, category='table', type='value', value='#A8A8A8'), table_border_left_style=OptionsInfo(scss=True, category='table', type='value', value='none'), table_border_left_width=OptionsInfo(scss=True, category='table', type='px', value='2px'), table_border_left_color=OptionsInfo(scss=True, category='table', type='value', value='#D3D3D3'), heading_background_color=OptionsInfo(scss=True, category='heading', type='value', value=None), heading_align=OptionsInfo(scss=True, category='heading', type='value', value='center'), heading_title_font_size=OptionsInfo(scss=True, category='heading', type='px', value='125%'), heading_title_font_weight=OptionsInfo(scss=True, category='heading', type='value', value='initial'), heading_subtitle_font_size=OptionsInfo(scss=True, category='heading', type='px', value='85%'), heading_subtitle_font_weight=OptionsInfo(scss=True, category='heading', type='value', value='initial'), heading_padding=OptionsInfo(scss=True, category='heading', type='px', value='4px'), heading_padding_horizontal=OptionsInfo(scss=True, category='heading', type='px', value='5px'), heading_border_bottom_style=OptionsInfo(scss=True, category='heading', type='value', value='solid'), heading_border_bottom_width=OptionsInfo(scss=True, category='heading', type='px', value='2px'), heading_border_bottom_color=OptionsInfo(scss=True, category='heading', type='value', value='#D3D3D3'), heading_border_lr_style=OptionsInfo(scss=True, category='heading', type='value', value='none'), heading_border_lr_width=OptionsInfo(scss=True, category='heading', type='px', value='1px'), heading_border_lr_color=OptionsInfo(scss=True, category='heading', type='value', value='#D3D3D3'), column_labels_background_color=OptionsInfo(scss=True, category='column_labels', type='value', value=None), column_labels_font_size=OptionsInfo(scss=True, category='column_labels', type='px', value='100%'), column_labels_font_weight=OptionsInfo(scss=True, category='column_labels', type='value', value='normal'), column_labels_text_transform=OptionsInfo(scss=True, category='column_labels', type='value', value='inherit'), column_labels_padding=OptionsInfo(scss=True, category='column_labels', type='px', value='5px'), column_labels_padding_horizontal=OptionsInfo(scss=True, category='column_labels', type='px', value='5px'), column_labels_vlines_style=OptionsInfo(scss=True, category='table_body', type='value', value='none'), column_labels_vlines_width=OptionsInfo(scss=True, category='table_body', type='px', value='1px'), column_labels_vlines_color=OptionsInfo(scss=True, category='table_body', type='value', value='#D3D3D3'), column_labels_border_top_style=OptionsInfo(scss=True, category='column_labels', type='value', value='solid'), column_labels_border_top_width=OptionsInfo(scss=True, category='column_labels', type='px', value='2px'), column_labels_border_top_color=OptionsInfo(scss=True, category='column_labels', type='value', value='#D3D3D3'), column_labels_border_bottom_style=OptionsInfo(scss=True, category='column_labels', type='value', value='solid'), column_labels_border_bottom_width=OptionsInfo(scss=True, category='column_labels', type='px', value='2px'), column_labels_border_bottom_color=OptionsInfo(scss=True, category='column_labels', type='value', value='#D3D3D3'), column_labels_border_lr_style=OptionsInfo(scss=True, category='column_labels', type='value', value='none'), column_labels_border_lr_width=OptionsInfo(scss=True, category='column_labels', type='px', value='1px'), column_labels_border_lr_color=OptionsInfo(scss=True, category='column_labels', type='value', value='#D3D3D3'), column_labels_hidden=OptionsInfo(scss=False, category='column_labels', type='boolean', value=False), row_group_background_color=OptionsInfo(scss=True, category='row_group', type='value', value=None), row_group_font_size=OptionsInfo(scss=True, category='row_group', type='px', value='100%'), row_group_font_weight=OptionsInfo(scss=True, category='row_group', type='value', value='initial'), row_group_text_transform=OptionsInfo(scss=True, category='row_group', type='value', value='inherit'), row_group_padding=OptionsInfo(scss=True, category='row_group', type='px', value='8px'), row_group_padding_horizontal=OptionsInfo(scss=True, category='row_group', type='px', value='5px'), row_group_border_top_style=OptionsInfo(scss=True, category='row_group', type='value', value='solid'), row_group_border_top_width=OptionsInfo(scss=True, category='row_group', type='px', value='2px'), row_group_border_top_color=OptionsInfo(scss=True, category='row_group', type='value', value='#D3D3D3'), row_group_border_right_style=OptionsInfo(scss=True, category='row_group', type='value', value='none'), row_group_border_right_width=OptionsInfo(scss=True, category='row_group', type='px', value='1px'), row_group_border_right_color=OptionsInfo(scss=True, category='row_group', type='value', value='#D3D3D3'), row_group_border_bottom_style=OptionsInfo(scss=True, category='row_group', type='value', value='solid'), row_group_border_bottom_width=OptionsInfo(scss=True, category='row_group', type='px', value='2px'), row_group_border_bottom_color=OptionsInfo(scss=True, category='row_group', type='value', value='#D3D3D3'), row_group_border_left_style=OptionsInfo(scss=True, category='row_group', type='value', value='none'), row_group_border_left_width=OptionsInfo(scss=True, category='row_group', type='px', value='1px'), row_group_border_left_color=OptionsInfo(scss=True, category='row_group', type='value', value='#D3D3D3'), row_group_as_column=OptionsInfo(scss=False, category='row_group', type='boolean', value=False), table_body_hlines_style=OptionsInfo(scss=True, category='table_body', type='value', value='solid'), table_body_hlines_width=OptionsInfo(scss=True, category='table_body', type='px', value='1px'), table_body_hlines_color=OptionsInfo(scss=True, category='table_body', type='value', value='#D3D3D3'), table_body_vlines_style=OptionsInfo(scss=True, category='table_body', type='value', value='none'), table_body_vlines_width=OptionsInfo(scss=True, category='table_body', type='px', value='1px'), table_body_vlines_color=OptionsInfo(scss=True, category='table_body', type='value', value='#D3D3D3'), table_body_border_top_style=OptionsInfo(scss=True, category='table_body', type='value', value='solid'), table_body_border_top_width=OptionsInfo(scss=True, category='table_body', type='px', value='2px'), table_body_border_top_color=OptionsInfo(scss=True, category='table_body', type='value', value='#D3D3D3'), table_body_border_bottom_style=OptionsInfo(scss=True, category='table_body', type='value', value='solid'), table_body_border_bottom_width=OptionsInfo(scss=True, category='table_body', type='px', value='2px'), table_body_border_bottom_color=OptionsInfo(scss=True, category='table_body', type='value', value='#D3D3D3'), data_row_padding=OptionsInfo(scss=True, category='data_row', type='px', value='8px'), data_row_padding_horizontal=OptionsInfo(scss=True, category='data_row', type='px', value='5px'), stub_background_color=OptionsInfo(scss=True, category='stub', type='value', value=None), stub_font_size=OptionsInfo(scss=True, category='stub', type='px', value='100%'), stub_font_weight=OptionsInfo(scss=True, category='stub', type='value', value='initial'), stub_text_transform=OptionsInfo(scss=True, category='stub', type='value', value='inherit'), stub_border_style=OptionsInfo(scss=True, category='stub', type='value', value='solid'), stub_border_width=OptionsInfo(scss=True, category='stub', type='px', value='2px'), stub_border_color=OptionsInfo(scss=True, category='stub', type='value', value='#D3D3D3'), stub_row_group_background_color=OptionsInfo(scss=True, category='stub', type='value', value=None), stub_row_group_font_size=OptionsInfo(scss=True, category='stub', type='px', value='100%'), stub_row_group_font_weight=OptionsInfo(scss=True, category='stub', type='value', value='initial'), stub_row_group_text_transform=OptionsInfo(scss=True, category='stub', type='value', value='inherit'), stub_row_group_border_style=OptionsInfo(scss=True, category='stub', type='value', value='solid'), stub_row_group_border_width=OptionsInfo(scss=True, category='stub', type='px', value='2px'), stub_row_group_border_color=OptionsInfo(scss=True, category='stub', type='value', value='#D3D3D3'), source_notes_padding=OptionsInfo(scss=True, category='source_notes', type='px', value='4px'), source_notes_padding_horizontal=OptionsInfo(scss=True, category='source_notes', type='px', value='5px'), source_notes_background_color=OptionsInfo(scss=True, category='source_notes', type='value', value=None), source_notes_font_size=OptionsInfo(scss=True, category='source_notes', type='px', value='90%'), source_notes_border_bottom_style=OptionsInfo(scss=True, category='source_notes', type='value', value='none'), source_notes_border_bottom_width=OptionsInfo(scss=True, category='source_notes', type='px', value='2px'), source_notes_border_bottom_color=OptionsInfo(scss=True, category='source_notes', type='value', value='#D3D3D3'), source_notes_border_lr_style=OptionsInfo(scss=True, category='source_notes', type='value', value='none'), source_notes_border_lr_width=OptionsInfo(scss=True, category='source_notes', type='px', value='2px'), source_notes_border_lr_color=OptionsInfo(scss=True, category='source_notes', type='value', value='#D3D3D3'), source_notes_multiline=OptionsInfo(scss=False, category='source_notes', type='boolean', value=True), source_notes_sep=OptionsInfo(scss=False, category='source_notes', type='value', value=' '), row_striping_background_color=OptionsInfo(scss=True, category='row', type='value', value='rgba(128,128,128,0.05)'), row_striping_include_stub=OptionsInfo(scss=False, category='row', type='boolean', value=False), row_striping_include_table_body=OptionsInfo(scss=False, category='row', type='boolean', value=False), container_width=OptionsInfo(scss=False, category='container', type='px', value='auto'), container_height=OptionsInfo(scss=False, category='container', type='px', value='auto'), container_padding_x=OptionsInfo(scss=False, category='container', type='px', value='0px'), container_padding_y=OptionsInfo(scss=False, category='container', type='px', value='10px'), container_overflow_x=OptionsInfo(scss=False, category='container', type='overflow', value='auto'), container_overflow_y=OptionsInfo(scss=False, category='container', type='overflow', value='auto'), quarto_disable_processing=OptionsInfo(scss=False, category='quarto', type='logical', value=False), quarto_use_bootstrap=OptionsInfo(scss=False, category='quarto', type='logical', value=False)), _has_built=False)"
            ],
            "text/html": [
              "<div id=\"grmusqkkje\" style=\"padding-left:0px;padding-right:0px;padding-top:10px;padding-bottom:10px;overflow-x:auto;overflow-y:auto;width:auto;height:auto;\">\n",
              "<style>\n",
              "#grmusqkkje table {\n",
              "          font-family: -apple-system, BlinkMacSystemFont, 'Segoe UI', Roboto, Oxygen, Ubuntu, Cantarell, 'Helvetica Neue', 'Fira Sans', 'Droid Sans', Arial, sans-serif;\n",
              "          -webkit-font-smoothing: antialiased;\n",
              "          -moz-osx-font-smoothing: grayscale;\n",
              "        }\n",
              "\n",
              "#grmusqkkje thead, tbody, tfoot, tr, td, th { border-style: none; }\n",
              " tr { background-color: transparent; }\n",
              "#grmusqkkje p { margin: 0; padding: 0; }\n",
              " #grmusqkkje .gt_table { display: table; border-collapse: collapse; line-height: normal; margin-left: auto; margin-right: auto; color: #333333; font-size: 16px; font-weight: normal; font-style: normal; background-color: #FFFFFF; width: auto; border-top-style: solid; border-top-width: 2px; border-top-color: #A8A8A8; border-right-style: none; border-right-width: 2px; border-right-color: #D3D3D3; border-bottom-style: solid; border-bottom-width: 2px; border-bottom-color: #A8A8A8; border-left-style: none; border-left-width: 2px; border-left-color: #D3D3D3; }\n",
              " #grmusqkkje .gt_caption { padding-top: 4px; padding-bottom: 4px; }\n",
              " #grmusqkkje .gt_title { color: #333333; font-size: 125%; font-weight: initial; padding-top: 4px; padding-bottom: 4px; padding-left: 5px; padding-right: 5px; border-bottom-color: #FFFFFF; border-bottom-width: 0; }\n",
              " #grmusqkkje .gt_subtitle { color: #333333; font-size: 85%; font-weight: initial; padding-top: 3px; padding-bottom: 5px; padding-left: 5px; padding-right: 5px; border-top-color: #FFFFFF; border-top-width: 0; }\n",
              " #grmusqkkje .gt_heading { background-color: #FFFFFF; text-align: center; border-bottom-color: #FFFFFF; border-left-style: none; border-left-width: 1px; border-left-color: #D3D3D3; border-right-style: none; border-right-width: 1px; border-right-color: #D3D3D3; }\n",
              " #grmusqkkje .gt_bottom_border { border-bottom-style: solid; border-bottom-width: 2px; border-bottom-color: #D3D3D3; }\n",
              " #grmusqkkje .gt_col_headings { border-top-style: solid; border-top-width: 2px; border-top-color: #D3D3D3; border-bottom-style: solid; border-bottom-width: 2px; border-bottom-color: #D3D3D3; border-left-style: none; border-left-width: 1px; border-left-color: #D3D3D3; border-right-style: none; border-right-width: 1px; border-right-color: #D3D3D3; }\n",
              " #grmusqkkje .gt_col_heading { color: #333333; background-color: #FFFFFF; font-size: 100%; font-weight: normal; text-transform: inherit; border-left-style: none; border-left-width: 1px; border-left-color: #D3D3D3; border-right-style: none; border-right-width: 1px; border-right-color: #D3D3D3; vertical-align: bottom; padding-top: 5px; padding-bottom: 5px; padding-left: 5px; padding-right: 5px; overflow-x: hidden; }\n",
              " #grmusqkkje .gt_column_spanner_outer { color: #333333; background-color: #FFFFFF; font-size: 100%; font-weight: normal; text-transform: inherit; padding-top: 0; padding-bottom: 0; padding-left: 4px; padding-right: 4px; }\n",
              " #grmusqkkje .gt_column_spanner_outer:first-child { padding-left: 0; }\n",
              " #grmusqkkje .gt_column_spanner_outer:last-child { padding-right: 0; }\n",
              " #grmusqkkje .gt_column_spanner { border-bottom-style: solid; border-bottom-width: 2px; border-bottom-color: #D3D3D3; vertical-align: bottom; padding-top: 5px; padding-bottom: 5px; overflow-x: hidden; display: inline-block; width: 100%; }\n",
              " #grmusqkkje .gt_spanner_row { border-bottom-style: hidden; }\n",
              " #grmusqkkje .gt_group_heading { padding-top: 8px; padding-bottom: 8px; padding-left: 5px; padding-right: 5px; color: #333333; background-color: #FFFFFF; font-size: 100%; font-weight: initial; text-transform: inherit; border-top-style: solid; border-top-width: 2px; border-top-color: #D3D3D3; border-bottom-style: solid; border-bottom-width: 2px; border-bottom-color: #D3D3D3; border-left-style: none; border-left-width: 1px; border-left-color: #D3D3D3; border-right-style: none; border-right-width: 1px; border-right-color: #D3D3D3; vertical-align: middle; text-align: left; }\n",
              " #grmusqkkje .gt_empty_group_heading { padding: 0.5px; color: #333333; background-color: #FFFFFF; font-size: 100%; font-weight: initial; border-top-style: solid; border-top-width: 2px; border-top-color: #D3D3D3; border-bottom-style: solid; border-bottom-width: 2px; border-bottom-color: #D3D3D3; vertical-align: middle; }\n",
              " #grmusqkkje .gt_from_md> :first-child { margin-top: 0; }\n",
              " #grmusqkkje .gt_from_md> :last-child { margin-bottom: 0; }\n",
              " #grmusqkkje .gt_row { padding-top: 8px; padding-bottom: 8px; padding-left: 5px; padding-right: 5px; margin: 10px; border-top-style: solid; border-top-width: 1px; border-top-color: #D3D3D3; border-left-style: none; border-left-width: 1px; border-left-color: #D3D3D3; border-right-style: none; border-right-width: 1px; border-right-color: #D3D3D3; vertical-align: middle; overflow-x: hidden; }\n",
              " #grmusqkkje .gt_stub { color: #333333; background-color: #FFFFFF; font-size: 100%; font-weight: initial; text-transform: inherit; border-right-style: solid; border-right-width: 2px; border-right-color: #D3D3D3; padding-left: 5px; padding-right: 5px; }\n",
              " #grmusqkkje .gt_stub_row_group { color: #333333; background-color: #FFFFFF; font-size: 100%; font-weight: initial; text-transform: inherit; border-right-style: solid; border-right-width: 2px; border-right-color: #D3D3D3; padding-left: 5px; padding-right: 5px; vertical-align: top; }\n",
              " #grmusqkkje .gt_row_group_first td { border-top-width: 2px; }\n",
              " #grmusqkkje .gt_row_group_first th { border-top-width: 2px; }\n",
              " #grmusqkkje .gt_striped { background-color: rgba(128,128,128,0.05); }\n",
              " #grmusqkkje .gt_table_body { border-top-style: solid; border-top-width: 2px; border-top-color: #D3D3D3; border-bottom-style: solid; border-bottom-width: 2px; border-bottom-color: #D3D3D3; }\n",
              " #grmusqkkje .gt_sourcenotes { color: #333333; background-color: #FFFFFF; border-bottom-style: none; border-bottom-width: 2px; border-bottom-color: #D3D3D3; border-left-style: none; border-left-width: 2px; border-left-color: #D3D3D3; border-right-style: none; border-right-width: 2px; border-right-color: #D3D3D3; }\n",
              " #grmusqkkje .gt_sourcenote { font-size: 90%; padding-top: 4px; padding-bottom: 4px; padding-left: 5px; padding-right: 5px; text-align: left; }\n",
              " #grmusqkkje .gt_left { text-align: left; }\n",
              " #grmusqkkje .gt_center { text-align: center; }\n",
              " #grmusqkkje .gt_right { text-align: right; font-variant-numeric: tabular-nums; }\n",
              " #grmusqkkje .gt_font_normal { font-weight: normal; }\n",
              " #grmusqkkje .gt_font_bold { font-weight: bold; }\n",
              " #grmusqkkje .gt_font_italic { font-style: italic; }\n",
              " #grmusqkkje .gt_super { font-size: 65%; }\n",
              " #grmusqkkje .gt_footnote_marks { font-size: 75%; vertical-align: 0.4em; position: initial; }\n",
              " #grmusqkkje .gt_asterisk { font-size: 100%; vertical-align: 0; }\n",
              " \n",
              "</style>\n",
              "<table class=\"gt_table\" data-quarto-disable-processing=\"false\" data-quarto-bootstrap=\"false\">\n",
              "<thead>\n",
              "\n",
              "  <tr class=\"gt_heading\">\n",
              "    <td colspan=\"5\" class=\"gt_heading gt_title gt_font_normal\">Statistical Performance of Classification Models</td>\n",
              "  </tr>\n",
              "<tr class=\"gt_col_headings\">\n",
              "  <th class=\"gt_col_heading gt_columns_bottom_border gt_center\" rowspan=\"1\" colspan=\"1\" scope=\"col\" id=\"Classifiers\">Classifiers</th>\n",
              "  <th class=\"gt_col_heading gt_columns_bottom_border gt_center\" rowspan=\"1\" colspan=\"1\" scope=\"col\" id=\"Shapiro-Wilk test\">Shapiro-Wilk test</th>\n",
              "  <th class=\"gt_col_heading gt_columns_bottom_border gt_center\" rowspan=\"1\" colspan=\"1\" scope=\"col\" id=\" D&amp;#x27;Agostino-Pearson test\"> D&#x27;Agostino-Pearson test</th>\n",
              "  <th class=\"gt_col_heading gt_columns_bottom_border gt_center\" rowspan=\"1\" colspan=\"1\" scope=\"col\" id=\"Outliers\">Outliers</th>\n",
              "  <th class=\"gt_col_heading gt_columns_bottom_border gt_center\" rowspan=\"1\" colspan=\"1\" scope=\"col\" id=\"Confidence interval (95%)\">Confidence interval (95%)</th>\n",
              "</tr>\n",
              "</thead>\n",
              "<tbody class=\"gt_table_body\">\n",
              "  <tr>\n",
              "    <td style=\"text-align: center;\" class=\"gt_row gt_center\">AdaBoostClassifier</td>\n",
              "    <td style=\"text-align: center;\" class=\"gt_row gt_center\">0.3999</td>\n",
              "    <td style=\"text-align: center;\" class=\"gt_row gt_center\">0.2057</td>\n",
              "    <td style=\"text-align: center;\" class=\"gt_row gt_center\">1</td>\n",
              "    <td style=\"text-align: center;\" class=\"gt_row gt_center\">0.7428 - 0.7788</td>\n",
              "  </tr>\n",
              "  <tr>\n",
              "    <td style=\"text-align: center;\" class=\"gt_row gt_center\">SGDClassifier</td>\n",
              "    <td style=\"text-align: center;\" class=\"gt_row gt_center\">0.6921</td>\n",
              "    <td style=\"text-align: center;\" class=\"gt_row gt_center\">0.8084</td>\n",
              "    <td style=\"text-align: center;\" class=\"gt_row gt_center\">0</td>\n",
              "    <td style=\"text-align: center;\" class=\"gt_row gt_center\">0.6853 - 0.7937</td>\n",
              "  </tr>\n",
              "  <tr>\n",
              "    <td style=\"text-align: center;\" class=\"gt_row gt_center\">XGBClassifier</td>\n",
              "    <td style=\"text-align: center;\" class=\"gt_row gt_center\">0.8303</td>\n",
              "    <td style=\"text-align: center;\" class=\"gt_row gt_center\">0.8473</td>\n",
              "    <td style=\"text-align: center;\" class=\"gt_row gt_center\">0</td>\n",
              "    <td style=\"text-align: center;\" class=\"gt_row gt_center\">0.5944 - 0.6314</td>\n",
              "  </tr>\n",
              "  <tr>\n",
              "    <td style=\"text-align: center;\" class=\"gt_row gt_center\">LGBMClassifier</td>\n",
              "    <td style=\"text-align: center;\" class=\"gt_row gt_center\">0.3415</td>\n",
              "    <td style=\"text-align: center;\" class=\"gt_row gt_center\">0.3071</td>\n",
              "    <td style=\"text-align: center;\" class=\"gt_row gt_center\">1</td>\n",
              "    <td style=\"text-align: center;\" class=\"gt_row gt_center\">0.6189 - 0.6708</td>\n",
              "  </tr>\n",
              "</tbody>\n",
              "\n",
              "\n",
              "</table>\n",
              "\n",
              "</div>\n",
              "        "
            ]
          },
          "metadata": {},
          "execution_count": 30
        }
      ]
    },
    {
      "cell_type": "markdown",
      "metadata": {
        "id": "slkUGl7P04dQ"
      },
      "source": [
        "* Os classificadores não rejeitam a hipotese nula nos testes de normalidade de Shapiro-Wilk e D'Agostino-Pearson ou seja, seguem uma distribuição normal.\n",
        "\n",
        "* Conforme observado anteriormente no boxplot, os modelos`AdaBoostClassifier` e `LGBMClassifier` exibem valores discrepantes.\n",
        "\n",
        "* Analisando os  intervalos de confiança, destacam-se os modelos classificadores `AdaBoostClassifier` e `XGBClassifier`, com amplitudes de intervalo de 0.036 e 0.037, são o  grupo de menor variabilidade entre os seus intervalos respectivamente."
      ]
    },
    {
      "cell_type": "markdown",
      "source": [
        "####**Aplicando o  teste de Kruskal-Wallis**\n",
        "\n",
        "O teste de Kruskal-Wallis é um teste estatístico não paramétrico utilizado para comparar três ou mais amostras independentes. Ele é baseado na classificação (ranking) dos dados. Ele compara as medianas de k amostras independentes, sendo k ≥ 3. A hipótese nula (H0) assume que que as medianas de todas as amostras são iguais, ou seja, não há diferença estatisticamente significativa entre os grupos.\n",
        " A hipótese alternativa (H1) assume que  pelo menos uma das medianas das amostras é diferente das outras, indicando que há pelo menos uma diferença estatisticamente significativa entre os grupos.\n",
        "\n",
        " O teste de Kruskal-Wallis é uma alternativa não paramétrica à análise de variância (ANOVA) de um fator quando os pressupostos desta última não são atendidos, como a normalidade e homogeneidade de variâncias.\n",
        "\n",
        " \\begin{align*}\n",
        "H &= \\frac{12}{N(N+1)} \\sum_{j=1}^k \\frac{R_j^2}{n_j} - 3(N+1)\n",
        "\\end{align*}\n",
        "\n",
        "Onde:\n",
        "* $N$ é o número total de observações\n",
        "* $n_j$ é o tamanho da j-ésima amostra\n",
        "* $R_j$ é a soma dos postos (ranks) da j-ésima amostra\n",
        "* $\\sum_{j=1}^k$ representa o somatório das $k$ amostras"
      ],
      "metadata": {
        "id": "no_Ry_4Fy-mh"
      }
    },
    {
      "cell_type": "markdown",
      "source": [
        "A seguir, irei aplicar o teste de Kruskal-Wallis para verificar se existe alguma diferença estatisticamente significativa entre os valores de recall dos diferentes modelos de classificação."
      ],
      "metadata": {
        "id": "YIh80oCCA8ok"
      }
    },
    {
      "cell_type": "code",
      "source": [
        "def kruskal_wallis_test(*groups, alpha=0.05):\n",
        "    statistic, p_value = kruskal(*groups)\n",
        "    return p_value\n",
        "\n",
        "adaboost_group = df_classifier.AdaBoostClassifier.values\n",
        "xgb_group = df_classifier.XGBClassifier.values\n",
        "lgbm_group = df_classifier.LGBMClassifier.values\n",
        "sgd_group = df_classifier.SGDClassifier.values\n",
        "\n",
        "\n",
        "result = kruskal_wallis_test(adaboost_group,\n",
        "                             xgb_group, adaboost_group,\n",
        "                             sgd_group, lgbm_group)\n",
        "\n",
        "print(f'P-Value: {result}')"
      ],
      "metadata": {
        "colab": {
          "base_uri": "https://localhost:8080/"
        },
        "id": "ePn2zBA2BOKP",
        "outputId": "fc0d11e2-8b49-4e5b-fa20-44cad604566b"
      },
      "execution_count": null,
      "outputs": [
        {
          "output_type": "stream",
          "name": "stdout",
          "text": [
            "P-Value: 1.233385330962489e-06\n"
          ]
        }
      ]
    },
    {
      "cell_type": "markdown",
      "source": [
        "* Dado que o valor-p é é extremamente pequeno ($1.233\\times 10^{-6}$)sendo menor que 0,05, rejeitamos a hipótese nula. Isso indica que há uma diferença significativa nos valores de recall entre pelo menos um dos modelos de classificação."
      ],
      "metadata": {
        "id": "OXOcAMz3IskN"
      }
    },
    {
      "cell_type": "markdown",
      "source": [
        "#### **Aplicando o teste Post-Hoc de Dunn**\n",
        "\n",
        "Após a realização do teste de Kruskal-Wallis, que indica se há diferença significativa entre os grupos comparados, é comum aplicar um teste de post-hoc para determinar quais pares de grupos específicos diferem entre si. Um dos testes de post-hoc mais utilizados nesse contexto é o teste de Dunn.\n",
        "\n",
        "O teste de Dunn é um teste não paramétrico que compara os postos médios de cada par de grupos. Ele calcula a diferença entre os postos médios de cada par e verifica se essa diferença é estatisticamente significativa, levando em consideração o número de comparações realizadas.\n",
        "\n",
        "A fórmula para calcular a estatística do teste de Dunn é:\n",
        "$$Z = \\frac{R_i - R_j}{\\sqrt{\\frac{N(N+1)}{12}\\left(\\frac{1}{n_i} + \\frac{1}{n_j}\\right)}}$$\n",
        "\n",
        "Onde:\n",
        "* $R_i$ e $R_j$ são os postos médios dos grupos $i$ e $j$.\n",
        "* $N$ é o número total de observações.\n",
        "* $n_i$ e $n_j$ são os tamanhos das amostras dos grupos $i$ e $j$."
      ],
      "metadata": {
        "id": "1j9gGHLcJxKF"
      }
    },
    {
      "cell_type": "markdown",
      "source": [
        "Em seguida, aplicarei o teste de Dunn para determinar quais modelos classificadores apresentam diferenças significativas entre si."
      ],
      "metadata": {
        "id": "5UrbjyNOPdAq"
      }
    },
    {
      "cell_type": "code",
      "source": [
        "def dunn_test(df, val_col, group_col):\n",
        "    dunn_result = sp.posthoc_dunn(df, val_col=val_col, group_col=group_col, p_adjust='bonferroni')\n",
        "    return dunn_result\n",
        "\n",
        "df_long = df_classifier.melt(var_name='Classifier', value_name='Score').copy()\n",
        "result = dunn_test(df_long, val_col='Score', group_col='Classifier')\n",
        "result.style.applymap(lambda val: 'color: dodgerblue' if val < 0.05 else 'color: black')"
      ],
      "metadata": {
        "colab": {
          "base_uri": "https://localhost:8080/",
          "height": 174
        },
        "id": "1Q-foxgdQzvA",
        "outputId": "ccf62b9f-06aa-4cc2-ce8c-581995bbfcf4"
      },
      "execution_count": null,
      "outputs": [
        {
          "output_type": "execute_result",
          "data": {
            "text/plain": [
              "<pandas.io.formats.style.Styler at 0x7f576a752890>"
            ],
            "text/html": [
              "<style type=\"text/css\">\n",
              "#T_cd2dd_row0_col0, #T_cd2dd_row0_col2, #T_cd2dd_row1_col1, #T_cd2dd_row1_col2, #T_cd2dd_row1_col3, #T_cd2dd_row2_col0, #T_cd2dd_row2_col1, #T_cd2dd_row2_col2, #T_cd2dd_row3_col1, #T_cd2dd_row3_col3 {\n",
              "  color: black;\n",
              "}\n",
              "#T_cd2dd_row0_col1, #T_cd2dd_row0_col3, #T_cd2dd_row1_col0, #T_cd2dd_row2_col3, #T_cd2dd_row3_col0, #T_cd2dd_row3_col2 {\n",
              "  color: dodgerblue;\n",
              "}\n",
              "</style>\n",
              "<table id=\"T_cd2dd\" class=\"dataframe\">\n",
              "  <thead>\n",
              "    <tr>\n",
              "      <th class=\"blank level0\" >&nbsp;</th>\n",
              "      <th id=\"T_cd2dd_level0_col0\" class=\"col_heading level0 col0\" >AdaBoostClassifier</th>\n",
              "      <th id=\"T_cd2dd_level0_col1\" class=\"col_heading level0 col1\" >LGBMClassifier</th>\n",
              "      <th id=\"T_cd2dd_level0_col2\" class=\"col_heading level0 col2\" >SGDClassifier</th>\n",
              "      <th id=\"T_cd2dd_level0_col3\" class=\"col_heading level0 col3\" >XGBClassifier</th>\n",
              "    </tr>\n",
              "  </thead>\n",
              "  <tbody>\n",
              "    <tr>\n",
              "      <th id=\"T_cd2dd_level0_row0\" class=\"row_heading level0 row0\" >AdaBoostClassifier</th>\n",
              "      <td id=\"T_cd2dd_row0_col0\" class=\"data row0 col0\" >1.000000</td>\n",
              "      <td id=\"T_cd2dd_row0_col1\" class=\"data row0 col1\" >0.007273</td>\n",
              "      <td id=\"T_cd2dd_row0_col2\" class=\"data row0 col2\" >1.000000</td>\n",
              "      <td id=\"T_cd2dd_row0_col3\" class=\"data row0 col3\" >0.000053</td>\n",
              "    </tr>\n",
              "    <tr>\n",
              "      <th id=\"T_cd2dd_level0_row1\" class=\"row_heading level0 row1\" >LGBMClassifier</th>\n",
              "      <td id=\"T_cd2dd_row1_col0\" class=\"data row1 col0\" >0.007273</td>\n",
              "      <td id=\"T_cd2dd_row1_col1\" class=\"data row1 col1\" >1.000000</td>\n",
              "      <td id=\"T_cd2dd_row1_col2\" class=\"data row1 col2\" >0.061758</td>\n",
              "      <td id=\"T_cd2dd_row1_col3\" class=\"data row1 col3\" >1.000000</td>\n",
              "    </tr>\n",
              "    <tr>\n",
              "      <th id=\"T_cd2dd_level0_row2\" class=\"row_heading level0 row2\" >SGDClassifier</th>\n",
              "      <td id=\"T_cd2dd_row2_col0\" class=\"data row2 col0\" >1.000000</td>\n",
              "      <td id=\"T_cd2dd_row2_col1\" class=\"data row2 col1\" >0.061758</td>\n",
              "      <td id=\"T_cd2dd_row2_col2\" class=\"data row2 col2\" >1.000000</td>\n",
              "      <td id=\"T_cd2dd_row2_col3\" class=\"data row2 col3\" >0.000971</td>\n",
              "    </tr>\n",
              "    <tr>\n",
              "      <th id=\"T_cd2dd_level0_row3\" class=\"row_heading level0 row3\" >XGBClassifier</th>\n",
              "      <td id=\"T_cd2dd_row3_col0\" class=\"data row3 col0\" >0.000053</td>\n",
              "      <td id=\"T_cd2dd_row3_col1\" class=\"data row3 col1\" >1.000000</td>\n",
              "      <td id=\"T_cd2dd_row3_col2\" class=\"data row3 col2\" >0.000971</td>\n",
              "      <td id=\"T_cd2dd_row3_col3\" class=\"data row3 col3\" >1.000000</td>\n",
              "    </tr>\n",
              "  </tbody>\n",
              "</table>\n"
            ]
          },
          "metadata": {},
          "execution_count": 35
        }
      ]
    },
    {
      "cell_type": "markdown",
      "source": [
        "* `AdaBoostClassifier` mostra diferenças significativas em relação a `LGBMClassifier` e `XGBClassifier`.\n",
        "\n",
        "* `LGBMClassifier` é significativamente diferente apenas de `AdaBoostClassifier`.\n",
        "\n",
        "* `SGDClassifier` é significativamente diferente de `XGBClassifier`.\n",
        "\n",
        "* `XGBClassifier` tem diferenças significativas com `AdaBoostClassifier` e `SGDClassifier`\n"
      ],
      "metadata": {
        "id": "ZbkOuQp1qbyO"
      }
    },
    {
      "cell_type": "markdown",
      "source": [
        "### **Otimização dos Hiperparâmetro - Bayesian Optimization**\n",
        "\n",
        " A Otimização Bayesiana é um método que busca encontrar o conjunto de hiperparâmetros que maximiza a performance do modelo de forma eficiente. Ao contrário da random search ou de grid search, a Otimização Bayesiana usa um modelo probabilístico para selecionar os conjuntos de hiperparâmetros. O processo começa com a definição de uma função de aquisição, que decide quais hiperparâmetros testar em seguida, com base no modelo probabilístico. Um dos métodos mais comuns para a função de aquisição é a Expected Improvement (EI), que escolhe os hiperparâmetros que têm a maior expectativa de melhorar o desempenho em relação ao melhor resultado obtido até o momento. No python, uma das bibliotecas mais populares para realizar Otimização Bayesiana é o `Scikit-Optimize (skopt)`."
      ],
      "metadata": {
        "id": "TaQB3nlH9uaX"
      }
    },
    {
      "cell_type": "markdown",
      "source": [
        "#### **AdaBoost (Adaptive Boosting)**\n",
        "\n",
        "AdaBoost é um dos métodos mais populares de Boosting, conceito que se refere a combinação de diversos modelos de aprendizagem fracos para criar um modelo de aprendizagem forte. A principal ideia por trás do AdaBoost é ajustar adaptativamente os pesos dos exemplos de treinamento, focando nos exemplos que foram incorretamente classificados em iterações anteriores."
      ],
      "metadata": {
        "id": "8RK54-tSYDfF"
      }
    },
    {
      "cell_type": "markdown",
      "source": [
        "Utilizando a biblioteca skopt, criei um espaço de busca que inclui três hiperparâmetros importantes para o algoritmo AdaBoost:\n",
        "\n",
        "* `n_estimators`: O número máximo de estimadores em que o boosting é encerrado.\n",
        "\n",
        "* `algorithm`: Especifica qual variante do algoritmo AdaBoost será utilizada.\n",
        "\n",
        "* `learning_rate`: Peso aplicado a cada classificador em cada iteração de reforço.\n",
        "\n"
      ],
      "metadata": {
        "id": "3d7dTCo4eCS_"
      }
    },
    {
      "cell_type": "code",
      "source": [
        "ada_space = [\n",
        "    Integer(10, 500, name='n_estimators'),\n",
        "    Categorical(['SAMME', 'SAMME.R'], name='algorithm'),\n",
        "    Real(1e-6, 1e-1, prior='log-uniform', name='learning_rate')\n",
        "]"
      ],
      "metadata": {
        "id": "s_PWCZfiygJs"
      },
      "execution_count": null,
      "outputs": []
    },
    {
      "cell_type": "markdown",
      "source": [
        "Aqui, criei uma função chamada `ada_objective` que será usada para avaliar o desempenho do modelo AdaBoost em relação aos hiperparâmetros que estão sendo otimizados."
      ],
      "metadata": {
        "id": "u-eg8a2kaRSA"
      }
    },
    {
      "cell_type": "code",
      "source": [
        "@use_named_args(ada_space)\n",
        "def ada_objective(**params):\n",
        "    model = AdaBoostClassifier(**params)\n",
        "    scores = cross_validation(X=X_train, y=y_train, estimator=model,\n",
        "                              preprocessor=preprocessor, bool_category=cat_cols, n_splits=5)\n",
        "    return np.mean(scores)"
      ],
      "metadata": {
        "id": "yNEpTmwN1mfl"
      },
      "execution_count": null,
      "outputs": []
    },
    {
      "cell_type": "markdown",
      "source": [
        "A seguir, irei executar o processo de otimização bayesiana para ajustar os hiperparâmetros do AdaBoost."
      ],
      "metadata": {
        "id": "BbxX6cdvcAs_"
      }
    },
    {
      "cell_type": "code",
      "source": [
        "ada_result = gp_minimize(ada_objective, ada_space,n_calls=80,random_state=0, n_random_starts=10)\n",
        "print(f'Best hyperparameters {ada_result.x}')\n",
        "print(f'Best RMSE {ada_result.fun}')"
      ],
      "metadata": {
        "colab": {
          "base_uri": "https://localhost:8080/"
        },
        "id": "CqhBltDAjw4C",
        "outputId": "d55d097b-e3af-44f7-fdd5-d564c64eb44d"
      },
      "execution_count": null,
      "outputs": [
        {
          "output_type": "stream",
          "name": "stdout",
          "text": [
            "Best hyperparameters [425, 'SAMME.R', 8.354270566129826e-05]\n",
            "Best RMSE 0.8933909191583611\n"
          ]
        }
      ]
    },
    {
      "cell_type": "markdown",
      "source": [
        "Os resultados da otimização revelaram que os hiperparâmetros selecionados, com `n_estimators` de 425, `algorithm` SAMME.R, e uma `learning_rate` de 8.35e-05, alcançaram um recall de 0.893"
      ],
      "metadata": {
        "id": "awS2tbFFkmUG"
      }
    },
    {
      "cell_type": "markdown",
      "source": [
        "####**Stochastic Gradient Descent (SGD)**\n",
        "\n",
        "Stochastic Gradient Descent (SGD) é um algoritmo de otimização amplamente utilizado em Machine Learning. Ele é uma variante do método de gradiente descendente (GD) que atualiza os parâmetros de um modelo de forma iterativa para minimizar uma função de custo. Ao contrário do GD tradicional, que calcula o gradiente da função de custo utilizando todo o conjunto de dados de treinamento, o SGD atualiza os parâmetros com base em um único exemplo de treinamento ou um pequeno mini-lote."
      ],
      "metadata": {
        "id": "rWbBl_5tVdic"
      }
    },
    {
      "cell_type": "markdown",
      "source": [
        "Utilizando a biblioteca skopt, definimos um espaço de busca que inclui cinco hiperparâmetros importantes para o algoritmo SGD:\n",
        "\n",
        "* `alpha`: Constante que multiplica o termo de regularização.\n",
        "\n",
        "* `penalty`: A penalidade (também conhecida como termo de regularização) a ser usada.\n",
        "\n",
        "* `max_iter`: O número máximo de passagens sobre os dados de treinamento (também conhecidos como épocas).\n",
        "\n",
        "* `learning_rate`: Taxa de aprendizagem.\n",
        "\n",
        "* `eta0` : A taxa de aprendizado inicial para os cronogramas 'constant', 'invscaling' ou 'adaptive'\n",
        "\n"
      ],
      "metadata": {
        "id": "P1Kiobq-aYgc"
      }
    },
    {
      "cell_type": "code",
      "source": [
        "sgd_space = [\n",
        "    Real(1e-6, 1e-2, prior='log-uniform', name='alpha'),\n",
        "    Categorical(['l2', 'l1', 'elasticnet'], name='penalty'),\n",
        "    Integer(1000, 5000, name='max_iter'),\n",
        "    Categorical(['constant', 'optimal', 'invscaling', 'adaptive'], name='learning_rate'),\n",
        "    Real(0.0001, 1.0, name='eta0')\n",
        "]"
      ],
      "metadata": {
        "id": "AQUcIC7as55f"
      },
      "execution_count": null,
      "outputs": []
    },
    {
      "cell_type": "markdown",
      "source": [
        "Aqui, criei uma função chamada `sgd_objective` que será usada para avaliar o desempenho do modelo SGD em relação aos hiperparâmetros que estão sendo otimizados."
      ],
      "metadata": {
        "id": "6jeB59ZYa1Eh"
      }
    },
    {
      "cell_type": "code",
      "source": [
        "@use_named_args(sgd_space)\n",
        "def sgd_objective(**params):\n",
        "    model = SGDClassifier(**params)\n",
        "    scores = cross_validation(X=X_train, y=y_train, estimator=model,\n",
        "                              preprocessor=preprocessor, bool_category=cat_cols, n_splits=5)\n",
        "    return - np.mean(scores)"
      ],
      "metadata": {
        "id": "rUuTkAQRtA4V"
      },
      "execution_count": null,
      "outputs": []
    },
    {
      "cell_type": "markdown",
      "source": [
        "A seguir, irei executar o processo de otimização bayesiana para ajustar os hiperparâmetros do SGD."
      ],
      "metadata": {
        "id": "j5YcJYRhbdnx"
      }
    },
    {
      "cell_type": "code",
      "source": [
        "sgd_result = gp_minimize(sgd_objective, sgd_space,verbose=1,n_calls=80,random_state=0, n_random_starts=10)\n",
        "print(f'Best hyperparameters {sgd_result.x}')\n",
        "print(f'Best RMSE {-sgd_result.fun}')"
      ],
      "metadata": {
        "colab": {
          "base_uri": "https://localhost:8080/"
        },
        "id": "KA85eDqj7rrC",
        "outputId": "cc9e32ef-a16e-4876-a7b0-db5db8121c91"
      },
      "execution_count": null,
      "outputs": [
        {
          "output_type": "stream",
          "name": "stdout",
          "text": [
            "Best hyperparameters [0.0017776560138603548, 'l2', 3616, 'invscaling', 0.0001]\n",
            "Best RMSE 0.8867464008859358\n"
          ]
        }
      ]
    },
    {
      "cell_type": "markdown",
      "source": [
        "A otimização revelou que os hiperparâmetros selecionados com `alpha` de **0.0017**, `penalty` configurado como **l2**, `max_iter` igual a **3616** , `learning_rate` definido como **invscaling** e `eta0` de **0,0001** conseguiram atingir um Recall de **0,886**."
      ],
      "metadata": {
        "id": "8aJTHYmYiChf"
      }
    },
    {
      "cell_type": "markdown",
      "source": [
        "####**LightGBM(Light Gradient Boosting Machine)**\n",
        "\n",
        "Light GBM, abreviação de Light Gradient Boosting Machine, é uma implementação de alto desempenho, distribuída e de código aberto do framework gradient boosting. Foi desenvolvido pela Microsoft e é projetado para treinamento eficiente e distribuído em conjuntos de dados muito grandes. Ele é uma implementação eficiente do algoritmo de gradient boosting. O Light GBM se destaca devido à sua abordagem única para construir árvores de decisão. Diferentemente dos métodos tradicionais de aumento de gradiente, que usam crescimento de árvore em profundidade, o Light GBM emprega uma estratégia de crescimento de árvore folha a folha."
      ],
      "metadata": {
        "id": "ykyKiNHgSgBa"
      }
    },
    {
      "cell_type": "markdown",
      "source": [
        "Utilizando a biblioteca skopt, definimos um espaço de busca que inclui seis hiperparâmetros importantes para o algoritmo LightGBM:\n",
        "\n",
        "* `num_leaves`: Máximo de folhas de árvore para aprendizes base.\n",
        "\n",
        "* `min_child_samples`: Número mínimo de dados necessários em um filho (folha).\n",
        "\n",
        "* `learning_rate`: Taxa de aprendizado.\n",
        "\n",
        "* `subsample`: Proporção de subamostragem da instância de treinamento.\n",
        "\n",
        "* `colsample_bytree`: Proporção de subamostragem de colunas ao construir cada árvore.\n",
        "\n",
        "* `n_estimators`: Número de árvores impulsionadas para ajustar.\n"
      ],
      "metadata": {
        "id": "QCydgvkZatIy"
      }
    },
    {
      "cell_type": "code",
      "source": [
        "lgbm_space  = [\n",
        "    Integer(2, 128, name='num_leaves'),\n",
        "    Integer(1, 100, name='min_child_samples'),\n",
        "    Real(1e-3, 1e-1, prior='log-uniform', name='learning_rate'),\n",
        "    Real(0.05, 1.0, name='subsample'),\n",
        "    Real(0.05, 1.0, name='colsample_bytree'),\n",
        "    Integer(100, 1000, name='n_estimators'),\n",
        "]"
      ],
      "metadata": {
        "id": "Fb-S7k3QJgke"
      },
      "execution_count": null,
      "outputs": []
    },
    {
      "cell_type": "markdown",
      "source": [
        "Aqui, criei uma função chamada `lgbm_objective` que será usada para avaliar o desempenho do modelo LGBM em relação aos hiperparâmetros que estão sendo otimizados."
      ],
      "metadata": {
        "id": "R0JdZZQupnoB"
      }
    },
    {
      "cell_type": "code",
      "source": [
        "@use_named_args(lgbm_space)\n",
        "def lgbm_objective(**params):\n",
        "    model = LGBMClassifier(**params)\n",
        "    scores = cross_validation(X=X_train, y=y_train, estimator=model,\n",
        "                              preprocessor=preprocessor, bool_category=cat_cols, n_splits=5)\n",
        "    return - np.mean(scores)"
      ],
      "metadata": {
        "id": "5Q2hH6JQUcPo"
      },
      "execution_count": null,
      "outputs": []
    },
    {
      "cell_type": "markdown",
      "source": [
        "A seguir, irei executar o processo de otimização bayesiana para ajustar os hiperparâmetros do LGBM."
      ],
      "metadata": {
        "id": "PJ1zLT-xp6tA"
      }
    },
    {
      "cell_type": "code",
      "source": [
        "lgbm_result = gp_minimize(lgbm_objective, lgbm_space,n_calls=80, random_state=0, n_random_starts=10)\n",
        "print(f'Best hyperparameters {lgbm_result.x}')\n",
        "print(f'Best RMSE {-lgbm_result.fun}')"
      ],
      "metadata": {
        "colab": {
          "base_uri": "https://localhost:8080/"
        },
        "id": "Z5KGFOxfuQWX",
        "outputId": "d9788289-a37c-4a81-8322-2d780bcf6f81"
      },
      "execution_count": null,
      "outputs": [
        {
          "output_type": "stream",
          "name": "stdout",
          "text": [
            "Best hyperparameters [2, 100, 0.001, 0.05, 0.8506362371846301, 385]\n",
            "Best RMSE 0.8933909191583611\n"
          ]
        }
      ]
    },
    {
      "cell_type": "markdown",
      "source": [
        "A otimização revelou que os hiperparâmetros selecionados com `num_leaves` de **2**, `min_child_samples` de **100**, `learning_rate` de **0,001**, `subsample` de **0,05**, `colsample_bytree` de **0,8506** e `n_estimators` de **385** conseguiram alcançar um Recall de **0,893**."
      ],
      "metadata": {
        "id": "jqjWOoE2i1dV"
      }
    },
    {
      "cell_type": "markdown",
      "source": [
        "####**XGBoost(eXtreme Gradient Boosting)**\n",
        "\n",
        "eXtreme Gradient Boosting (XGBoost) é uma implementação escalável e altamente precisa de aumento de gradiente que expande os limites do poder de computação para algoritmos de árvore aumentada, sendo construído em grande parte para energizar o desempenho do modelo de aprendizado de máquina e a velocidade computacional. Com o XGBoost, as árvores são construídas em paralelo, em vez de sequencialmente como o GBDT. Ele segue uma estratégia de nível, escaneando valores de gradiente e usando essas somas parciais para avaliar a qualidade das divisões em cada divisão possível no conjunto de treinamento."
      ],
      "metadata": {
        "id": "IkabLrkTL8Rk"
      }
    },
    {
      "cell_type": "markdown",
      "source": [
        "Utilizando a biblioteca skopt, definimos um espaço de busca que inclui cinco hiperparâmetros importantes para o algoritmo XGBoost:\n",
        "\n",
        "* `learning_rate`:Taxa de aprendizado do modelo.\n",
        "\n",
        "* `n_estimators`: Número de árvores de decisão.\n",
        "\n",
        "* `max_depth`: Profundidade máxima de cada árvore de decisão.\n",
        "\n",
        "* `min_child_weight`: Soma mínima do peso da instância (hessian) necessária em um nó filho.\n",
        "\n",
        "* `gamma`: Redução mínima de perda necessária para fazer uma partição adicional em um nó folha da árvore.\n"
      ],
      "metadata": {
        "id": "3_0aakP3Wihx"
      }
    },
    {
      "cell_type": "code",
      "source": [
        "xgb_space = [\n",
        "    Real(0.0001, 1.0, name='learning_rate', prior='log-uniform'),\n",
        "    Integer(100, 500, name='n_estimators'),\n",
        "    Integer(1, 10, name='max_depth'),\n",
        "    Integer(1, 10, name='min_child_weight'),\n",
        "    Real(0.1, 1.0, name='gamma', prior='uniform')\n",
        "]"
      ],
      "metadata": {
        "id": "suGtCNp_NPBo"
      },
      "execution_count": null,
      "outputs": []
    },
    {
      "cell_type": "markdown",
      "source": [
        "Aqui, criei uma função chamada `xgb_objective` que será usada para avaliar o desempenho do modelo XGBoost em relação aos hiperparâmetros que estão sendo otimizados."
      ],
      "metadata": {
        "id": "wuagTNOIKkI9"
      }
    },
    {
      "cell_type": "code",
      "source": [
        "@use_named_args(xgb_space)\n",
        "def xgb_objective(**params):\n",
        "    model = XGBClassifier(**params)\n",
        "    scores = cross_validation(X=X_train, y=y_train, estimator=model,\n",
        "                              preprocessor=preprocessor, bool_category=cat_cols, n_splits=5)\n",
        "    return - np.mean(scores)"
      ],
      "metadata": {
        "id": "-ncDZPP-PZTz"
      },
      "execution_count": null,
      "outputs": []
    },
    {
      "cell_type": "markdown",
      "source": [
        "A seguir, irei executar o processo de otimização bayesiana para ajustar os hiperparâmetros do XGBoost.\n",
        "\n"
      ],
      "metadata": {
        "id": "eqwEbaUSK4xh"
      }
    },
    {
      "cell_type": "code",
      "source": [
        "xgb_result = gp_minimize(xgb_objective, xgb_space,n_calls=80,random_state=0, n_random_starts=10)\n",
        "print(f'Best hyperparameters {xgb_result.x}')\n",
        "print(f'Best RMSE {-xgb_result.fun}')"
      ],
      "metadata": {
        "colab": {
          "base_uri": "https://localhost:8080/"
        },
        "id": "JH4apKIG0TM7",
        "outputId": "f45bf584-28ee-4a1e-a5c4-406df668d8bb"
      },
      "execution_count": null,
      "outputs": [
        {
          "output_type": "stream",
          "name": "stdout",
          "text": [
            "Best hyperparameters [0.0003036601824788995, 261, 1, 3, 0.5257648608970887]\n",
            "Best RMSE 0.8933909191583611\n"
          ]
        }
      ]
    },
    {
      "cell_type": "markdown",
      "source": [
        "A otimização revelou que os hiperparâmetros selecionados com um `learning_rate` de **0,0003**, `n_estimators` de **261**, `max_depth` de **1**, `min_child_weight` de **3** e `gamma` de **0,5257** conseguiram alcançar um Recall de **0,893**."
      ],
      "metadata": {
        "id": "DrjltIV1Mc1n"
      }
    },
    {
      "cell_type": "markdown",
      "metadata": {
        "id": "3cQb11uBrvkq"
      },
      "source": [
        "## Avaliar o desempenho do modelo\n",
        "A avaliação é a etapa onde testamos se nosso modelo é capaz de cumprir a missão que foi definida para ele. É nessa fase que utilizamos diferentes métricas e técnicas para avaliar a eficácia do modelo em relação aos dados de teste. Mas não é só isso! Também avaliamos se o modelo é capaz de lidar com novos dados que não foram usados no treinamento e se ele é robusto o suficiente para lidar com diferentes cenários e variações."
      ]
    },
    {
      "cell_type": "code",
      "execution_count": null,
      "metadata": {
        "id": "5pQ-8xdXIiUD"
      },
      "outputs": [],
      "source": [
        "from sklearn.metrics import roc_auc_score\n",
        "from sklearn.metrics import classification_report\n",
        "from sklearn.metrics import confusion_matrix\n",
        "from joblib import dump, load"
      ]
    },
    {
      "cell_type": "markdown",
      "source": [
        "No início do projeto, dividimos os dados em dois conjuntos: um de treino e outro de teste. Agora que já exploramos, preparamos os dados e otimizamos os hiperparâmetros, é hora de avaliar o potencial do modelo com os dados de teste. No entanto, para que os resultados sejam justos, é necessário garantir que os novos dados estejam nas mesmas condições dos dados de treinamento, aos quais aplicamos as transformações."
      ],
      "metadata": {
        "id": "2wi47WzVOlh1"
      }
    },
    {
      "cell_type": "code",
      "source": [
        "X_test_enc = encoder.transform(X_test[cols_to_encode].copy())\n",
        "X_test_enc.reset_index(inplace=True)\n",
        "X_test_enc.drop(columns='index', inplace=True)\n",
        "X_test_scaler = scaler.transform(X_test[cols_to_scale].copy())\n",
        "X_test_transform = pd.DataFrame(X_test_scaler, columns=X_test[cols_to_scale].columns)\n",
        "X_test_transform = pd.concat([X_test_enc, X_test_transform], axis=1)\n",
        "X_test_transform.head()"
      ],
      "metadata": {
        "colab": {
          "base_uri": "https://localhost:8080/",
          "height": 255
        },
        "id": "WKl3XHJAA8xD",
        "outputId": "4ff1cd46-07e5-400e-fed0-556a254c2353"
      },
      "execution_count": null,
      "outputs": [
        {
          "output_type": "execute_result",
          "data": {
            "text/plain": [
              "   gender_1  gender_2  SeniorCitizen_1  SeniorCitizen_2  Partner_1  Partner_2  \\\n",
              "0         1         0                1                0          0          1   \n",
              "1         0         1                1                0          0          1   \n",
              "2         1         0                1                0          0          1   \n",
              "3         0         1                1                0          0          1   \n",
              "4         1         0                1                0          1          0   \n",
              "\n",
              "   Dependents_1  Dependents_2  PhoneService_1  PhoneService_2  ...  \\\n",
              "0             1             0               1               0  ...   \n",
              "1             1             0               1               0  ...   \n",
              "2             1             0               1               0  ...   \n",
              "3             1             0               1               0  ...   \n",
              "4             1             0               1               0  ...   \n",
              "\n",
              "   Contract_3  PaperlessBilling_1  PaperlessBilling_2  PaymentMethod_1  \\\n",
              "0           1                   1                   0                0   \n",
              "1           1                   0                   1                0   \n",
              "2           0                   0                   1                0   \n",
              "3           0                   1                   0                1   \n",
              "4           0                   0                   1                0   \n",
              "\n",
              "   PaymentMethod_2  PaymentMethod_3  PaymentMethod_4    tenure  \\\n",
              "0                1                0                0 -0.353980   \n",
              "1                0                0                1  1.359796   \n",
              "2                1                0                0 -0.604777   \n",
              "3                0                0                0 -1.106370   \n",
              "4                0                0                1  1.150799   \n",
              "\n",
              "   MonthlyCharges  TotalCharges  \n",
              "0       -0.344985     -0.454935  \n",
              "1        1.700355      2.314527  \n",
              "2        0.136581     -0.510930  \n",
              "3       -1.667101     -0.927624  \n",
              "4        0.339714      1.030822  \n",
              "\n",
              "[5 rows x 46 columns]"
            ],
            "text/html": [
              "\n",
              "  <div id=\"df-9162716b-7585-484f-b515-af600f433a68\" class=\"colab-df-container\">\n",
              "    <div>\n",
              "<style scoped>\n",
              "    .dataframe tbody tr th:only-of-type {\n",
              "        vertical-align: middle;\n",
              "    }\n",
              "\n",
              "    .dataframe tbody tr th {\n",
              "        vertical-align: top;\n",
              "    }\n",
              "\n",
              "    .dataframe thead th {\n",
              "        text-align: right;\n",
              "    }\n",
              "</style>\n",
              "<table border=\"1\" class=\"dataframe\">\n",
              "  <thead>\n",
              "    <tr style=\"text-align: right;\">\n",
              "      <th></th>\n",
              "      <th>gender_1</th>\n",
              "      <th>gender_2</th>\n",
              "      <th>SeniorCitizen_1</th>\n",
              "      <th>SeniorCitizen_2</th>\n",
              "      <th>Partner_1</th>\n",
              "      <th>Partner_2</th>\n",
              "      <th>Dependents_1</th>\n",
              "      <th>Dependents_2</th>\n",
              "      <th>PhoneService_1</th>\n",
              "      <th>PhoneService_2</th>\n",
              "      <th>...</th>\n",
              "      <th>Contract_3</th>\n",
              "      <th>PaperlessBilling_1</th>\n",
              "      <th>PaperlessBilling_2</th>\n",
              "      <th>PaymentMethod_1</th>\n",
              "      <th>PaymentMethod_2</th>\n",
              "      <th>PaymentMethod_3</th>\n",
              "      <th>PaymentMethod_4</th>\n",
              "      <th>tenure</th>\n",
              "      <th>MonthlyCharges</th>\n",
              "      <th>TotalCharges</th>\n",
              "    </tr>\n",
              "  </thead>\n",
              "  <tbody>\n",
              "    <tr>\n",
              "      <th>0</th>\n",
              "      <td>1</td>\n",
              "      <td>0</td>\n",
              "      <td>1</td>\n",
              "      <td>0</td>\n",
              "      <td>0</td>\n",
              "      <td>1</td>\n",
              "      <td>1</td>\n",
              "      <td>0</td>\n",
              "      <td>1</td>\n",
              "      <td>0</td>\n",
              "      <td>...</td>\n",
              "      <td>1</td>\n",
              "      <td>1</td>\n",
              "      <td>0</td>\n",
              "      <td>0</td>\n",
              "      <td>1</td>\n",
              "      <td>0</td>\n",
              "      <td>0</td>\n",
              "      <td>-0.353980</td>\n",
              "      <td>-0.344985</td>\n",
              "      <td>-0.454935</td>\n",
              "    </tr>\n",
              "    <tr>\n",
              "      <th>1</th>\n",
              "      <td>0</td>\n",
              "      <td>1</td>\n",
              "      <td>1</td>\n",
              "      <td>0</td>\n",
              "      <td>0</td>\n",
              "      <td>1</td>\n",
              "      <td>1</td>\n",
              "      <td>0</td>\n",
              "      <td>1</td>\n",
              "      <td>0</td>\n",
              "      <td>...</td>\n",
              "      <td>1</td>\n",
              "      <td>0</td>\n",
              "      <td>1</td>\n",
              "      <td>0</td>\n",
              "      <td>0</td>\n",
              "      <td>0</td>\n",
              "      <td>1</td>\n",
              "      <td>1.359796</td>\n",
              "      <td>1.700355</td>\n",
              "      <td>2.314527</td>\n",
              "    </tr>\n",
              "    <tr>\n",
              "      <th>2</th>\n",
              "      <td>1</td>\n",
              "      <td>0</td>\n",
              "      <td>1</td>\n",
              "      <td>0</td>\n",
              "      <td>0</td>\n",
              "      <td>1</td>\n",
              "      <td>1</td>\n",
              "      <td>0</td>\n",
              "      <td>1</td>\n",
              "      <td>0</td>\n",
              "      <td>...</td>\n",
              "      <td>0</td>\n",
              "      <td>0</td>\n",
              "      <td>1</td>\n",
              "      <td>0</td>\n",
              "      <td>1</td>\n",
              "      <td>0</td>\n",
              "      <td>0</td>\n",
              "      <td>-0.604777</td>\n",
              "      <td>0.136581</td>\n",
              "      <td>-0.510930</td>\n",
              "    </tr>\n",
              "    <tr>\n",
              "      <th>3</th>\n",
              "      <td>0</td>\n",
              "      <td>1</td>\n",
              "      <td>1</td>\n",
              "      <td>0</td>\n",
              "      <td>0</td>\n",
              "      <td>1</td>\n",
              "      <td>1</td>\n",
              "      <td>0</td>\n",
              "      <td>1</td>\n",
              "      <td>0</td>\n",
              "      <td>...</td>\n",
              "      <td>0</td>\n",
              "      <td>1</td>\n",
              "      <td>0</td>\n",
              "      <td>1</td>\n",
              "      <td>0</td>\n",
              "      <td>0</td>\n",
              "      <td>0</td>\n",
              "      <td>-1.106370</td>\n",
              "      <td>-1.667101</td>\n",
              "      <td>-0.927624</td>\n",
              "    </tr>\n",
              "    <tr>\n",
              "      <th>4</th>\n",
              "      <td>1</td>\n",
              "      <td>0</td>\n",
              "      <td>1</td>\n",
              "      <td>0</td>\n",
              "      <td>1</td>\n",
              "      <td>0</td>\n",
              "      <td>1</td>\n",
              "      <td>0</td>\n",
              "      <td>1</td>\n",
              "      <td>0</td>\n",
              "      <td>...</td>\n",
              "      <td>0</td>\n",
              "      <td>0</td>\n",
              "      <td>1</td>\n",
              "      <td>0</td>\n",
              "      <td>0</td>\n",
              "      <td>0</td>\n",
              "      <td>1</td>\n",
              "      <td>1.150799</td>\n",
              "      <td>0.339714</td>\n",
              "      <td>1.030822</td>\n",
              "    </tr>\n",
              "  </tbody>\n",
              "</table>\n",
              "<p>5 rows × 46 columns</p>\n",
              "</div>\n",
              "    <div class=\"colab-df-buttons\">\n",
              "\n",
              "  <div class=\"colab-df-container\">\n",
              "    <button class=\"colab-df-convert\" onclick=\"convertToInteractive('df-9162716b-7585-484f-b515-af600f433a68')\"\n",
              "            title=\"Convert this dataframe to an interactive table.\"\n",
              "            style=\"display:none;\">\n",
              "\n",
              "  <svg xmlns=\"http://www.w3.org/2000/svg\" height=\"24px\" viewBox=\"0 -960 960 960\">\n",
              "    <path d=\"M120-120v-720h720v720H120Zm60-500h600v-160H180v160Zm220 220h160v-160H400v160Zm0 220h160v-160H400v160ZM180-400h160v-160H180v160Zm440 0h160v-160H620v160ZM180-180h160v-160H180v160Zm440 0h160v-160H620v160Z\"/>\n",
              "  </svg>\n",
              "    </button>\n",
              "\n",
              "  <style>\n",
              "    .colab-df-container {\n",
              "      display:flex;\n",
              "      gap: 12px;\n",
              "    }\n",
              "\n",
              "    .colab-df-convert {\n",
              "      background-color: #E8F0FE;\n",
              "      border: none;\n",
              "      border-radius: 50%;\n",
              "      cursor: pointer;\n",
              "      display: none;\n",
              "      fill: #1967D2;\n",
              "      height: 32px;\n",
              "      padding: 0 0 0 0;\n",
              "      width: 32px;\n",
              "    }\n",
              "\n",
              "    .colab-df-convert:hover {\n",
              "      background-color: #E2EBFA;\n",
              "      box-shadow: 0px 1px 2px rgba(60, 64, 67, 0.3), 0px 1px 3px 1px rgba(60, 64, 67, 0.15);\n",
              "      fill: #174EA6;\n",
              "    }\n",
              "\n",
              "    .colab-df-buttons div {\n",
              "      margin-bottom: 4px;\n",
              "    }\n",
              "\n",
              "    [theme=dark] .colab-df-convert {\n",
              "      background-color: #3B4455;\n",
              "      fill: #D2E3FC;\n",
              "    }\n",
              "\n",
              "    [theme=dark] .colab-df-convert:hover {\n",
              "      background-color: #434B5C;\n",
              "      box-shadow: 0px 1px 3px 1px rgba(0, 0, 0, 0.15);\n",
              "      filter: drop-shadow(0px 1px 2px rgba(0, 0, 0, 0.3));\n",
              "      fill: #FFFFFF;\n",
              "    }\n",
              "  </style>\n",
              "\n",
              "    <script>\n",
              "      const buttonEl =\n",
              "        document.querySelector('#df-9162716b-7585-484f-b515-af600f433a68 button.colab-df-convert');\n",
              "      buttonEl.style.display =\n",
              "        google.colab.kernel.accessAllowed ? 'block' : 'none';\n",
              "\n",
              "      async function convertToInteractive(key) {\n",
              "        const element = document.querySelector('#df-9162716b-7585-484f-b515-af600f433a68');\n",
              "        const dataTable =\n",
              "          await google.colab.kernel.invokeFunction('convertToInteractive',\n",
              "                                                    [key], {});\n",
              "        if (!dataTable) return;\n",
              "\n",
              "        const docLinkHtml = 'Like what you see? Visit the ' +\n",
              "          '<a target=\"_blank\" href=https://colab.research.google.com/notebooks/data_table.ipynb>data table notebook</a>'\n",
              "          + ' to learn more about interactive tables.';\n",
              "        element.innerHTML = '';\n",
              "        dataTable['output_type'] = 'display_data';\n",
              "        await google.colab.output.renderOutput(dataTable, element);\n",
              "        const docLink = document.createElement('div');\n",
              "        docLink.innerHTML = docLinkHtml;\n",
              "        element.appendChild(docLink);\n",
              "      }\n",
              "    </script>\n",
              "  </div>\n",
              "\n",
              "\n",
              "<div id=\"df-b62014ce-cd7d-4f80-a489-bf119cc0e1fc\">\n",
              "  <button class=\"colab-df-quickchart\" onclick=\"quickchart('df-b62014ce-cd7d-4f80-a489-bf119cc0e1fc')\"\n",
              "            title=\"Suggest charts\"\n",
              "            style=\"display:none;\">\n",
              "\n",
              "<svg xmlns=\"http://www.w3.org/2000/svg\" height=\"24px\"viewBox=\"0 0 24 24\"\n",
              "     width=\"24px\">\n",
              "    <g>\n",
              "        <path d=\"M19 3H5c-1.1 0-2 .9-2 2v14c0 1.1.9 2 2 2h14c1.1 0 2-.9 2-2V5c0-1.1-.9-2-2-2zM9 17H7v-7h2v7zm4 0h-2V7h2v10zm4 0h-2v-4h2v4z\"/>\n",
              "    </g>\n",
              "</svg>\n",
              "  </button>\n",
              "\n",
              "<style>\n",
              "  .colab-df-quickchart {\n",
              "      --bg-color: #E8F0FE;\n",
              "      --fill-color: #1967D2;\n",
              "      --hover-bg-color: #E2EBFA;\n",
              "      --hover-fill-color: #174EA6;\n",
              "      --disabled-fill-color: #AAA;\n",
              "      --disabled-bg-color: #DDD;\n",
              "  }\n",
              "\n",
              "  [theme=dark] .colab-df-quickchart {\n",
              "      --bg-color: #3B4455;\n",
              "      --fill-color: #D2E3FC;\n",
              "      --hover-bg-color: #434B5C;\n",
              "      --hover-fill-color: #FFFFFF;\n",
              "      --disabled-bg-color: #3B4455;\n",
              "      --disabled-fill-color: #666;\n",
              "  }\n",
              "\n",
              "  .colab-df-quickchart {\n",
              "    background-color: var(--bg-color);\n",
              "    border: none;\n",
              "    border-radius: 50%;\n",
              "    cursor: pointer;\n",
              "    display: none;\n",
              "    fill: var(--fill-color);\n",
              "    height: 32px;\n",
              "    padding: 0;\n",
              "    width: 32px;\n",
              "  }\n",
              "\n",
              "  .colab-df-quickchart:hover {\n",
              "    background-color: var(--hover-bg-color);\n",
              "    box-shadow: 0 1px 2px rgba(60, 64, 67, 0.3), 0 1px 3px 1px rgba(60, 64, 67, 0.15);\n",
              "    fill: var(--button-hover-fill-color);\n",
              "  }\n",
              "\n",
              "  .colab-df-quickchart-complete:disabled,\n",
              "  .colab-df-quickchart-complete:disabled:hover {\n",
              "    background-color: var(--disabled-bg-color);\n",
              "    fill: var(--disabled-fill-color);\n",
              "    box-shadow: none;\n",
              "  }\n",
              "\n",
              "  .colab-df-spinner {\n",
              "    border: 2px solid var(--fill-color);\n",
              "    border-color: transparent;\n",
              "    border-bottom-color: var(--fill-color);\n",
              "    animation:\n",
              "      spin 1s steps(1) infinite;\n",
              "  }\n",
              "\n",
              "  @keyframes spin {\n",
              "    0% {\n",
              "      border-color: transparent;\n",
              "      border-bottom-color: var(--fill-color);\n",
              "      border-left-color: var(--fill-color);\n",
              "    }\n",
              "    20% {\n",
              "      border-color: transparent;\n",
              "      border-left-color: var(--fill-color);\n",
              "      border-top-color: var(--fill-color);\n",
              "    }\n",
              "    30% {\n",
              "      border-color: transparent;\n",
              "      border-left-color: var(--fill-color);\n",
              "      border-top-color: var(--fill-color);\n",
              "      border-right-color: var(--fill-color);\n",
              "    }\n",
              "    40% {\n",
              "      border-color: transparent;\n",
              "      border-right-color: var(--fill-color);\n",
              "      border-top-color: var(--fill-color);\n",
              "    }\n",
              "    60% {\n",
              "      border-color: transparent;\n",
              "      border-right-color: var(--fill-color);\n",
              "    }\n",
              "    80% {\n",
              "      border-color: transparent;\n",
              "      border-right-color: var(--fill-color);\n",
              "      border-bottom-color: var(--fill-color);\n",
              "    }\n",
              "    90% {\n",
              "      border-color: transparent;\n",
              "      border-bottom-color: var(--fill-color);\n",
              "    }\n",
              "  }\n",
              "</style>\n",
              "\n",
              "  <script>\n",
              "    async function quickchart(key) {\n",
              "      const quickchartButtonEl =\n",
              "        document.querySelector('#' + key + ' button');\n",
              "      quickchartButtonEl.disabled = true;  // To prevent multiple clicks.\n",
              "      quickchartButtonEl.classList.add('colab-df-spinner');\n",
              "      try {\n",
              "        const charts = await google.colab.kernel.invokeFunction(\n",
              "            'suggestCharts', [key], {});\n",
              "      } catch (error) {\n",
              "        console.error('Error during call to suggestCharts:', error);\n",
              "      }\n",
              "      quickchartButtonEl.classList.remove('colab-df-spinner');\n",
              "      quickchartButtonEl.classList.add('colab-df-quickchart-complete');\n",
              "    }\n",
              "    (() => {\n",
              "      let quickchartButtonEl =\n",
              "        document.querySelector('#df-b62014ce-cd7d-4f80-a489-bf119cc0e1fc button');\n",
              "      quickchartButtonEl.style.display =\n",
              "        google.colab.kernel.accessAllowed ? 'block' : 'none';\n",
              "    })();\n",
              "  </script>\n",
              "</div>\n",
              "\n",
              "    </div>\n",
              "  </div>\n"
            ],
            "application/vnd.google.colaboratory.intrinsic+json": {
              "type": "dataframe",
              "variable_name": "X_test_transform"
            }
          },
          "metadata": {},
          "execution_count": 19
        }
      ]
    },
    {
      "cell_type": "markdown",
      "source": [
        "### **Avaliação de Desempenho do Modelo AdaBoost**\n",
        "utilizaremos os hiperparâmetros otimizados anteriormente para treinar o modelo AdaBoost. Em seguida, avaliaremos seu desempenho preditivo nos dados de teste, utilizando o Recall como a métrica principal. Outras métricas, como Accuracy e AUC, serão utilizadas como suporte para uma avaliação mais abrangente."
      ],
      "metadata": {
        "id": "o4gLxhlXAvQJ"
      }
    },
    {
      "cell_type": "code",
      "source": [
        "ada_params ={'n_estimators':425, 'algorithm':'SAMME.R',\n",
        "             'learning_rate':8.354270566129826e-05,'random_state':0}\n",
        "ada_model = AdaBoostClassifier(**ada_params)\n",
        "ada_model.fit(X_train_transform, y_train_smotenc)\n",
        "y_pred_ada = ada_model.predict(X_test_transform)\n",
        "y_pred_proba_ada = ada_model.predict_proba(X_test_transform)[:, 1]\n",
        "roc_auc_ada = roc_auc_score(y_test, y_pred_proba_ada)\n",
        "print(classification_report(y_test, y_pred_ada))\n",
        "print(f\"ROC AUC (AdaBoost): {roc_auc_ada}\")"
      ],
      "metadata": {
        "colab": {
          "base_uri": "https://localhost:8080/"
        },
        "id": "Qr095VhQGszg",
        "outputId": "f4fbdf07-f07a-43fc-8613-b22c2e73ddf3"
      },
      "execution_count": null,
      "outputs": [
        {
          "output_type": "stream",
          "name": "stdout",
          "text": [
            "              precision    recall  f1-score   support\n",
            "\n",
            "           0       0.92      0.57      0.70      1041\n",
            "           1       0.41      0.85      0.56       368\n",
            "\n",
            "    accuracy                           0.64      1409\n",
            "   macro avg       0.66      0.71      0.63      1409\n",
            "weighted avg       0.78      0.64      0.66      1409\n",
            "\n",
            "ROC AUC (AdaBoost): 0.7114527210458172\n"
          ]
        }
      ]
    },
    {
      "cell_type": "markdown",
      "source": [
        "Abaixo, iremos gerar uma matriz de confusão para visualizar o desempenho do modelo de AdaBoost. A matriz de confusão nos permite observar a distribuição das previsões corretas e incorretas feitas pelo modelo, mostrando a relação entre os rótulos reais e os previstos"
      ],
      "metadata": {
        "id": "ZWkZsmIjjfgd"
      }
    },
    {
      "cell_type": "code",
      "source": [
        "fig, ax = plt.subplots(figsize=(10, 6), dpi=72)\n",
        "sns.heatmap(confusion_matrix(y_test, y_pred_ada, normalize='true'), annot=True, fmt='.2f', cmap='Blues')\n",
        "ax.set_xlabel('Predicted Labels')\n",
        "ax.set_ylabel('True Labels')\n",
        "ax.set_title('Confusion Matrix')\n",
        "plt.show()"
      ],
      "metadata": {
        "colab": {
          "base_uri": "https://localhost:8080/",
          "height": 411
        },
        "id": "uw_v7Xqp4q2D",
        "outputId": "a05114e4-51c4-4b6d-af6f-38e4085ce0ef"
      },
      "execution_count": null,
      "outputs": [
        {
          "output_type": "display_data",
          "data": {
            "text/plain": [
              "<Figure size 720x432 with 2 Axes>"
            ],
            "image/png": "[encoded data removed]"
          },
          "metadata": {}
        }
      ]
    },
    {
      "cell_type": "markdown",
      "source": [
        "* O modelo AdaBoost demonstrou um bom desempenho em identificar a maioria dos clientes que realmente vão cancelar o serviço, obtendo um Recall de 0.85 para essa classe.\n",
        "\n",
        "* A acurácia do modelo AdaBoost foi de 0.64. Podemos concluir que o desempenho do modelo nesse aspecto é moderado em geral.\n",
        "\n",
        "* O modelo AdaBoost obteve uma AUC de 0.71. A capacidade do modelo de distinguir entre clientes que cancelam e aqueles que permanecem é razoável, mas não excepcional."
      ],
      "metadata": {
        "id": "t7NkkSkOHHKh"
      }
    },
    {
      "cell_type": "markdown",
      "source": [
        "### **Avaliação de Desempenho do modelo SGD**\n",
        "\n",
        "Utilizaremos os hiperparâmetros otimizados anteriormente para treinar o modelo SGD. Em seguida, avaliaremos seu desempenho preditivo nos dados de teste, utilizando o Recall como a métrica principal. Outras métricas, como Accuracy e AUC, serão utilizadas como suporte para uma avaliação mais abrangente."
      ],
      "metadata": {
        "id": "2PGm_e15BR_Q"
      }
    },
    {
      "cell_type": "code",
      "source": [
        "sgd_params ={'alpha':0.0017776560138603548, 'penalty':'l2',\n",
        "             'max_iter':3616, 'learning_rate':'invscaling',\n",
        "             'eta0':0.0001, 'random_state':0}\n",
        "sgd_model = SGDClassifier(**sgd_params)\n",
        "sgd_model.fit(X_train_transform, y_train_smotenc)\n",
        "y_pred_sgd = sgd_model.predict(X_test_transform)\n",
        "y_pred_proba_sgd = sgd_model.decision_function(X_test_transform)\n",
        "roc_auc_sgd = roc_auc_score(y_test, y_pred_proba_sgd)\n",
        "print(classification_report(y_test, y_pred_sgd))\n",
        "print(f\"ROC AUC (SGD): {roc_auc_sgd}\")"
      ],
      "metadata": {
        "colab": {
          "base_uri": "https://localhost:8080/"
        },
        "id": "sG8gyi9KH7tM",
        "outputId": "a0774bbb-5c1d-44a2-eec7-c1a2b64b47d2"
      },
      "execution_count": null,
      "outputs": [
        {
          "output_type": "stream",
          "name": "stdout",
          "text": [
            "              precision    recall  f1-score   support\n",
            "\n",
            "           0       0.92      0.57      0.71      1041\n",
            "           1       0.42      0.86      0.56       368\n",
            "\n",
            "    accuracy                           0.65      1409\n",
            "   macro avg       0.67      0.72      0.63      1409\n",
            "weighted avg       0.79      0.65      0.67      1409\n",
            "\n",
            "ROC AUC (SGD): 0.8131630330367957\n"
          ]
        }
      ]
    },
    {
      "cell_type": "markdown",
      "source": [
        "Abaixo, iremos gerar uma matriz de confusão para visualizar o desempenho do modelo de SGD. A matriz de confusão nos permite observar a distribuição das previsões corretas e incorretas feitas pelo modelo, mostrando a relação entre os rótulos reais e os previstos."
      ],
      "metadata": {
        "id": "JV8rmNLA9xpz"
      }
    },
    {
      "cell_type": "code",
      "source": [
        "fig, ax = plt.subplots(figsize=(10, 6), dpi=72)\n",
        "sns.heatmap(confusion_matrix(y_test, y_pred_sgd, normalize='true'), annot=True, fmt='.2f', cmap='Blues')\n",
        "ax.set_xlabel('Predicted Labels')\n",
        "ax.set_ylabel('True Labels')\n",
        "ax.set_title('Confusion Matrix')\n",
        "plt.show()"
      ],
      "metadata": {
        "colab": {
          "base_uri": "https://localhost:8080/",
          "height": 411
        },
        "id": "2Jc9PgOV0OMH",
        "outputId": "66f59beb-9129-4c0f-b92a-c0414f9a84bd"
      },
      "execution_count": null,
      "outputs": [
        {
          "output_type": "display_data",
          "data": {
            "text/plain": [
              "<Figure size 720x432 with 2 Axes>"
            ],
            "image/png": "[encoded data removed]"
          },
          "metadata": {}
        }
      ]
    },
    {
      "cell_type": "markdown",
      "source": [
        "* Com um recall de 0,86, o modelo SGD demonstrou ser mais eficaz em identificar clientes que têm maior probabilidade de cancelar, em comparação com os outros modelos.\n",
        "\n",
        "* Além disso, a acurácia do modelo também se destacou, alcançando um valor de 0,65, superior ao dos demais.\n",
        "\n",
        "* Da mesma forma que ocorreu com o recall e a acurácia, o modelo SGD obteve o maior valor de AUC(0.81) entre os modelos, mostrando maior capacidade de discriminação entre as duas classes."
      ],
      "metadata": {
        "id": "_bOz_1s4PtU9"
      }
    },
    {
      "cell_type": "markdown",
      "source": [
        "### **Avaliação de Desempenho do Modelo LightGBM**\n",
        "utilizaremos os hiperparâmetros otimizados anteriormente para treinar o modelo LightGBM. Em seguida, avaliaremos seu desempenho preditivo nos dados de teste, utilizando o Recall como a métrica principal. Outras métricas, como Accuracy e AUC, serão utilizadas como suporte para uma avaliação mais abrangente"
      ],
      "metadata": {
        "id": "FfKFtc0DH6jg"
      }
    },
    {
      "cell_type": "code",
      "source": [
        "lgbm_params ={'num_leaves':2,'min_child_samples':100,\n",
        "              'learning_rate':0.001, 'subsample':0.05, 'random_state':0,\n",
        "              'colsample_bytree':0.8506362371846301,'n_estimators':385, 'verbose':0}\n",
        "lgbm_model = LGBMClassifier(**lgbm_params)\n",
        "lgbm_model.fit(X_train_transform, y_train_smotenc)\n",
        "y_pred_lgbm = lgbm_model.predict(X_test_transform)\n",
        "y_pred_proba_lgbm = lgbm_model.predict_proba(X_test_transform)[:, 1]\n",
        "roc_auc_lgbm = roc_auc_score(y_test, y_pred_proba_lgbm)\n",
        "print(classification_report(y_test, y_pred_lgbm))\n",
        "print(f\"ROC AUC (LightGBM): {roc_auc_lgbm}\")"
      ],
      "metadata": {
        "colab": {
          "base_uri": "https://localhost:8080/"
        },
        "id": "P63_EdUnICe3",
        "outputId": "a026e2a8-8859-4cfa-e2b2-bd452d7e0087"
      },
      "execution_count": null,
      "outputs": [
        {
          "output_type": "stream",
          "name": "stdout",
          "text": [
            "              precision    recall  f1-score   support\n",
            "\n",
            "           0       0.92      0.57      0.70      1041\n",
            "           1       0.41      0.85      0.56       368\n",
            "\n",
            "    accuracy                           0.64      1409\n",
            "   macro avg       0.66      0.71      0.63      1409\n",
            "weighted avg       0.78      0.64      0.66      1409\n",
            "\n",
            "ROC AUC (LightGBM): 0.7871520381739965\n"
          ]
        }
      ]
    },
    {
      "cell_type": "markdown",
      "source": [
        "Abaixo, iremos gerar uma matriz de confusão para visualizar o desempenho do modelo de LightGBM. A matriz de confusão nos permite observar a distribuição das previsões corretas e incorretas feitas pelo modelo, mostrando a relação entre os rótulos reais e os previstos."
      ],
      "metadata": {
        "id": "CccojULWy6bv"
      }
    },
    {
      "cell_type": "code",
      "source": [
        "fig, ax = plt.subplots(figsize=(10, 6), dpi=72)\n",
        "sns.heatmap(confusion_matrix(y_test, y_pred_lgbm, normalize='true'), annot=True, fmt='.2f', cmap='Blues')\n",
        "ax.set_xlabel('Predicted Labels')\n",
        "ax.set_ylabel('True Labels')\n",
        "ax.set_title('Confusion Matrix')\n",
        "plt.show()"
      ],
      "metadata": {
        "colab": {
          "base_uri": "https://localhost:8080/",
          "height": 411
        },
        "id": "zSY8Et-1pa6q",
        "outputId": "9e73f418-f6da-43b6-8cd1-c6fd7f0cca8b"
      },
      "execution_count": null,
      "outputs": [
        {
          "output_type": "display_data",
          "data": {
            "text/plain": [
              "<Figure size 720x432 with 2 Axes>"
            ],
            "image/png": "[encoded data removed]"
          },
          "metadata": {}
        }
      ]
    },
    {
      "cell_type": "markdown",
      "source": [
        "* O modelo LightGBM apresentou um recall de 0.85 para a classe de clientes que cancelam o serviço, desempenho semelhante ao do AdaBoost.\n",
        "\n",
        "* A acurácia (0.64) também é igual à do modelo AdaBoost, refletindo um desempenho moderado.\n",
        "\n",
        "* Com um AUC de 0.78, o LightGBM demonstra uma discriminação um pouco superior ao AdaBoost, mas ainda abaixo do nível alcançado pelo SGD."
      ],
      "metadata": {
        "id": "ULFqMe_Qca6n"
      }
    },
    {
      "cell_type": "markdown",
      "source": [
        "### **Avaliação de Desempenho do modelo XGBoost**\n",
        "\n",
        "Utilizaremos os hiperparâmetros otimizados anteriormente para treinar o modelo XGBoost. Em seguida, avaliaremos seu desempenho preditivo nos dados de teste, utilizando o Recall como a métrica principal. Outras métricas, como Accuracy e AUC, serão utilizadas como suporte para uma avaliação mais abrangente."
      ],
      "metadata": {
        "id": "x6KQIHlpB_Kk"
      }
    },
    {
      "cell_type": "code",
      "source": [
        "xgb_params ={'learning_rate':0.0003036601824788995, 'n_estimators':261,\n",
        "             'max_depth':1,'min_child_weight':3,'gamma':0.5257648608970887,\n",
        "             'random_state':0}\n",
        "xgb_model = XGBClassifier(**xgb_params)\n",
        "xgb_model.fit(X_train_transform, y_train_smotenc)\n",
        "y_pred_xgb = xgb_model.predict(X_test_transform)\n",
        "y_pred_proba_xgb = xgb_model.predict_proba(X_test_transform)[:, 1]\n",
        "roc_auc_xgb = roc_auc_score(y_test, y_pred_proba_xgb)\n",
        "print(classification_report(y_test, y_pred_xgb))\n",
        "print(f\"ROC AUC (XGB): {roc_auc_xgb}\")"
      ],
      "metadata": {
        "colab": {
          "base_uri": "https://localhost:8080/"
        },
        "id": "AjLhYiJpIojp",
        "outputId": "4c668b91-4f29-4873-cf26-f64bb82ba6b9"
      },
      "execution_count": null,
      "outputs": [
        {
          "output_type": "stream",
          "name": "stdout",
          "text": [
            "              precision    recall  f1-score   support\n",
            "\n",
            "           0       0.92      0.57      0.70      1041\n",
            "           1       0.41      0.85      0.56       368\n",
            "\n",
            "    accuracy                           0.64      1409\n",
            "   macro avg       0.66      0.71      0.63      1409\n",
            "weighted avg       0.78      0.64      0.66      1409\n",
            "\n",
            "ROC AUC (XGB): 0.7114527210458172\n"
          ]
        }
      ]
    },
    {
      "cell_type": "markdown",
      "source": [
        "Abaixo, iremos gerar uma matriz de confusão para visualizar o desempenho do modelo de XGBoost. A matriz de confusão nos permite observar a distribuição das previsões corretas e incorretas feitas pelo modelo, mostrando a relação entre os rótulos reais e os previstos."
      ],
      "metadata": {
        "id": "KMZN-zlP9ude"
      }
    },
    {
      "cell_type": "code",
      "source": [
        "fig, ax = plt.subplots(figsize=(10, 6), dpi=72)\n",
        "sns.heatmap(confusion_matrix(y_test, y_pred_xgb, normalize='true'), annot=True, fmt='.2f', cmap='Blues')\n",
        "ax.set_xlabel('Predicted Labels')\n",
        "ax.set_ylabel('True Labels')\n",
        "ax.set_title('Confusion Matrix')\n",
        "plt.show()"
      ],
      "metadata": {
        "colab": {
          "base_uri": "https://localhost:8080/",
          "height": 411
        },
        "id": "Bx5Cdzib1tiA",
        "outputId": "a8f9130e-ffae-4bd7-ad9a-f52f9fe8af9d"
      },
      "execution_count": null,
      "outputs": [
        {
          "output_type": "display_data",
          "data": {
            "text/plain": [
              "<Figure size 720x432 with 2 Axes>"
            ],
            "image/png": "[encoded data removed]"
          },
          "metadata": {}
        }
      ]
    },
    {
      "cell_type": "markdown",
      "source": [
        "* Com um recall de 0,85, o modelo XGBoost mostrou a mesma capacidade que os modelos AdaBoost e LightGBM na identificação de clientes que cancelarão o serviço.\n",
        "\n",
        "* Em termos de acurácia, também obteve um valor similar aos outros dois modelos, alcançando 0,64.\n",
        "\n",
        "* Além disso, o XGBoost apresentou uma precisão de 0,71, semelhante ao AdaBoost."
      ],
      "metadata": {
        "id": "IGE7JktoDubX"
      }
    },
    {
      "cell_type": "markdown",
      "source": [
        "###**Salvando o modelo**\n",
        "\n",
        "O Nosso modelo já está treinado e pronto para fazer novas previsões. No entanto, ele ainda está \"preso\" ao kernel do Google Colab. Sempre que quisermos fazer uma previsão, imagine ter que executar todas as células novamente. Seria inviável! Para facilitar a exportação do modelo de machine learning utilizaremos a biblioteca `joblib`."
      ],
      "metadata": {
        "id": "VcWzQtChgIUk"
      }
    },
    {
      "cell_type": "code",
      "source": [
        "dump(scaler, 'scaler.joblib')\n",
        "dump(encoder, 'encoder.joblib')\n",
        "dump(sgd_model, 'model.joblib')\n",
        "dump(X_train_transform.columns.values, 'features.names')"
      ],
      "metadata": {
        "id": "xaxzSmdXj1Ia",
        "colab": {
          "base_uri": "https://localhost:8080/"
        },
        "outputId": "a7504b2c-685b-44ed-d875-bb673a36ea76"
      },
      "execution_count": null,
      "outputs": [
        {
          "output_type": "execute_result",
          "data": {
            "text/plain": [
              "['features.names']"
            ]
          },
          "metadata": {},
          "execution_count": 46
        }
      ]
    }
  ],
  "metadata": {
    "colab": {
      "provenance": [],
      "authorship_tag": "ABX9TyM+mryZK6bdjGFbHezZFxHD",
      "include_colab_link": true
    },
    "kernelspec": {
      "display_name": "Python 3",
      "name": "python3"
    },
    "language_info": {
      "name": "python"
    }
  },
  "nbformat": 4,
  "nbformat_minor": 0
}